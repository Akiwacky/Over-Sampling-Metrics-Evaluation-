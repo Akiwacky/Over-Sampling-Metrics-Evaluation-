{
  "nbformat": 4,
  "nbformat_minor": 0,
  "metadata": {
    "colab": {
      "name": "Metrics Evaluation Over SamplingAnalysis with Classification.ipynb",
      "provenance": [],
      "collapsed_sections": [
        "bKDyNJBlQmna",
        "OekN-kt8QwRg",
        "CenjTKlAZfiy",
        "bU4sAadzbTgG",
        "sWarsa_yeX0H",
        "-fGjhHpYj3jC",
        "lMwISEq_8XDA",
        "9CDvynt6pY-u",
        "gWVx9AlnueRD",
        "9Mht59O8IN1Z",
        "v40BzPz_NSDj",
        "DwmMibf0Pg8a",
        "dBKa_cuSb2Ru",
        "7LJ_ix2HDVIO",
        "qFkVxUsgAfEZ"
      ],
      "authorship_tag": "ABX9TyPTyqmIyhHKEsT1gaJhGCfG"
    },
    "kernelspec": {
      "name": "python3",
      "display_name": "Python 3"
    },
    "language_info": {
      "name": "python"
    }
  },
  "cells": [
    {
      "cell_type": "markdown",
      "source": [
        "# DataSet"
      ],
      "metadata": {
        "id": "bKDyNJBlQmna"
      }
    },
    {
      "cell_type": "code",
      "execution_count": null,
      "metadata": {
        "id": "lxEBibKkO2h-"
      },
      "outputs": [],
      "source": [
        "# https://www.kaggle.com/datasets/blastchar/telco-customer-churn"
      ]
    },
    {
      "cell_type": "markdown",
      "source": [
        "# Imports"
      ],
      "metadata": {
        "id": "OekN-kt8QwRg"
      }
    },
    {
      "cell_type": "code",
      "source": [
        "import pandas as pd\n",
        "import numpy as np \n",
        "import matplotlib.pyplot as plt"
      ],
      "metadata": {
        "id": "YBxHRI12Q6S6"
      },
      "execution_count": null,
      "outputs": []
    },
    {
      "cell_type": "markdown",
      "source": [
        "# Data Collection"
      ],
      "metadata": {
        "id": "CenjTKlAZfiy"
      }
    },
    {
      "cell_type": "code",
      "source": [
        "df = pd.read_csv('Churn.csv')\n",
        "df.head()"
      ],
      "metadata": {
        "colab": {
          "base_uri": "https://localhost:8080/",
          "height": 349
        },
        "id": "d-t30bKTQyiB",
        "outputId": "2de8fb17-62b2-44c7-9506-5712a03eb264"
      },
      "execution_count": null,
      "outputs": [
        {
          "output_type": "execute_result",
          "data": {
            "text/plain": [
              "   customerID  gender  SeniorCitizen Partner Dependents  tenure PhoneService  \\\n",
              "0  7590-VHVEG  Female              0     Yes         No       1           No   \n",
              "1  5575-GNVDE    Male              0      No         No      34          Yes   \n",
              "2  3668-QPYBK    Male              0      No         No       2          Yes   \n",
              "3  7795-CFOCW    Male              0      No         No      45           No   \n",
              "4  9237-HQITU  Female              0      No         No       2          Yes   \n",
              "\n",
              "      MultipleLines InternetService OnlineSecurity  ... DeviceProtection  \\\n",
              "0  No phone service             DSL             No  ...               No   \n",
              "1                No             DSL            Yes  ...              Yes   \n",
              "2                No             DSL            Yes  ...               No   \n",
              "3  No phone service             DSL            Yes  ...              Yes   \n",
              "4                No     Fiber optic             No  ...               No   \n",
              "\n",
              "  TechSupport StreamingTV StreamingMovies        Contract PaperlessBilling  \\\n",
              "0          No          No              No  Month-to-month              Yes   \n",
              "1          No          No              No        One year               No   \n",
              "2          No          No              No  Month-to-month              Yes   \n",
              "3         Yes          No              No        One year               No   \n",
              "4          No          No              No  Month-to-month              Yes   \n",
              "\n",
              "               PaymentMethod MonthlyCharges  TotalCharges Churn  \n",
              "0           Electronic check          29.85         29.85    No  \n",
              "1               Mailed check          56.95        1889.5    No  \n",
              "2               Mailed check          53.85        108.15   Yes  \n",
              "3  Bank transfer (automatic)          42.30       1840.75    No  \n",
              "4           Electronic check          70.70        151.65   Yes  \n",
              "\n",
              "[5 rows x 21 columns]"
            ],
            "text/html": [
              "\n",
              "  <div id=\"df-c3dabe61-505e-44ad-b66e-0c0261f9a9bf\">\n",
              "    <div class=\"colab-df-container\">\n",
              "      <div>\n",
              "<style scoped>\n",
              "    .dataframe tbody tr th:only-of-type {\n",
              "        vertical-align: middle;\n",
              "    }\n",
              "\n",
              "    .dataframe tbody tr th {\n",
              "        vertical-align: top;\n",
              "    }\n",
              "\n",
              "    .dataframe thead th {\n",
              "        text-align: right;\n",
              "    }\n",
              "</style>\n",
              "<table border=\"1\" class=\"dataframe\">\n",
              "  <thead>\n",
              "    <tr style=\"text-align: right;\">\n",
              "      <th></th>\n",
              "      <th>customerID</th>\n",
              "      <th>gender</th>\n",
              "      <th>SeniorCitizen</th>\n",
              "      <th>Partner</th>\n",
              "      <th>Dependents</th>\n",
              "      <th>tenure</th>\n",
              "      <th>PhoneService</th>\n",
              "      <th>MultipleLines</th>\n",
              "      <th>InternetService</th>\n",
              "      <th>OnlineSecurity</th>\n",
              "      <th>...</th>\n",
              "      <th>DeviceProtection</th>\n",
              "      <th>TechSupport</th>\n",
              "      <th>StreamingTV</th>\n",
              "      <th>StreamingMovies</th>\n",
              "      <th>Contract</th>\n",
              "      <th>PaperlessBilling</th>\n",
              "      <th>PaymentMethod</th>\n",
              "      <th>MonthlyCharges</th>\n",
              "      <th>TotalCharges</th>\n",
              "      <th>Churn</th>\n",
              "    </tr>\n",
              "  </thead>\n",
              "  <tbody>\n",
              "    <tr>\n",
              "      <th>0</th>\n",
              "      <td>7590-VHVEG</td>\n",
              "      <td>Female</td>\n",
              "      <td>0</td>\n",
              "      <td>Yes</td>\n",
              "      <td>No</td>\n",
              "      <td>1</td>\n",
              "      <td>No</td>\n",
              "      <td>No phone service</td>\n",
              "      <td>DSL</td>\n",
              "      <td>No</td>\n",
              "      <td>...</td>\n",
              "      <td>No</td>\n",
              "      <td>No</td>\n",
              "      <td>No</td>\n",
              "      <td>No</td>\n",
              "      <td>Month-to-month</td>\n",
              "      <td>Yes</td>\n",
              "      <td>Electronic check</td>\n",
              "      <td>29.85</td>\n",
              "      <td>29.85</td>\n",
              "      <td>No</td>\n",
              "    </tr>\n",
              "    <tr>\n",
              "      <th>1</th>\n",
              "      <td>5575-GNVDE</td>\n",
              "      <td>Male</td>\n",
              "      <td>0</td>\n",
              "      <td>No</td>\n",
              "      <td>No</td>\n",
              "      <td>34</td>\n",
              "      <td>Yes</td>\n",
              "      <td>No</td>\n",
              "      <td>DSL</td>\n",
              "      <td>Yes</td>\n",
              "      <td>...</td>\n",
              "      <td>Yes</td>\n",
              "      <td>No</td>\n",
              "      <td>No</td>\n",
              "      <td>No</td>\n",
              "      <td>One year</td>\n",
              "      <td>No</td>\n",
              "      <td>Mailed check</td>\n",
              "      <td>56.95</td>\n",
              "      <td>1889.5</td>\n",
              "      <td>No</td>\n",
              "    </tr>\n",
              "    <tr>\n",
              "      <th>2</th>\n",
              "      <td>3668-QPYBK</td>\n",
              "      <td>Male</td>\n",
              "      <td>0</td>\n",
              "      <td>No</td>\n",
              "      <td>No</td>\n",
              "      <td>2</td>\n",
              "      <td>Yes</td>\n",
              "      <td>No</td>\n",
              "      <td>DSL</td>\n",
              "      <td>Yes</td>\n",
              "      <td>...</td>\n",
              "      <td>No</td>\n",
              "      <td>No</td>\n",
              "      <td>No</td>\n",
              "      <td>No</td>\n",
              "      <td>Month-to-month</td>\n",
              "      <td>Yes</td>\n",
              "      <td>Mailed check</td>\n",
              "      <td>53.85</td>\n",
              "      <td>108.15</td>\n",
              "      <td>Yes</td>\n",
              "    </tr>\n",
              "    <tr>\n",
              "      <th>3</th>\n",
              "      <td>7795-CFOCW</td>\n",
              "      <td>Male</td>\n",
              "      <td>0</td>\n",
              "      <td>No</td>\n",
              "      <td>No</td>\n",
              "      <td>45</td>\n",
              "      <td>No</td>\n",
              "      <td>No phone service</td>\n",
              "      <td>DSL</td>\n",
              "      <td>Yes</td>\n",
              "      <td>...</td>\n",
              "      <td>Yes</td>\n",
              "      <td>Yes</td>\n",
              "      <td>No</td>\n",
              "      <td>No</td>\n",
              "      <td>One year</td>\n",
              "      <td>No</td>\n",
              "      <td>Bank transfer (automatic)</td>\n",
              "      <td>42.30</td>\n",
              "      <td>1840.75</td>\n",
              "      <td>No</td>\n",
              "    </tr>\n",
              "    <tr>\n",
              "      <th>4</th>\n",
              "      <td>9237-HQITU</td>\n",
              "      <td>Female</td>\n",
              "      <td>0</td>\n",
              "      <td>No</td>\n",
              "      <td>No</td>\n",
              "      <td>2</td>\n",
              "      <td>Yes</td>\n",
              "      <td>No</td>\n",
              "      <td>Fiber optic</td>\n",
              "      <td>No</td>\n",
              "      <td>...</td>\n",
              "      <td>No</td>\n",
              "      <td>No</td>\n",
              "      <td>No</td>\n",
              "      <td>No</td>\n",
              "      <td>Month-to-month</td>\n",
              "      <td>Yes</td>\n",
              "      <td>Electronic check</td>\n",
              "      <td>70.70</td>\n",
              "      <td>151.65</td>\n",
              "      <td>Yes</td>\n",
              "    </tr>\n",
              "  </tbody>\n",
              "</table>\n",
              "<p>5 rows × 21 columns</p>\n",
              "</div>\n",
              "      <button class=\"colab-df-convert\" onclick=\"convertToInteractive('df-c3dabe61-505e-44ad-b66e-0c0261f9a9bf')\"\n",
              "              title=\"Convert this dataframe to an interactive table.\"\n",
              "              style=\"display:none;\">\n",
              "        \n",
              "  <svg xmlns=\"http://www.w3.org/2000/svg\" height=\"24px\"viewBox=\"0 0 24 24\"\n",
              "       width=\"24px\">\n",
              "    <path d=\"M0 0h24v24H0V0z\" fill=\"none\"/>\n",
              "    <path d=\"M18.56 5.44l.94 2.06.94-2.06 2.06-.94-2.06-.94-.94-2.06-.94 2.06-2.06.94zm-11 1L8.5 8.5l.94-2.06 2.06-.94-2.06-.94L8.5 2.5l-.94 2.06-2.06.94zm10 10l.94 2.06.94-2.06 2.06-.94-2.06-.94-.94-2.06-.94 2.06-2.06.94z\"/><path d=\"M17.41 7.96l-1.37-1.37c-.4-.4-.92-.59-1.43-.59-.52 0-1.04.2-1.43.59L10.3 9.45l-7.72 7.72c-.78.78-.78 2.05 0 2.83L4 21.41c.39.39.9.59 1.41.59.51 0 1.02-.2 1.41-.59l7.78-7.78 2.81-2.81c.8-.78.8-2.07 0-2.86zM5.41 20L4 18.59l7.72-7.72 1.47 1.35L5.41 20z\"/>\n",
              "  </svg>\n",
              "      </button>\n",
              "      \n",
              "  <style>\n",
              "    .colab-df-container {\n",
              "      display:flex;\n",
              "      flex-wrap:wrap;\n",
              "      gap: 12px;\n",
              "    }\n",
              "\n",
              "    .colab-df-convert {\n",
              "      background-color: #E8F0FE;\n",
              "      border: none;\n",
              "      border-radius: 50%;\n",
              "      cursor: pointer;\n",
              "      display: none;\n",
              "      fill: #1967D2;\n",
              "      height: 32px;\n",
              "      padding: 0 0 0 0;\n",
              "      width: 32px;\n",
              "    }\n",
              "\n",
              "    .colab-df-convert:hover {\n",
              "      background-color: #E2EBFA;\n",
              "      box-shadow: 0px 1px 2px rgba(60, 64, 67, 0.3), 0px 1px 3px 1px rgba(60, 64, 67, 0.15);\n",
              "      fill: #174EA6;\n",
              "    }\n",
              "\n",
              "    [theme=dark] .colab-df-convert {\n",
              "      background-color: #3B4455;\n",
              "      fill: #D2E3FC;\n",
              "    }\n",
              "\n",
              "    [theme=dark] .colab-df-convert:hover {\n",
              "      background-color: #434B5C;\n",
              "      box-shadow: 0px 1px 3px 1px rgba(0, 0, 0, 0.15);\n",
              "      filter: drop-shadow(0px 1px 2px rgba(0, 0, 0, 0.3));\n",
              "      fill: #FFFFFF;\n",
              "    }\n",
              "  </style>\n",
              "\n",
              "      <script>\n",
              "        const buttonEl =\n",
              "          document.querySelector('#df-c3dabe61-505e-44ad-b66e-0c0261f9a9bf button.colab-df-convert');\n",
              "        buttonEl.style.display =\n",
              "          google.colab.kernel.accessAllowed ? 'block' : 'none';\n",
              "\n",
              "        async function convertToInteractive(key) {\n",
              "          const element = document.querySelector('#df-c3dabe61-505e-44ad-b66e-0c0261f9a9bf');\n",
              "          const dataTable =\n",
              "            await google.colab.kernel.invokeFunction('convertToInteractive',\n",
              "                                                     [key], {});\n",
              "          if (!dataTable) return;\n",
              "\n",
              "          const docLinkHtml = 'Like what you see? Visit the ' +\n",
              "            '<a target=\"_blank\" href=https://colab.research.google.com/notebooks/data_table.ipynb>data table notebook</a>'\n",
              "            + ' to learn more about interactive tables.';\n",
              "          element.innerHTML = '';\n",
              "          dataTable['output_type'] = 'display_data';\n",
              "          await google.colab.output.renderOutput(dataTable, element);\n",
              "          const docLink = document.createElement('div');\n",
              "          docLink.innerHTML = docLinkHtml;\n",
              "          element.appendChild(docLink);\n",
              "        }\n",
              "      </script>\n",
              "    </div>\n",
              "  </div>\n",
              "  "
            ]
          },
          "metadata": {},
          "execution_count": 491
        }
      ]
    },
    {
      "cell_type": "code",
      "source": [
        "df.head().T"
      ],
      "metadata": {
        "colab": {
          "base_uri": "https://localhost:8080/",
          "height": 708
        },
        "id": "JXNbuMn5ZVLt",
        "outputId": "c1caf980-dbea-4301-f4ec-f8de53a28095"
      },
      "execution_count": null,
      "outputs": [
        {
          "output_type": "execute_result",
          "data": {
            "text/plain": [
              "                                 0             1               2  \\\n",
              "customerID              7590-VHVEG    5575-GNVDE      3668-QPYBK   \n",
              "gender                      Female          Male            Male   \n",
              "SeniorCitizen                    0             0               0   \n",
              "Partner                        Yes            No              No   \n",
              "Dependents                      No            No              No   \n",
              "tenure                           1            34               2   \n",
              "PhoneService                    No           Yes             Yes   \n",
              "MultipleLines     No phone service            No              No   \n",
              "InternetService                DSL           DSL             DSL   \n",
              "OnlineSecurity                  No           Yes             Yes   \n",
              "OnlineBackup                   Yes            No             Yes   \n",
              "DeviceProtection                No           Yes              No   \n",
              "TechSupport                     No            No              No   \n",
              "StreamingTV                     No            No              No   \n",
              "StreamingMovies                 No            No              No   \n",
              "Contract            Month-to-month      One year  Month-to-month   \n",
              "PaperlessBilling               Yes            No             Yes   \n",
              "PaymentMethod     Electronic check  Mailed check    Mailed check   \n",
              "MonthlyCharges               29.85         56.95           53.85   \n",
              "TotalCharges                 29.85        1889.5          108.15   \n",
              "Churn                           No            No             Yes   \n",
              "\n",
              "                                          3                 4  \n",
              "customerID                       7795-CFOCW        9237-HQITU  \n",
              "gender                                 Male            Female  \n",
              "SeniorCitizen                             0                 0  \n",
              "Partner                                  No                No  \n",
              "Dependents                               No                No  \n",
              "tenure                                   45                 2  \n",
              "PhoneService                             No               Yes  \n",
              "MultipleLines              No phone service                No  \n",
              "InternetService                         DSL       Fiber optic  \n",
              "OnlineSecurity                          Yes                No  \n",
              "OnlineBackup                             No                No  \n",
              "DeviceProtection                        Yes                No  \n",
              "TechSupport                             Yes                No  \n",
              "StreamingTV                              No                No  \n",
              "StreamingMovies                          No                No  \n",
              "Contract                           One year    Month-to-month  \n",
              "PaperlessBilling                         No               Yes  \n",
              "PaymentMethod     Bank transfer (automatic)  Electronic check  \n",
              "MonthlyCharges                         42.3              70.7  \n",
              "TotalCharges                        1840.75            151.65  \n",
              "Churn                                    No               Yes  "
            ],
            "text/html": [
              "\n",
              "  <div id=\"df-2066d1d5-c0cb-4b58-b026-678fd9d4294b\">\n",
              "    <div class=\"colab-df-container\">\n",
              "      <div>\n",
              "<style scoped>\n",
              "    .dataframe tbody tr th:only-of-type {\n",
              "        vertical-align: middle;\n",
              "    }\n",
              "\n",
              "    .dataframe tbody tr th {\n",
              "        vertical-align: top;\n",
              "    }\n",
              "\n",
              "    .dataframe thead th {\n",
              "        text-align: right;\n",
              "    }\n",
              "</style>\n",
              "<table border=\"1\" class=\"dataframe\">\n",
              "  <thead>\n",
              "    <tr style=\"text-align: right;\">\n",
              "      <th></th>\n",
              "      <th>0</th>\n",
              "      <th>1</th>\n",
              "      <th>2</th>\n",
              "      <th>3</th>\n",
              "      <th>4</th>\n",
              "    </tr>\n",
              "  </thead>\n",
              "  <tbody>\n",
              "    <tr>\n",
              "      <th>customerID</th>\n",
              "      <td>7590-VHVEG</td>\n",
              "      <td>5575-GNVDE</td>\n",
              "      <td>3668-QPYBK</td>\n",
              "      <td>7795-CFOCW</td>\n",
              "      <td>9237-HQITU</td>\n",
              "    </tr>\n",
              "    <tr>\n",
              "      <th>gender</th>\n",
              "      <td>Female</td>\n",
              "      <td>Male</td>\n",
              "      <td>Male</td>\n",
              "      <td>Male</td>\n",
              "      <td>Female</td>\n",
              "    </tr>\n",
              "    <tr>\n",
              "      <th>SeniorCitizen</th>\n",
              "      <td>0</td>\n",
              "      <td>0</td>\n",
              "      <td>0</td>\n",
              "      <td>0</td>\n",
              "      <td>0</td>\n",
              "    </tr>\n",
              "    <tr>\n",
              "      <th>Partner</th>\n",
              "      <td>Yes</td>\n",
              "      <td>No</td>\n",
              "      <td>No</td>\n",
              "      <td>No</td>\n",
              "      <td>No</td>\n",
              "    </tr>\n",
              "    <tr>\n",
              "      <th>Dependents</th>\n",
              "      <td>No</td>\n",
              "      <td>No</td>\n",
              "      <td>No</td>\n",
              "      <td>No</td>\n",
              "      <td>No</td>\n",
              "    </tr>\n",
              "    <tr>\n",
              "      <th>tenure</th>\n",
              "      <td>1</td>\n",
              "      <td>34</td>\n",
              "      <td>2</td>\n",
              "      <td>45</td>\n",
              "      <td>2</td>\n",
              "    </tr>\n",
              "    <tr>\n",
              "      <th>PhoneService</th>\n",
              "      <td>No</td>\n",
              "      <td>Yes</td>\n",
              "      <td>Yes</td>\n",
              "      <td>No</td>\n",
              "      <td>Yes</td>\n",
              "    </tr>\n",
              "    <tr>\n",
              "      <th>MultipleLines</th>\n",
              "      <td>No phone service</td>\n",
              "      <td>No</td>\n",
              "      <td>No</td>\n",
              "      <td>No phone service</td>\n",
              "      <td>No</td>\n",
              "    </tr>\n",
              "    <tr>\n",
              "      <th>InternetService</th>\n",
              "      <td>DSL</td>\n",
              "      <td>DSL</td>\n",
              "      <td>DSL</td>\n",
              "      <td>DSL</td>\n",
              "      <td>Fiber optic</td>\n",
              "    </tr>\n",
              "    <tr>\n",
              "      <th>OnlineSecurity</th>\n",
              "      <td>No</td>\n",
              "      <td>Yes</td>\n",
              "      <td>Yes</td>\n",
              "      <td>Yes</td>\n",
              "      <td>No</td>\n",
              "    </tr>\n",
              "    <tr>\n",
              "      <th>OnlineBackup</th>\n",
              "      <td>Yes</td>\n",
              "      <td>No</td>\n",
              "      <td>Yes</td>\n",
              "      <td>No</td>\n",
              "      <td>No</td>\n",
              "    </tr>\n",
              "    <tr>\n",
              "      <th>DeviceProtection</th>\n",
              "      <td>No</td>\n",
              "      <td>Yes</td>\n",
              "      <td>No</td>\n",
              "      <td>Yes</td>\n",
              "      <td>No</td>\n",
              "    </tr>\n",
              "    <tr>\n",
              "      <th>TechSupport</th>\n",
              "      <td>No</td>\n",
              "      <td>No</td>\n",
              "      <td>No</td>\n",
              "      <td>Yes</td>\n",
              "      <td>No</td>\n",
              "    </tr>\n",
              "    <tr>\n",
              "      <th>StreamingTV</th>\n",
              "      <td>No</td>\n",
              "      <td>No</td>\n",
              "      <td>No</td>\n",
              "      <td>No</td>\n",
              "      <td>No</td>\n",
              "    </tr>\n",
              "    <tr>\n",
              "      <th>StreamingMovies</th>\n",
              "      <td>No</td>\n",
              "      <td>No</td>\n",
              "      <td>No</td>\n",
              "      <td>No</td>\n",
              "      <td>No</td>\n",
              "    </tr>\n",
              "    <tr>\n",
              "      <th>Contract</th>\n",
              "      <td>Month-to-month</td>\n",
              "      <td>One year</td>\n",
              "      <td>Month-to-month</td>\n",
              "      <td>One year</td>\n",
              "      <td>Month-to-month</td>\n",
              "    </tr>\n",
              "    <tr>\n",
              "      <th>PaperlessBilling</th>\n",
              "      <td>Yes</td>\n",
              "      <td>No</td>\n",
              "      <td>Yes</td>\n",
              "      <td>No</td>\n",
              "      <td>Yes</td>\n",
              "    </tr>\n",
              "    <tr>\n",
              "      <th>PaymentMethod</th>\n",
              "      <td>Electronic check</td>\n",
              "      <td>Mailed check</td>\n",
              "      <td>Mailed check</td>\n",
              "      <td>Bank transfer (automatic)</td>\n",
              "      <td>Electronic check</td>\n",
              "    </tr>\n",
              "    <tr>\n",
              "      <th>MonthlyCharges</th>\n",
              "      <td>29.85</td>\n",
              "      <td>56.95</td>\n",
              "      <td>53.85</td>\n",
              "      <td>42.3</td>\n",
              "      <td>70.7</td>\n",
              "    </tr>\n",
              "    <tr>\n",
              "      <th>TotalCharges</th>\n",
              "      <td>29.85</td>\n",
              "      <td>1889.5</td>\n",
              "      <td>108.15</td>\n",
              "      <td>1840.75</td>\n",
              "      <td>151.65</td>\n",
              "    </tr>\n",
              "    <tr>\n",
              "      <th>Churn</th>\n",
              "      <td>No</td>\n",
              "      <td>No</td>\n",
              "      <td>Yes</td>\n",
              "      <td>No</td>\n",
              "      <td>Yes</td>\n",
              "    </tr>\n",
              "  </tbody>\n",
              "</table>\n",
              "</div>\n",
              "      <button class=\"colab-df-convert\" onclick=\"convertToInteractive('df-2066d1d5-c0cb-4b58-b026-678fd9d4294b')\"\n",
              "              title=\"Convert this dataframe to an interactive table.\"\n",
              "              style=\"display:none;\">\n",
              "        \n",
              "  <svg xmlns=\"http://www.w3.org/2000/svg\" height=\"24px\"viewBox=\"0 0 24 24\"\n",
              "       width=\"24px\">\n",
              "    <path d=\"M0 0h24v24H0V0z\" fill=\"none\"/>\n",
              "    <path d=\"M18.56 5.44l.94 2.06.94-2.06 2.06-.94-2.06-.94-.94-2.06-.94 2.06-2.06.94zm-11 1L8.5 8.5l.94-2.06 2.06-.94-2.06-.94L8.5 2.5l-.94 2.06-2.06.94zm10 10l.94 2.06.94-2.06 2.06-.94-2.06-.94-.94-2.06-.94 2.06-2.06.94z\"/><path d=\"M17.41 7.96l-1.37-1.37c-.4-.4-.92-.59-1.43-.59-.52 0-1.04.2-1.43.59L10.3 9.45l-7.72 7.72c-.78.78-.78 2.05 0 2.83L4 21.41c.39.39.9.59 1.41.59.51 0 1.02-.2 1.41-.59l7.78-7.78 2.81-2.81c.8-.78.8-2.07 0-2.86zM5.41 20L4 18.59l7.72-7.72 1.47 1.35L5.41 20z\"/>\n",
              "  </svg>\n",
              "      </button>\n",
              "      \n",
              "  <style>\n",
              "    .colab-df-container {\n",
              "      display:flex;\n",
              "      flex-wrap:wrap;\n",
              "      gap: 12px;\n",
              "    }\n",
              "\n",
              "    .colab-df-convert {\n",
              "      background-color: #E8F0FE;\n",
              "      border: none;\n",
              "      border-radius: 50%;\n",
              "      cursor: pointer;\n",
              "      display: none;\n",
              "      fill: #1967D2;\n",
              "      height: 32px;\n",
              "      padding: 0 0 0 0;\n",
              "      width: 32px;\n",
              "    }\n",
              "\n",
              "    .colab-df-convert:hover {\n",
              "      background-color: #E2EBFA;\n",
              "      box-shadow: 0px 1px 2px rgba(60, 64, 67, 0.3), 0px 1px 3px 1px rgba(60, 64, 67, 0.15);\n",
              "      fill: #174EA6;\n",
              "    }\n",
              "\n",
              "    [theme=dark] .colab-df-convert {\n",
              "      background-color: #3B4455;\n",
              "      fill: #D2E3FC;\n",
              "    }\n",
              "\n",
              "    [theme=dark] .colab-df-convert:hover {\n",
              "      background-color: #434B5C;\n",
              "      box-shadow: 0px 1px 3px 1px rgba(0, 0, 0, 0.15);\n",
              "      filter: drop-shadow(0px 1px 2px rgba(0, 0, 0, 0.3));\n",
              "      fill: #FFFFFF;\n",
              "    }\n",
              "  </style>\n",
              "\n",
              "      <script>\n",
              "        const buttonEl =\n",
              "          document.querySelector('#df-2066d1d5-c0cb-4b58-b026-678fd9d4294b button.colab-df-convert');\n",
              "        buttonEl.style.display =\n",
              "          google.colab.kernel.accessAllowed ? 'block' : 'none';\n",
              "\n",
              "        async function convertToInteractive(key) {\n",
              "          const element = document.querySelector('#df-2066d1d5-c0cb-4b58-b026-678fd9d4294b');\n",
              "          const dataTable =\n",
              "            await google.colab.kernel.invokeFunction('convertToInteractive',\n",
              "                                                     [key], {});\n",
              "          if (!dataTable) return;\n",
              "\n",
              "          const docLinkHtml = 'Like what you see? Visit the ' +\n",
              "            '<a target=\"_blank\" href=https://colab.research.google.com/notebooks/data_table.ipynb>data table notebook</a>'\n",
              "            + ' to learn more about interactive tables.';\n",
              "          element.innerHTML = '';\n",
              "          dataTable['output_type'] = 'display_data';\n",
              "          await google.colab.output.renderOutput(dataTable, element);\n",
              "          const docLink = document.createElement('div');\n",
              "          docLink.innerHTML = docLinkHtml;\n",
              "          element.appendChild(docLink);\n",
              "        }\n",
              "      </script>\n",
              "    </div>\n",
              "  </div>\n",
              "  "
            ]
          },
          "metadata": {},
          "execution_count": 492
        }
      ]
    },
    {
      "cell_type": "code",
      "source": [
        "def clean_dataframe(df):\n",
        "  \"\"\"\n",
        "  Retrieves dataframe and converts all columns to lower case and replaces\n",
        "  any spaces with underscores. It also does the same with an object columns\n",
        "  \"\"\"\n",
        "  df.columns = df.columns.str.lower().str.replace(' ', '_')\n",
        "  categorical_columns = list(df.dtypes[df.dtypes == 'object'].index)\n",
        "\n",
        "  for c in categorical_columns:\n",
        "    df[c] = df[c].str.lower().str.replace(' ', '_')\n",
        "  \n",
        "  return df"
      ],
      "metadata": {
        "id": "Osx49T0GZw8r"
      },
      "execution_count": null,
      "outputs": []
    },
    {
      "cell_type": "code",
      "source": [
        "df = clean_dataframe(df)\n",
        "df.sample(1).T"
      ],
      "metadata": {
        "colab": {
          "base_uri": "https://localhost:8080/",
          "height": 708
        },
        "id": "-zYnOUHIa9ci",
        "outputId": "1f579a72-d6eb-4838-af51-712e03df427e"
      },
      "execution_count": null,
      "outputs": [
        {
          "output_type": "execute_result",
          "data": {
            "text/plain": [
              "                              1425\n",
              "customerid              7077-xjmet\n",
              "gender                        male\n",
              "seniorcitizen                    0\n",
              "partner                        yes\n",
              "dependents                      no\n",
              "tenure                          12\n",
              "phoneservice                   yes\n",
              "multiplelines                   no\n",
              "internetservice                dsl\n",
              "onlinesecurity                  no\n",
              "onlinebackup                    no\n",
              "deviceprotection               yes\n",
              "techsupport                    yes\n",
              "streamingtv                    yes\n",
              "streamingmovies                yes\n",
              "contract            month-to-month\n",
              "paperlessbilling               yes\n",
              "paymentmethod     electronic_check\n",
              "monthlycharges               74.15\n",
              "totalcharges                 741.4\n",
              "churn                           no"
            ],
            "text/html": [
              "\n",
              "  <div id=\"df-2b7bc181-3255-4d06-b443-6031a78cac15\">\n",
              "    <div class=\"colab-df-container\">\n",
              "      <div>\n",
              "<style scoped>\n",
              "    .dataframe tbody tr th:only-of-type {\n",
              "        vertical-align: middle;\n",
              "    }\n",
              "\n",
              "    .dataframe tbody tr th {\n",
              "        vertical-align: top;\n",
              "    }\n",
              "\n",
              "    .dataframe thead th {\n",
              "        text-align: right;\n",
              "    }\n",
              "</style>\n",
              "<table border=\"1\" class=\"dataframe\">\n",
              "  <thead>\n",
              "    <tr style=\"text-align: right;\">\n",
              "      <th></th>\n",
              "      <th>1425</th>\n",
              "    </tr>\n",
              "  </thead>\n",
              "  <tbody>\n",
              "    <tr>\n",
              "      <th>customerid</th>\n",
              "      <td>7077-xjmet</td>\n",
              "    </tr>\n",
              "    <tr>\n",
              "      <th>gender</th>\n",
              "      <td>male</td>\n",
              "    </tr>\n",
              "    <tr>\n",
              "      <th>seniorcitizen</th>\n",
              "      <td>0</td>\n",
              "    </tr>\n",
              "    <tr>\n",
              "      <th>partner</th>\n",
              "      <td>yes</td>\n",
              "    </tr>\n",
              "    <tr>\n",
              "      <th>dependents</th>\n",
              "      <td>no</td>\n",
              "    </tr>\n",
              "    <tr>\n",
              "      <th>tenure</th>\n",
              "      <td>12</td>\n",
              "    </tr>\n",
              "    <tr>\n",
              "      <th>phoneservice</th>\n",
              "      <td>yes</td>\n",
              "    </tr>\n",
              "    <tr>\n",
              "      <th>multiplelines</th>\n",
              "      <td>no</td>\n",
              "    </tr>\n",
              "    <tr>\n",
              "      <th>internetservice</th>\n",
              "      <td>dsl</td>\n",
              "    </tr>\n",
              "    <tr>\n",
              "      <th>onlinesecurity</th>\n",
              "      <td>no</td>\n",
              "    </tr>\n",
              "    <tr>\n",
              "      <th>onlinebackup</th>\n",
              "      <td>no</td>\n",
              "    </tr>\n",
              "    <tr>\n",
              "      <th>deviceprotection</th>\n",
              "      <td>yes</td>\n",
              "    </tr>\n",
              "    <tr>\n",
              "      <th>techsupport</th>\n",
              "      <td>yes</td>\n",
              "    </tr>\n",
              "    <tr>\n",
              "      <th>streamingtv</th>\n",
              "      <td>yes</td>\n",
              "    </tr>\n",
              "    <tr>\n",
              "      <th>streamingmovies</th>\n",
              "      <td>yes</td>\n",
              "    </tr>\n",
              "    <tr>\n",
              "      <th>contract</th>\n",
              "      <td>month-to-month</td>\n",
              "    </tr>\n",
              "    <tr>\n",
              "      <th>paperlessbilling</th>\n",
              "      <td>yes</td>\n",
              "    </tr>\n",
              "    <tr>\n",
              "      <th>paymentmethod</th>\n",
              "      <td>electronic_check</td>\n",
              "    </tr>\n",
              "    <tr>\n",
              "      <th>monthlycharges</th>\n",
              "      <td>74.15</td>\n",
              "    </tr>\n",
              "    <tr>\n",
              "      <th>totalcharges</th>\n",
              "      <td>741.4</td>\n",
              "    </tr>\n",
              "    <tr>\n",
              "      <th>churn</th>\n",
              "      <td>no</td>\n",
              "    </tr>\n",
              "  </tbody>\n",
              "</table>\n",
              "</div>\n",
              "      <button class=\"colab-df-convert\" onclick=\"convertToInteractive('df-2b7bc181-3255-4d06-b443-6031a78cac15')\"\n",
              "              title=\"Convert this dataframe to an interactive table.\"\n",
              "              style=\"display:none;\">\n",
              "        \n",
              "  <svg xmlns=\"http://www.w3.org/2000/svg\" height=\"24px\"viewBox=\"0 0 24 24\"\n",
              "       width=\"24px\">\n",
              "    <path d=\"M0 0h24v24H0V0z\" fill=\"none\"/>\n",
              "    <path d=\"M18.56 5.44l.94 2.06.94-2.06 2.06-.94-2.06-.94-.94-2.06-.94 2.06-2.06.94zm-11 1L8.5 8.5l.94-2.06 2.06-.94-2.06-.94L8.5 2.5l-.94 2.06-2.06.94zm10 10l.94 2.06.94-2.06 2.06-.94-2.06-.94-.94-2.06-.94 2.06-2.06.94z\"/><path d=\"M17.41 7.96l-1.37-1.37c-.4-.4-.92-.59-1.43-.59-.52 0-1.04.2-1.43.59L10.3 9.45l-7.72 7.72c-.78.78-.78 2.05 0 2.83L4 21.41c.39.39.9.59 1.41.59.51 0 1.02-.2 1.41-.59l7.78-7.78 2.81-2.81c.8-.78.8-2.07 0-2.86zM5.41 20L4 18.59l7.72-7.72 1.47 1.35L5.41 20z\"/>\n",
              "  </svg>\n",
              "      </button>\n",
              "      \n",
              "  <style>\n",
              "    .colab-df-container {\n",
              "      display:flex;\n",
              "      flex-wrap:wrap;\n",
              "      gap: 12px;\n",
              "    }\n",
              "\n",
              "    .colab-df-convert {\n",
              "      background-color: #E8F0FE;\n",
              "      border: none;\n",
              "      border-radius: 50%;\n",
              "      cursor: pointer;\n",
              "      display: none;\n",
              "      fill: #1967D2;\n",
              "      height: 32px;\n",
              "      padding: 0 0 0 0;\n",
              "      width: 32px;\n",
              "    }\n",
              "\n",
              "    .colab-df-convert:hover {\n",
              "      background-color: #E2EBFA;\n",
              "      box-shadow: 0px 1px 2px rgba(60, 64, 67, 0.3), 0px 1px 3px 1px rgba(60, 64, 67, 0.15);\n",
              "      fill: #174EA6;\n",
              "    }\n",
              "\n",
              "    [theme=dark] .colab-df-convert {\n",
              "      background-color: #3B4455;\n",
              "      fill: #D2E3FC;\n",
              "    }\n",
              "\n",
              "    [theme=dark] .colab-df-convert:hover {\n",
              "      background-color: #434B5C;\n",
              "      box-shadow: 0px 1px 3px 1px rgba(0, 0, 0, 0.15);\n",
              "      filter: drop-shadow(0px 1px 2px rgba(0, 0, 0, 0.3));\n",
              "      fill: #FFFFFF;\n",
              "    }\n",
              "  </style>\n",
              "\n",
              "      <script>\n",
              "        const buttonEl =\n",
              "          document.querySelector('#df-2b7bc181-3255-4d06-b443-6031a78cac15 button.colab-df-convert');\n",
              "        buttonEl.style.display =\n",
              "          google.colab.kernel.accessAllowed ? 'block' : 'none';\n",
              "\n",
              "        async function convertToInteractive(key) {\n",
              "          const element = document.querySelector('#df-2b7bc181-3255-4d06-b443-6031a78cac15');\n",
              "          const dataTable =\n",
              "            await google.colab.kernel.invokeFunction('convertToInteractive',\n",
              "                                                     [key], {});\n",
              "          if (!dataTable) return;\n",
              "\n",
              "          const docLinkHtml = 'Like what you see? Visit the ' +\n",
              "            '<a target=\"_blank\" href=https://colab.research.google.com/notebooks/data_table.ipynb>data table notebook</a>'\n",
              "            + ' to learn more about interactive tables.';\n",
              "          element.innerHTML = '';\n",
              "          dataTable['output_type'] = 'display_data';\n",
              "          await google.colab.output.renderOutput(dataTable, element);\n",
              "          const docLink = document.createElement('div');\n",
              "          docLink.innerHTML = docLinkHtml;\n",
              "          element.appendChild(docLink);\n",
              "        }\n",
              "      </script>\n",
              "    </div>\n",
              "  </div>\n",
              "  "
            ]
          },
          "metadata": {},
          "execution_count": 494
        }
      ]
    },
    {
      "cell_type": "markdown",
      "source": [
        "# Inital Preprocessing\n",
        "* Check Data Types - Are they the correct data types \n",
        "* Get Info \n",
        "* Describe Data \n"
      ],
      "metadata": {
        "id": "bU4sAadzbTgG"
      }
    },
    {
      "cell_type": "markdown",
      "source": [
        "## Data Types"
      ],
      "metadata": {
        "id": "G8VGoVpWeAch"
      }
    },
    {
      "cell_type": "code",
      "source": [
        "df.dtypes"
      ],
      "metadata": {
        "colab": {
          "base_uri": "https://localhost:8080/"
        },
        "id": "wEU-c0ovbext",
        "outputId": "e8624ebc-4c6e-48b8-c51a-04fd337fd1ef"
      },
      "execution_count": null,
      "outputs": [
        {
          "output_type": "execute_result",
          "data": {
            "text/plain": [
              "customerid           object\n",
              "gender               object\n",
              "seniorcitizen         int64\n",
              "partner              object\n",
              "dependents           object\n",
              "tenure                int64\n",
              "phoneservice         object\n",
              "multiplelines        object\n",
              "internetservice      object\n",
              "onlinesecurity       object\n",
              "onlinebackup         object\n",
              "deviceprotection     object\n",
              "techsupport          object\n",
              "streamingtv          object\n",
              "streamingmovies      object\n",
              "contract             object\n",
              "paperlessbilling     object\n",
              "paymentmethod        object\n",
              "monthlycharges      float64\n",
              "totalcharges         object\n",
              "churn                object\n",
              "dtype: object"
            ]
          },
          "metadata": {},
          "execution_count": 495
        }
      ]
    },
    {
      "cell_type": "markdown",
      "source": [
        "Change total charges to correct  datatype and remove missing values"
      ],
      "metadata": {
        "id": "5OzL27_5dNHd"
      }
    },
    {
      "cell_type": "code",
      "source": [
        "df.totalcharges = pd.to_numeric(df.totalcharges, errors='coerce')"
      ],
      "metadata": {
        "id": "9Ec9PKeRbqud"
      },
      "execution_count": null,
      "outputs": []
    },
    {
      "cell_type": "code",
      "source": [
        "df['totalcharges'].isnull().sum()"
      ],
      "metadata": {
        "colab": {
          "base_uri": "https://localhost:8080/"
        },
        "id": "6Gm6pG8NcHzL",
        "outputId": "b5698a2c-f478-4882-91b6-461f8749cf48"
      },
      "execution_count": null,
      "outputs": [
        {
          "output_type": "execute_result",
          "data": {
            "text/plain": [
              "11"
            ]
          },
          "metadata": {},
          "execution_count": 497
        }
      ]
    },
    {
      "cell_type": "code",
      "source": [
        "df = df.dropna()"
      ],
      "metadata": {
        "id": "FJ6UdWSMc_dp"
      },
      "execution_count": null,
      "outputs": []
    },
    {
      "cell_type": "code",
      "source": [
        "len(df)"
      ],
      "metadata": {
        "colab": {
          "base_uri": "https://localhost:8080/"
        },
        "id": "3tTaCj5rGRfl",
        "outputId": "31f47a98-dd5c-4de5-94dc-76b493ec0c5d"
      },
      "execution_count": null,
      "outputs": [
        {
          "output_type": "execute_result",
          "data": {
            "text/plain": [
              "7032"
            ]
          },
          "metadata": {},
          "execution_count": 499
        }
      ]
    },
    {
      "cell_type": "code",
      "source": [
        "df['churn'] = (df['churn'] == 'yes').astype(int)\n",
        "df['churn']"
      ],
      "metadata": {
        "colab": {
          "base_uri": "https://localhost:8080/"
        },
        "id": "rGDTtSoOdUkJ",
        "outputId": "0e1c5809-8ed4-4d92-f92d-e9fae65e001f"
      },
      "execution_count": null,
      "outputs": [
        {
          "output_type": "stream",
          "name": "stderr",
          "text": [
            "/usr/local/lib/python3.7/dist-packages/ipykernel_launcher.py:1: SettingWithCopyWarning: \n",
            "A value is trying to be set on a copy of a slice from a DataFrame.\n",
            "Try using .loc[row_indexer,col_indexer] = value instead\n",
            "\n",
            "See the caveats in the documentation: https://pandas.pydata.org/pandas-docs/stable/user_guide/indexing.html#returning-a-view-versus-a-copy\n",
            "  \"\"\"Entry point for launching an IPython kernel.\n"
          ]
        },
        {
          "output_type": "execute_result",
          "data": {
            "text/plain": [
              "0       0\n",
              "1       0\n",
              "2       1\n",
              "3       0\n",
              "4       1\n",
              "       ..\n",
              "7038    0\n",
              "7039    0\n",
              "7040    0\n",
              "7041    1\n",
              "7042    0\n",
              "Name: churn, Length: 7032, dtype: int64"
            ]
          },
          "metadata": {},
          "execution_count": 500
        }
      ]
    },
    {
      "cell_type": "markdown",
      "source": [
        "## Dataframe information"
      ],
      "metadata": {
        "id": "Nlx3l7_zbmga"
      }
    },
    {
      "cell_type": "code",
      "source": [
        "df.info()"
      ],
      "metadata": {
        "colab": {
          "base_uri": "https://localhost:8080/"
        },
        "id": "JfFlWU62eeOa",
        "outputId": "d09dcd0a-5226-4180-e464-77d10d7cb148"
      },
      "execution_count": null,
      "outputs": [
        {
          "output_type": "stream",
          "name": "stdout",
          "text": [
            "<class 'pandas.core.frame.DataFrame'>\n",
            "Int64Index: 7032 entries, 0 to 7042\n",
            "Data columns (total 21 columns):\n",
            " #   Column            Non-Null Count  Dtype  \n",
            "---  ------            --------------  -----  \n",
            " 0   customerid        7032 non-null   object \n",
            " 1   gender            7032 non-null   object \n",
            " 2   seniorcitizen     7032 non-null   int64  \n",
            " 3   partner           7032 non-null   object \n",
            " 4   dependents        7032 non-null   object \n",
            " 5   tenure            7032 non-null   int64  \n",
            " 6   phoneservice      7032 non-null   object \n",
            " 7   multiplelines     7032 non-null   object \n",
            " 8   internetservice   7032 non-null   object \n",
            " 9   onlinesecurity    7032 non-null   object \n",
            " 10  onlinebackup      7032 non-null   object \n",
            " 11  deviceprotection  7032 non-null   object \n",
            " 12  techsupport       7032 non-null   object \n",
            " 13  streamingtv       7032 non-null   object \n",
            " 14  streamingmovies   7032 non-null   object \n",
            " 15  contract          7032 non-null   object \n",
            " 16  paperlessbilling  7032 non-null   object \n",
            " 17  paymentmethod     7032 non-null   object \n",
            " 18  monthlycharges    7032 non-null   float64\n",
            " 19  totalcharges      7032 non-null   float64\n",
            " 20  churn             7032 non-null   int64  \n",
            "dtypes: float64(2), int64(3), object(16)\n",
            "memory usage: 1.2+ MB\n"
          ]
        }
      ]
    },
    {
      "cell_type": "code",
      "source": [
        "df.describe()"
      ],
      "metadata": {
        "colab": {
          "base_uri": "https://localhost:8080/",
          "height": 301
        },
        "id": "RzQh8K1Hen6O",
        "outputId": "77834b94-cc4e-414d-d9bb-3ad92ab95f8b"
      },
      "execution_count": null,
      "outputs": [
        {
          "output_type": "execute_result",
          "data": {
            "text/plain": [
              "       seniorcitizen       tenure  monthlycharges  totalcharges        churn\n",
              "count    7032.000000  7032.000000     7032.000000   7032.000000  7032.000000\n",
              "mean        0.162400    32.421786       64.798208   2283.300441     0.265785\n",
              "std         0.368844    24.545260       30.085974   2266.771362     0.441782\n",
              "min         0.000000     1.000000       18.250000     18.800000     0.000000\n",
              "25%         0.000000     9.000000       35.587500    401.450000     0.000000\n",
              "50%         0.000000    29.000000       70.350000   1397.475000     0.000000\n",
              "75%         0.000000    55.000000       89.862500   3794.737500     1.000000\n",
              "max         1.000000    72.000000      118.750000   8684.800000     1.000000"
            ],
            "text/html": [
              "\n",
              "  <div id=\"df-21fed662-9184-421b-90d9-99b9ad8299ce\">\n",
              "    <div class=\"colab-df-container\">\n",
              "      <div>\n",
              "<style scoped>\n",
              "    .dataframe tbody tr th:only-of-type {\n",
              "        vertical-align: middle;\n",
              "    }\n",
              "\n",
              "    .dataframe tbody tr th {\n",
              "        vertical-align: top;\n",
              "    }\n",
              "\n",
              "    .dataframe thead th {\n",
              "        text-align: right;\n",
              "    }\n",
              "</style>\n",
              "<table border=\"1\" class=\"dataframe\">\n",
              "  <thead>\n",
              "    <tr style=\"text-align: right;\">\n",
              "      <th></th>\n",
              "      <th>seniorcitizen</th>\n",
              "      <th>tenure</th>\n",
              "      <th>monthlycharges</th>\n",
              "      <th>totalcharges</th>\n",
              "      <th>churn</th>\n",
              "    </tr>\n",
              "  </thead>\n",
              "  <tbody>\n",
              "    <tr>\n",
              "      <th>count</th>\n",
              "      <td>7032.000000</td>\n",
              "      <td>7032.000000</td>\n",
              "      <td>7032.000000</td>\n",
              "      <td>7032.000000</td>\n",
              "      <td>7032.000000</td>\n",
              "    </tr>\n",
              "    <tr>\n",
              "      <th>mean</th>\n",
              "      <td>0.162400</td>\n",
              "      <td>32.421786</td>\n",
              "      <td>64.798208</td>\n",
              "      <td>2283.300441</td>\n",
              "      <td>0.265785</td>\n",
              "    </tr>\n",
              "    <tr>\n",
              "      <th>std</th>\n",
              "      <td>0.368844</td>\n",
              "      <td>24.545260</td>\n",
              "      <td>30.085974</td>\n",
              "      <td>2266.771362</td>\n",
              "      <td>0.441782</td>\n",
              "    </tr>\n",
              "    <tr>\n",
              "      <th>min</th>\n",
              "      <td>0.000000</td>\n",
              "      <td>1.000000</td>\n",
              "      <td>18.250000</td>\n",
              "      <td>18.800000</td>\n",
              "      <td>0.000000</td>\n",
              "    </tr>\n",
              "    <tr>\n",
              "      <th>25%</th>\n",
              "      <td>0.000000</td>\n",
              "      <td>9.000000</td>\n",
              "      <td>35.587500</td>\n",
              "      <td>401.450000</td>\n",
              "      <td>0.000000</td>\n",
              "    </tr>\n",
              "    <tr>\n",
              "      <th>50%</th>\n",
              "      <td>0.000000</td>\n",
              "      <td>29.000000</td>\n",
              "      <td>70.350000</td>\n",
              "      <td>1397.475000</td>\n",
              "      <td>0.000000</td>\n",
              "    </tr>\n",
              "    <tr>\n",
              "      <th>75%</th>\n",
              "      <td>0.000000</td>\n",
              "      <td>55.000000</td>\n",
              "      <td>89.862500</td>\n",
              "      <td>3794.737500</td>\n",
              "      <td>1.000000</td>\n",
              "    </tr>\n",
              "    <tr>\n",
              "      <th>max</th>\n",
              "      <td>1.000000</td>\n",
              "      <td>72.000000</td>\n",
              "      <td>118.750000</td>\n",
              "      <td>8684.800000</td>\n",
              "      <td>1.000000</td>\n",
              "    </tr>\n",
              "  </tbody>\n",
              "</table>\n",
              "</div>\n",
              "      <button class=\"colab-df-convert\" onclick=\"convertToInteractive('df-21fed662-9184-421b-90d9-99b9ad8299ce')\"\n",
              "              title=\"Convert this dataframe to an interactive table.\"\n",
              "              style=\"display:none;\">\n",
              "        \n",
              "  <svg xmlns=\"http://www.w3.org/2000/svg\" height=\"24px\"viewBox=\"0 0 24 24\"\n",
              "       width=\"24px\">\n",
              "    <path d=\"M0 0h24v24H0V0z\" fill=\"none\"/>\n",
              "    <path d=\"M18.56 5.44l.94 2.06.94-2.06 2.06-.94-2.06-.94-.94-2.06-.94 2.06-2.06.94zm-11 1L8.5 8.5l.94-2.06 2.06-.94-2.06-.94L8.5 2.5l-.94 2.06-2.06.94zm10 10l.94 2.06.94-2.06 2.06-.94-2.06-.94-.94-2.06-.94 2.06-2.06.94z\"/><path d=\"M17.41 7.96l-1.37-1.37c-.4-.4-.92-.59-1.43-.59-.52 0-1.04.2-1.43.59L10.3 9.45l-7.72 7.72c-.78.78-.78 2.05 0 2.83L4 21.41c.39.39.9.59 1.41.59.51 0 1.02-.2 1.41-.59l7.78-7.78 2.81-2.81c.8-.78.8-2.07 0-2.86zM5.41 20L4 18.59l7.72-7.72 1.47 1.35L5.41 20z\"/>\n",
              "  </svg>\n",
              "      </button>\n",
              "      \n",
              "  <style>\n",
              "    .colab-df-container {\n",
              "      display:flex;\n",
              "      flex-wrap:wrap;\n",
              "      gap: 12px;\n",
              "    }\n",
              "\n",
              "    .colab-df-convert {\n",
              "      background-color: #E8F0FE;\n",
              "      border: none;\n",
              "      border-radius: 50%;\n",
              "      cursor: pointer;\n",
              "      display: none;\n",
              "      fill: #1967D2;\n",
              "      height: 32px;\n",
              "      padding: 0 0 0 0;\n",
              "      width: 32px;\n",
              "    }\n",
              "\n",
              "    .colab-df-convert:hover {\n",
              "      background-color: #E2EBFA;\n",
              "      box-shadow: 0px 1px 2px rgba(60, 64, 67, 0.3), 0px 1px 3px 1px rgba(60, 64, 67, 0.15);\n",
              "      fill: #174EA6;\n",
              "    }\n",
              "\n",
              "    [theme=dark] .colab-df-convert {\n",
              "      background-color: #3B4455;\n",
              "      fill: #D2E3FC;\n",
              "    }\n",
              "\n",
              "    [theme=dark] .colab-df-convert:hover {\n",
              "      background-color: #434B5C;\n",
              "      box-shadow: 0px 1px 3px 1px rgba(0, 0, 0, 0.15);\n",
              "      filter: drop-shadow(0px 1px 2px rgba(0, 0, 0, 0.3));\n",
              "      fill: #FFFFFF;\n",
              "    }\n",
              "  </style>\n",
              "\n",
              "      <script>\n",
              "        const buttonEl =\n",
              "          document.querySelector('#df-21fed662-9184-421b-90d9-99b9ad8299ce button.colab-df-convert');\n",
              "        buttonEl.style.display =\n",
              "          google.colab.kernel.accessAllowed ? 'block' : 'none';\n",
              "\n",
              "        async function convertToInteractive(key) {\n",
              "          const element = document.querySelector('#df-21fed662-9184-421b-90d9-99b9ad8299ce');\n",
              "          const dataTable =\n",
              "            await google.colab.kernel.invokeFunction('convertToInteractive',\n",
              "                                                     [key], {});\n",
              "          if (!dataTable) return;\n",
              "\n",
              "          const docLinkHtml = 'Like what you see? Visit the ' +\n",
              "            '<a target=\"_blank\" href=https://colab.research.google.com/notebooks/data_table.ipynb>data table notebook</a>'\n",
              "            + ' to learn more about interactive tables.';\n",
              "          element.innerHTML = '';\n",
              "          dataTable['output_type'] = 'display_data';\n",
              "          await google.colab.output.renderOutput(dataTable, element);\n",
              "          const docLink = document.createElement('div');\n",
              "          docLink.innerHTML = docLinkHtml;\n",
              "          element.appendChild(docLink);\n",
              "        }\n",
              "      </script>\n",
              "    </div>\n",
              "  </div>\n",
              "  "
            ]
          },
          "metadata": {},
          "execution_count": 502
        }
      ]
    },
    {
      "cell_type": "code",
      "source": [
        "df.describe(include=['O'])"
      ],
      "metadata": {
        "colab": {
          "base_uri": "https://localhost:8080/",
          "height": 175
        },
        "id": "KYYrXkQRetzK",
        "outputId": "82feef05-944a-43ec-e312-d78e591fa07e"
      },
      "execution_count": null,
      "outputs": [
        {
          "output_type": "execute_result",
          "data": {
            "text/plain": [
              "        customerid gender partner dependents phoneservice multiplelines  \\\n",
              "count         7032   7032    7032       7032         7032          7032   \n",
              "unique        7032      2       2          2            2             3   \n",
              "top     7590-vhveg   male      no         no          yes            no   \n",
              "freq             1   3549    3639       4933         6352          3385   \n",
              "\n",
              "       internetservice onlinesecurity onlinebackup deviceprotection  \\\n",
              "count             7032           7032         7032             7032   \n",
              "unique               3              3            3                3   \n",
              "top        fiber_optic             no           no               no   \n",
              "freq              3096           3497         3087             3094   \n",
              "\n",
              "       techsupport streamingtv streamingmovies        contract  \\\n",
              "count         7032        7032            7032            7032   \n",
              "unique           3           3               3               3   \n",
              "top             no          no              no  month-to-month   \n",
              "freq          3472        2809            2781            3875   \n",
              "\n",
              "       paperlessbilling     paymentmethod  \n",
              "count              7032              7032  \n",
              "unique                2                 4  \n",
              "top                 yes  electronic_check  \n",
              "freq               4168              2365  "
            ],
            "text/html": [
              "\n",
              "  <div id=\"df-4ff9922f-2944-4cd8-9c4c-9db73f9fc948\">\n",
              "    <div class=\"colab-df-container\">\n",
              "      <div>\n",
              "<style scoped>\n",
              "    .dataframe tbody tr th:only-of-type {\n",
              "        vertical-align: middle;\n",
              "    }\n",
              "\n",
              "    .dataframe tbody tr th {\n",
              "        vertical-align: top;\n",
              "    }\n",
              "\n",
              "    .dataframe thead th {\n",
              "        text-align: right;\n",
              "    }\n",
              "</style>\n",
              "<table border=\"1\" class=\"dataframe\">\n",
              "  <thead>\n",
              "    <tr style=\"text-align: right;\">\n",
              "      <th></th>\n",
              "      <th>customerid</th>\n",
              "      <th>gender</th>\n",
              "      <th>partner</th>\n",
              "      <th>dependents</th>\n",
              "      <th>phoneservice</th>\n",
              "      <th>multiplelines</th>\n",
              "      <th>internetservice</th>\n",
              "      <th>onlinesecurity</th>\n",
              "      <th>onlinebackup</th>\n",
              "      <th>deviceprotection</th>\n",
              "      <th>techsupport</th>\n",
              "      <th>streamingtv</th>\n",
              "      <th>streamingmovies</th>\n",
              "      <th>contract</th>\n",
              "      <th>paperlessbilling</th>\n",
              "      <th>paymentmethod</th>\n",
              "    </tr>\n",
              "  </thead>\n",
              "  <tbody>\n",
              "    <tr>\n",
              "      <th>count</th>\n",
              "      <td>7032</td>\n",
              "      <td>7032</td>\n",
              "      <td>7032</td>\n",
              "      <td>7032</td>\n",
              "      <td>7032</td>\n",
              "      <td>7032</td>\n",
              "      <td>7032</td>\n",
              "      <td>7032</td>\n",
              "      <td>7032</td>\n",
              "      <td>7032</td>\n",
              "      <td>7032</td>\n",
              "      <td>7032</td>\n",
              "      <td>7032</td>\n",
              "      <td>7032</td>\n",
              "      <td>7032</td>\n",
              "      <td>7032</td>\n",
              "    </tr>\n",
              "    <tr>\n",
              "      <th>unique</th>\n",
              "      <td>7032</td>\n",
              "      <td>2</td>\n",
              "      <td>2</td>\n",
              "      <td>2</td>\n",
              "      <td>2</td>\n",
              "      <td>3</td>\n",
              "      <td>3</td>\n",
              "      <td>3</td>\n",
              "      <td>3</td>\n",
              "      <td>3</td>\n",
              "      <td>3</td>\n",
              "      <td>3</td>\n",
              "      <td>3</td>\n",
              "      <td>3</td>\n",
              "      <td>2</td>\n",
              "      <td>4</td>\n",
              "    </tr>\n",
              "    <tr>\n",
              "      <th>top</th>\n",
              "      <td>7590-vhveg</td>\n",
              "      <td>male</td>\n",
              "      <td>no</td>\n",
              "      <td>no</td>\n",
              "      <td>yes</td>\n",
              "      <td>no</td>\n",
              "      <td>fiber_optic</td>\n",
              "      <td>no</td>\n",
              "      <td>no</td>\n",
              "      <td>no</td>\n",
              "      <td>no</td>\n",
              "      <td>no</td>\n",
              "      <td>no</td>\n",
              "      <td>month-to-month</td>\n",
              "      <td>yes</td>\n",
              "      <td>electronic_check</td>\n",
              "    </tr>\n",
              "    <tr>\n",
              "      <th>freq</th>\n",
              "      <td>1</td>\n",
              "      <td>3549</td>\n",
              "      <td>3639</td>\n",
              "      <td>4933</td>\n",
              "      <td>6352</td>\n",
              "      <td>3385</td>\n",
              "      <td>3096</td>\n",
              "      <td>3497</td>\n",
              "      <td>3087</td>\n",
              "      <td>3094</td>\n",
              "      <td>3472</td>\n",
              "      <td>2809</td>\n",
              "      <td>2781</td>\n",
              "      <td>3875</td>\n",
              "      <td>4168</td>\n",
              "      <td>2365</td>\n",
              "    </tr>\n",
              "  </tbody>\n",
              "</table>\n",
              "</div>\n",
              "      <button class=\"colab-df-convert\" onclick=\"convertToInteractive('df-4ff9922f-2944-4cd8-9c4c-9db73f9fc948')\"\n",
              "              title=\"Convert this dataframe to an interactive table.\"\n",
              "              style=\"display:none;\">\n",
              "        \n",
              "  <svg xmlns=\"http://www.w3.org/2000/svg\" height=\"24px\"viewBox=\"0 0 24 24\"\n",
              "       width=\"24px\">\n",
              "    <path d=\"M0 0h24v24H0V0z\" fill=\"none\"/>\n",
              "    <path d=\"M18.56 5.44l.94 2.06.94-2.06 2.06-.94-2.06-.94-.94-2.06-.94 2.06-2.06.94zm-11 1L8.5 8.5l.94-2.06 2.06-.94-2.06-.94L8.5 2.5l-.94 2.06-2.06.94zm10 10l.94 2.06.94-2.06 2.06-.94-2.06-.94-.94-2.06-.94 2.06-2.06.94z\"/><path d=\"M17.41 7.96l-1.37-1.37c-.4-.4-.92-.59-1.43-.59-.52 0-1.04.2-1.43.59L10.3 9.45l-7.72 7.72c-.78.78-.78 2.05 0 2.83L4 21.41c.39.39.9.59 1.41.59.51 0 1.02-.2 1.41-.59l7.78-7.78 2.81-2.81c.8-.78.8-2.07 0-2.86zM5.41 20L4 18.59l7.72-7.72 1.47 1.35L5.41 20z\"/>\n",
              "  </svg>\n",
              "      </button>\n",
              "      \n",
              "  <style>\n",
              "    .colab-df-container {\n",
              "      display:flex;\n",
              "      flex-wrap:wrap;\n",
              "      gap: 12px;\n",
              "    }\n",
              "\n",
              "    .colab-df-convert {\n",
              "      background-color: #E8F0FE;\n",
              "      border: none;\n",
              "      border-radius: 50%;\n",
              "      cursor: pointer;\n",
              "      display: none;\n",
              "      fill: #1967D2;\n",
              "      height: 32px;\n",
              "      padding: 0 0 0 0;\n",
              "      width: 32px;\n",
              "    }\n",
              "\n",
              "    .colab-df-convert:hover {\n",
              "      background-color: #E2EBFA;\n",
              "      box-shadow: 0px 1px 2px rgba(60, 64, 67, 0.3), 0px 1px 3px 1px rgba(60, 64, 67, 0.15);\n",
              "      fill: #174EA6;\n",
              "    }\n",
              "\n",
              "    [theme=dark] .colab-df-convert {\n",
              "      background-color: #3B4455;\n",
              "      fill: #D2E3FC;\n",
              "    }\n",
              "\n",
              "    [theme=dark] .colab-df-convert:hover {\n",
              "      background-color: #434B5C;\n",
              "      box-shadow: 0px 1px 3px 1px rgba(0, 0, 0, 0.15);\n",
              "      filter: drop-shadow(0px 1px 2px rgba(0, 0, 0, 0.3));\n",
              "      fill: #FFFFFF;\n",
              "    }\n",
              "  </style>\n",
              "\n",
              "      <script>\n",
              "        const buttonEl =\n",
              "          document.querySelector('#df-4ff9922f-2944-4cd8-9c4c-9db73f9fc948 button.colab-df-convert');\n",
              "        buttonEl.style.display =\n",
              "          google.colab.kernel.accessAllowed ? 'block' : 'none';\n",
              "\n",
              "        async function convertToInteractive(key) {\n",
              "          const element = document.querySelector('#df-4ff9922f-2944-4cd8-9c4c-9db73f9fc948');\n",
              "          const dataTable =\n",
              "            await google.colab.kernel.invokeFunction('convertToInteractive',\n",
              "                                                     [key], {});\n",
              "          if (!dataTable) return;\n",
              "\n",
              "          const docLinkHtml = 'Like what you see? Visit the ' +\n",
              "            '<a target=\"_blank\" href=https://colab.research.google.com/notebooks/data_table.ipynb>data table notebook</a>'\n",
              "            + ' to learn more about interactive tables.';\n",
              "          element.innerHTML = '';\n",
              "          dataTable['output_type'] = 'display_data';\n",
              "          await google.colab.output.renderOutput(dataTable, element);\n",
              "          const docLink = document.createElement('div');\n",
              "          docLink.innerHTML = docLinkHtml;\n",
              "          element.appendChild(docLink);\n",
              "        }\n",
              "      </script>\n",
              "    </div>\n",
              "  </div>\n",
              "  "
            ]
          },
          "metadata": {},
          "execution_count": 503
        }
      ]
    },
    {
      "cell_type": "markdown",
      "source": [
        "# Create Test and Validation Sets\n"
      ],
      "metadata": {
        "id": "sWarsa_yeX0H"
      }
    },
    {
      "cell_type": "code",
      "source": [
        "from sklearn.model_selection import train_test_split"
      ],
      "metadata": {
        "id": "17EcbIx0fG9u"
      },
      "execution_count": null,
      "outputs": []
    },
    {
      "cell_type": "code",
      "source": [
        "df_full_train, df_test = train_test_split(df, test_size=0.2, random_state=1)"
      ],
      "metadata": {
        "id": "BF-dcR8KfcSd"
      },
      "execution_count": null,
      "outputs": []
    },
    {
      "cell_type": "code",
      "source": [
        "df_train, df_val = train_test_split(df_full_train, test_size=0.25, random_state=12)"
      ],
      "metadata": {
        "id": "JE97cCkugAbF"
      },
      "execution_count": null,
      "outputs": []
    },
    {
      "cell_type": "code",
      "source": [
        "df_train = df_train.reset_index(drop=True)\n",
        "df_test = df_test.reset_index(drop=True)\n",
        "df_val = df_val.reset_index(drop=True)"
      ],
      "metadata": {
        "id": "zCKH6mtPgZKL"
      },
      "execution_count": null,
      "outputs": []
    },
    {
      "cell_type": "code",
      "source": [
        "y_train = df_train.churn.values\n",
        "y_test = df_test.churn.values\n",
        "y_val = df_val.churn.values\n",
        "\n",
        "del df_train['churn']\n",
        "del df_val['churn']\n",
        "del df_test['churn']"
      ],
      "metadata": {
        "id": "plQZRuR6gxay"
      },
      "execution_count": null,
      "outputs": []
    },
    {
      "cell_type": "markdown",
      "source": [
        "# EDA\n",
        "* Check missing values \n",
        "* Look at Numerical and Categorical Variables"
      ],
      "metadata": {
        "id": "-fGjhHpYj3jC"
      }
    },
    {
      "cell_type": "code",
      "source": [
        "df_full_train"
      ],
      "metadata": {
        "colab": {
          "base_uri": "https://localhost:8080/",
          "height": 575
        },
        "id": "vQ9L5Sgij6BJ",
        "outputId": "cd66e14c-73c5-4635-8e28-54ad9773be27"
      },
      "execution_count": null,
      "outputs": [
        {
          "output_type": "execute_result",
          "data": {
            "text/plain": [
              "      customerid  gender  seniorcitizen partner dependents  tenure  \\\n",
              "3457  8566-yprgl  female              0      no         no       1   \n",
              "612   2804-etqdk    male              0      no        yes      66   \n",
              "589   0795-lafgp    male              0     yes        yes      71   \n",
              "2685  5781-bkhop  female              0     yes         no      72   \n",
              "1549  4237-rlaqd    male              0      no         no       1   \n",
              "...          ...     ...            ...     ...        ...     ...   \n",
              "907   0297-rbcsg    male              0      no         no      19   \n",
              "5200  6050-ijrhs  female              0     yes        yes      70   \n",
              "3987  7625-xcqrh  female              0      no         no      11   \n",
              "235   1251-krreg    male              0      no         no       2   \n",
              "5165  8062-ybdoe    male              1      no         no       1   \n",
              "\n",
              "     phoneservice multiplelines internetservice       onlinesecurity  ...  \\\n",
              "3457          yes            no              no  no_internet_service  ...   \n",
              "612           yes            no              no  no_internet_service  ...   \n",
              "589           yes           yes             dsl                  yes  ...   \n",
              "2685          yes           yes     fiber_optic                  yes  ...   \n",
              "1549          yes            no             dsl                   no  ...   \n",
              "...           ...           ...             ...                  ...  ...   \n",
              "907           yes            no             dsl                   no  ...   \n",
              "5200          yes           yes     fiber_optic                   no  ...   \n",
              "3987          yes           yes     fiber_optic                   no  ...   \n",
              "235           yes           yes             dsl                   no  ...   \n",
              "5165          yes            no     fiber_optic                   no  ...   \n",
              "\n",
              "         deviceprotection          techsupport          streamingtv  \\\n",
              "3457  no_internet_service  no_internet_service  no_internet_service   \n",
              "612   no_internet_service  no_internet_service  no_internet_service   \n",
              "589                   yes                  yes                  yes   \n",
              "2685                  yes                   no                  yes   \n",
              "1549                   no                   no                   no   \n",
              "...                   ...                  ...                  ...   \n",
              "907                    no                  yes                   no   \n",
              "5200                  yes                   no                  yes   \n",
              "3987                   no                   no                   no   \n",
              "235                    no                   no                   no   \n",
              "5165                   no                   no                   no   \n",
              "\n",
              "          streamingmovies        contract paperlessbilling  \\\n",
              "3457  no_internet_service  month-to-month              yes   \n",
              "612   no_internet_service        two_year               no   \n",
              "589                   yes        two_year               no   \n",
              "2685                   no        two_year               no   \n",
              "1549                   no  month-to-month              yes   \n",
              "...                   ...             ...              ...   \n",
              "907                   yes        one_year              yes   \n",
              "5200                  yes        one_year              yes   \n",
              "3987                   no  month-to-month              yes   \n",
              "235                    no  month-to-month              yes   \n",
              "5165                   no  month-to-month              yes   \n",
              "\n",
              "                  paymentmethod monthlycharges  totalcharges  churn  \n",
              "3457               mailed_check          19.50         19.50      0  \n",
              "612                mailed_check          20.55       1357.10      0  \n",
              "589            electronic_check          90.40       6668.05      0  \n",
              "2685  bank_transfer_(automatic)         100.65       7334.05      0  \n",
              "1549               mailed_check          45.85         45.85      1  \n",
              "...                         ...            ...           ...    ...  \n",
              "907   bank_transfer_(automatic)          65.35       1231.85      0  \n",
              "5200           electronic_check         106.50       7397.00      0  \n",
              "3987           electronic_check          76.50        837.95      1  \n",
              "235                mailed_check          54.40        114.10      1  \n",
              "5165           electronic_check          69.65         69.65      1  \n",
              "\n",
              "[5625 rows x 21 columns]"
            ],
            "text/html": [
              "\n",
              "  <div id=\"df-528638ee-b087-445d-8a47-168f6dcf05a7\">\n",
              "    <div class=\"colab-df-container\">\n",
              "      <div>\n",
              "<style scoped>\n",
              "    .dataframe tbody tr th:only-of-type {\n",
              "        vertical-align: middle;\n",
              "    }\n",
              "\n",
              "    .dataframe tbody tr th {\n",
              "        vertical-align: top;\n",
              "    }\n",
              "\n",
              "    .dataframe thead th {\n",
              "        text-align: right;\n",
              "    }\n",
              "</style>\n",
              "<table border=\"1\" class=\"dataframe\">\n",
              "  <thead>\n",
              "    <tr style=\"text-align: right;\">\n",
              "      <th></th>\n",
              "      <th>customerid</th>\n",
              "      <th>gender</th>\n",
              "      <th>seniorcitizen</th>\n",
              "      <th>partner</th>\n",
              "      <th>dependents</th>\n",
              "      <th>tenure</th>\n",
              "      <th>phoneservice</th>\n",
              "      <th>multiplelines</th>\n",
              "      <th>internetservice</th>\n",
              "      <th>onlinesecurity</th>\n",
              "      <th>...</th>\n",
              "      <th>deviceprotection</th>\n",
              "      <th>techsupport</th>\n",
              "      <th>streamingtv</th>\n",
              "      <th>streamingmovies</th>\n",
              "      <th>contract</th>\n",
              "      <th>paperlessbilling</th>\n",
              "      <th>paymentmethod</th>\n",
              "      <th>monthlycharges</th>\n",
              "      <th>totalcharges</th>\n",
              "      <th>churn</th>\n",
              "    </tr>\n",
              "  </thead>\n",
              "  <tbody>\n",
              "    <tr>\n",
              "      <th>3457</th>\n",
              "      <td>8566-yprgl</td>\n",
              "      <td>female</td>\n",
              "      <td>0</td>\n",
              "      <td>no</td>\n",
              "      <td>no</td>\n",
              "      <td>1</td>\n",
              "      <td>yes</td>\n",
              "      <td>no</td>\n",
              "      <td>no</td>\n",
              "      <td>no_internet_service</td>\n",
              "      <td>...</td>\n",
              "      <td>no_internet_service</td>\n",
              "      <td>no_internet_service</td>\n",
              "      <td>no_internet_service</td>\n",
              "      <td>no_internet_service</td>\n",
              "      <td>month-to-month</td>\n",
              "      <td>yes</td>\n",
              "      <td>mailed_check</td>\n",
              "      <td>19.50</td>\n",
              "      <td>19.50</td>\n",
              "      <td>0</td>\n",
              "    </tr>\n",
              "    <tr>\n",
              "      <th>612</th>\n",
              "      <td>2804-etqdk</td>\n",
              "      <td>male</td>\n",
              "      <td>0</td>\n",
              "      <td>no</td>\n",
              "      <td>yes</td>\n",
              "      <td>66</td>\n",
              "      <td>yes</td>\n",
              "      <td>no</td>\n",
              "      <td>no</td>\n",
              "      <td>no_internet_service</td>\n",
              "      <td>...</td>\n",
              "      <td>no_internet_service</td>\n",
              "      <td>no_internet_service</td>\n",
              "      <td>no_internet_service</td>\n",
              "      <td>no_internet_service</td>\n",
              "      <td>two_year</td>\n",
              "      <td>no</td>\n",
              "      <td>mailed_check</td>\n",
              "      <td>20.55</td>\n",
              "      <td>1357.10</td>\n",
              "      <td>0</td>\n",
              "    </tr>\n",
              "    <tr>\n",
              "      <th>589</th>\n",
              "      <td>0795-lafgp</td>\n",
              "      <td>male</td>\n",
              "      <td>0</td>\n",
              "      <td>yes</td>\n",
              "      <td>yes</td>\n",
              "      <td>71</td>\n",
              "      <td>yes</td>\n",
              "      <td>yes</td>\n",
              "      <td>dsl</td>\n",
              "      <td>yes</td>\n",
              "      <td>...</td>\n",
              "      <td>yes</td>\n",
              "      <td>yes</td>\n",
              "      <td>yes</td>\n",
              "      <td>yes</td>\n",
              "      <td>two_year</td>\n",
              "      <td>no</td>\n",
              "      <td>electronic_check</td>\n",
              "      <td>90.40</td>\n",
              "      <td>6668.05</td>\n",
              "      <td>0</td>\n",
              "    </tr>\n",
              "    <tr>\n",
              "      <th>2685</th>\n",
              "      <td>5781-bkhop</td>\n",
              "      <td>female</td>\n",
              "      <td>0</td>\n",
              "      <td>yes</td>\n",
              "      <td>no</td>\n",
              "      <td>72</td>\n",
              "      <td>yes</td>\n",
              "      <td>yes</td>\n",
              "      <td>fiber_optic</td>\n",
              "      <td>yes</td>\n",
              "      <td>...</td>\n",
              "      <td>yes</td>\n",
              "      <td>no</td>\n",
              "      <td>yes</td>\n",
              "      <td>no</td>\n",
              "      <td>two_year</td>\n",
              "      <td>no</td>\n",
              "      <td>bank_transfer_(automatic)</td>\n",
              "      <td>100.65</td>\n",
              "      <td>7334.05</td>\n",
              "      <td>0</td>\n",
              "    </tr>\n",
              "    <tr>\n",
              "      <th>1549</th>\n",
              "      <td>4237-rlaqd</td>\n",
              "      <td>male</td>\n",
              "      <td>0</td>\n",
              "      <td>no</td>\n",
              "      <td>no</td>\n",
              "      <td>1</td>\n",
              "      <td>yes</td>\n",
              "      <td>no</td>\n",
              "      <td>dsl</td>\n",
              "      <td>no</td>\n",
              "      <td>...</td>\n",
              "      <td>no</td>\n",
              "      <td>no</td>\n",
              "      <td>no</td>\n",
              "      <td>no</td>\n",
              "      <td>month-to-month</td>\n",
              "      <td>yes</td>\n",
              "      <td>mailed_check</td>\n",
              "      <td>45.85</td>\n",
              "      <td>45.85</td>\n",
              "      <td>1</td>\n",
              "    </tr>\n",
              "    <tr>\n",
              "      <th>...</th>\n",
              "      <td>...</td>\n",
              "      <td>...</td>\n",
              "      <td>...</td>\n",
              "      <td>...</td>\n",
              "      <td>...</td>\n",
              "      <td>...</td>\n",
              "      <td>...</td>\n",
              "      <td>...</td>\n",
              "      <td>...</td>\n",
              "      <td>...</td>\n",
              "      <td>...</td>\n",
              "      <td>...</td>\n",
              "      <td>...</td>\n",
              "      <td>...</td>\n",
              "      <td>...</td>\n",
              "      <td>...</td>\n",
              "      <td>...</td>\n",
              "      <td>...</td>\n",
              "      <td>...</td>\n",
              "      <td>...</td>\n",
              "      <td>...</td>\n",
              "    </tr>\n",
              "    <tr>\n",
              "      <th>907</th>\n",
              "      <td>0297-rbcsg</td>\n",
              "      <td>male</td>\n",
              "      <td>0</td>\n",
              "      <td>no</td>\n",
              "      <td>no</td>\n",
              "      <td>19</td>\n",
              "      <td>yes</td>\n",
              "      <td>no</td>\n",
              "      <td>dsl</td>\n",
              "      <td>no</td>\n",
              "      <td>...</td>\n",
              "      <td>no</td>\n",
              "      <td>yes</td>\n",
              "      <td>no</td>\n",
              "      <td>yes</td>\n",
              "      <td>one_year</td>\n",
              "      <td>yes</td>\n",
              "      <td>bank_transfer_(automatic)</td>\n",
              "      <td>65.35</td>\n",
              "      <td>1231.85</td>\n",
              "      <td>0</td>\n",
              "    </tr>\n",
              "    <tr>\n",
              "      <th>5200</th>\n",
              "      <td>6050-ijrhs</td>\n",
              "      <td>female</td>\n",
              "      <td>0</td>\n",
              "      <td>yes</td>\n",
              "      <td>yes</td>\n",
              "      <td>70</td>\n",
              "      <td>yes</td>\n",
              "      <td>yes</td>\n",
              "      <td>fiber_optic</td>\n",
              "      <td>no</td>\n",
              "      <td>...</td>\n",
              "      <td>yes</td>\n",
              "      <td>no</td>\n",
              "      <td>yes</td>\n",
              "      <td>yes</td>\n",
              "      <td>one_year</td>\n",
              "      <td>yes</td>\n",
              "      <td>electronic_check</td>\n",
              "      <td>106.50</td>\n",
              "      <td>7397.00</td>\n",
              "      <td>0</td>\n",
              "    </tr>\n",
              "    <tr>\n",
              "      <th>3987</th>\n",
              "      <td>7625-xcqrh</td>\n",
              "      <td>female</td>\n",
              "      <td>0</td>\n",
              "      <td>no</td>\n",
              "      <td>no</td>\n",
              "      <td>11</td>\n",
              "      <td>yes</td>\n",
              "      <td>yes</td>\n",
              "      <td>fiber_optic</td>\n",
              "      <td>no</td>\n",
              "      <td>...</td>\n",
              "      <td>no</td>\n",
              "      <td>no</td>\n",
              "      <td>no</td>\n",
              "      <td>no</td>\n",
              "      <td>month-to-month</td>\n",
              "      <td>yes</td>\n",
              "      <td>electronic_check</td>\n",
              "      <td>76.50</td>\n",
              "      <td>837.95</td>\n",
              "      <td>1</td>\n",
              "    </tr>\n",
              "    <tr>\n",
              "      <th>235</th>\n",
              "      <td>1251-krreg</td>\n",
              "      <td>male</td>\n",
              "      <td>0</td>\n",
              "      <td>no</td>\n",
              "      <td>no</td>\n",
              "      <td>2</td>\n",
              "      <td>yes</td>\n",
              "      <td>yes</td>\n",
              "      <td>dsl</td>\n",
              "      <td>no</td>\n",
              "      <td>...</td>\n",
              "      <td>no</td>\n",
              "      <td>no</td>\n",
              "      <td>no</td>\n",
              "      <td>no</td>\n",
              "      <td>month-to-month</td>\n",
              "      <td>yes</td>\n",
              "      <td>mailed_check</td>\n",
              "      <td>54.40</td>\n",
              "      <td>114.10</td>\n",
              "      <td>1</td>\n",
              "    </tr>\n",
              "    <tr>\n",
              "      <th>5165</th>\n",
              "      <td>8062-ybdoe</td>\n",
              "      <td>male</td>\n",
              "      <td>1</td>\n",
              "      <td>no</td>\n",
              "      <td>no</td>\n",
              "      <td>1</td>\n",
              "      <td>yes</td>\n",
              "      <td>no</td>\n",
              "      <td>fiber_optic</td>\n",
              "      <td>no</td>\n",
              "      <td>...</td>\n",
              "      <td>no</td>\n",
              "      <td>no</td>\n",
              "      <td>no</td>\n",
              "      <td>no</td>\n",
              "      <td>month-to-month</td>\n",
              "      <td>yes</td>\n",
              "      <td>electronic_check</td>\n",
              "      <td>69.65</td>\n",
              "      <td>69.65</td>\n",
              "      <td>1</td>\n",
              "    </tr>\n",
              "  </tbody>\n",
              "</table>\n",
              "<p>5625 rows × 21 columns</p>\n",
              "</div>\n",
              "      <button class=\"colab-df-convert\" onclick=\"convertToInteractive('df-528638ee-b087-445d-8a47-168f6dcf05a7')\"\n",
              "              title=\"Convert this dataframe to an interactive table.\"\n",
              "              style=\"display:none;\">\n",
              "        \n",
              "  <svg xmlns=\"http://www.w3.org/2000/svg\" height=\"24px\"viewBox=\"0 0 24 24\"\n",
              "       width=\"24px\">\n",
              "    <path d=\"M0 0h24v24H0V0z\" fill=\"none\"/>\n",
              "    <path d=\"M18.56 5.44l.94 2.06.94-2.06 2.06-.94-2.06-.94-.94-2.06-.94 2.06-2.06.94zm-11 1L8.5 8.5l.94-2.06 2.06-.94-2.06-.94L8.5 2.5l-.94 2.06-2.06.94zm10 10l.94 2.06.94-2.06 2.06-.94-2.06-.94-.94-2.06-.94 2.06-2.06.94z\"/><path d=\"M17.41 7.96l-1.37-1.37c-.4-.4-.92-.59-1.43-.59-.52 0-1.04.2-1.43.59L10.3 9.45l-7.72 7.72c-.78.78-.78 2.05 0 2.83L4 21.41c.39.39.9.59 1.41.59.51 0 1.02-.2 1.41-.59l7.78-7.78 2.81-2.81c.8-.78.8-2.07 0-2.86zM5.41 20L4 18.59l7.72-7.72 1.47 1.35L5.41 20z\"/>\n",
              "  </svg>\n",
              "      </button>\n",
              "      \n",
              "  <style>\n",
              "    .colab-df-container {\n",
              "      display:flex;\n",
              "      flex-wrap:wrap;\n",
              "      gap: 12px;\n",
              "    }\n",
              "\n",
              "    .colab-df-convert {\n",
              "      background-color: #E8F0FE;\n",
              "      border: none;\n",
              "      border-radius: 50%;\n",
              "      cursor: pointer;\n",
              "      display: none;\n",
              "      fill: #1967D2;\n",
              "      height: 32px;\n",
              "      padding: 0 0 0 0;\n",
              "      width: 32px;\n",
              "    }\n",
              "\n",
              "    .colab-df-convert:hover {\n",
              "      background-color: #E2EBFA;\n",
              "      box-shadow: 0px 1px 2px rgba(60, 64, 67, 0.3), 0px 1px 3px 1px rgba(60, 64, 67, 0.15);\n",
              "      fill: #174EA6;\n",
              "    }\n",
              "\n",
              "    [theme=dark] .colab-df-convert {\n",
              "      background-color: #3B4455;\n",
              "      fill: #D2E3FC;\n",
              "    }\n",
              "\n",
              "    [theme=dark] .colab-df-convert:hover {\n",
              "      background-color: #434B5C;\n",
              "      box-shadow: 0px 1px 3px 1px rgba(0, 0, 0, 0.15);\n",
              "      filter: drop-shadow(0px 1px 2px rgba(0, 0, 0, 0.3));\n",
              "      fill: #FFFFFF;\n",
              "    }\n",
              "  </style>\n",
              "\n",
              "      <script>\n",
              "        const buttonEl =\n",
              "          document.querySelector('#df-528638ee-b087-445d-8a47-168f6dcf05a7 button.colab-df-convert');\n",
              "        buttonEl.style.display =\n",
              "          google.colab.kernel.accessAllowed ? 'block' : 'none';\n",
              "\n",
              "        async function convertToInteractive(key) {\n",
              "          const element = document.querySelector('#df-528638ee-b087-445d-8a47-168f6dcf05a7');\n",
              "          const dataTable =\n",
              "            await google.colab.kernel.invokeFunction('convertToInteractive',\n",
              "                                                     [key], {});\n",
              "          if (!dataTable) return;\n",
              "\n",
              "          const docLinkHtml = 'Like what you see? Visit the ' +\n",
              "            '<a target=\"_blank\" href=https://colab.research.google.com/notebooks/data_table.ipynb>data table notebook</a>'\n",
              "            + ' to learn more about interactive tables.';\n",
              "          element.innerHTML = '';\n",
              "          dataTable['output_type'] = 'display_data';\n",
              "          await google.colab.output.renderOutput(dataTable, element);\n",
              "          const docLink = document.createElement('div');\n",
              "          docLink.innerHTML = docLinkHtml;\n",
              "          element.appendChild(docLink);\n",
              "        }\n",
              "      </script>\n",
              "    </div>\n",
              "  </div>\n",
              "  "
            ]
          },
          "metadata": {},
          "execution_count": 509
        }
      ]
    },
    {
      "cell_type": "markdown",
      "source": [
        "Check Missing Values "
      ],
      "metadata": {
        "id": "QmhkcUtPpAez"
      }
    },
    {
      "cell_type": "code",
      "source": [
        "df_full_train.isnull().sum()"
      ],
      "metadata": {
        "colab": {
          "base_uri": "https://localhost:8080/"
        },
        "id": "2jvCPmTmo_Xi",
        "outputId": "b67166c1-adc0-4ed2-bfcb-bc217cf750b7"
      },
      "execution_count": null,
      "outputs": [
        {
          "output_type": "execute_result",
          "data": {
            "text/plain": [
              "customerid          0\n",
              "gender              0\n",
              "seniorcitizen       0\n",
              "partner             0\n",
              "dependents          0\n",
              "tenure              0\n",
              "phoneservice        0\n",
              "multiplelines       0\n",
              "internetservice     0\n",
              "onlinesecurity      0\n",
              "onlinebackup        0\n",
              "deviceprotection    0\n",
              "techsupport         0\n",
              "streamingtv         0\n",
              "streamingmovies     0\n",
              "contract            0\n",
              "paperlessbilling    0\n",
              "paymentmethod       0\n",
              "monthlycharges      0\n",
              "totalcharges        0\n",
              "churn               0\n",
              "dtype: int64"
            ]
          },
          "metadata": {},
          "execution_count": 510
        }
      ]
    },
    {
      "cell_type": "code",
      "source": [
        "df_full_train.churn.value_counts()"
      ],
      "metadata": {
        "colab": {
          "base_uri": "https://localhost:8080/"
        },
        "id": "CL_vX4B8HSXB",
        "outputId": "ad987e41-4c29-4733-b9de-3355c587017b"
      },
      "execution_count": null,
      "outputs": [
        {
          "output_type": "execute_result",
          "data": {
            "text/plain": [
              "0    4122\n",
              "1    1503\n",
              "Name: churn, dtype: int64"
            ]
          },
          "metadata": {},
          "execution_count": 511
        }
      ]
    },
    {
      "cell_type": "code",
      "source": [
        "df_full_train.churn.value_counts(normalize=True)"
      ],
      "metadata": {
        "colab": {
          "base_uri": "https://localhost:8080/"
        },
        "id": "u1MRQ57HpHY6",
        "outputId": "4c9776fa-187b-40cf-a6d4-0c2c2e429502"
      },
      "execution_count": null,
      "outputs": [
        {
          "output_type": "execute_result",
          "data": {
            "text/plain": [
              "0    0.7328\n",
              "1    0.2672\n",
              "Name: churn, dtype: float64"
            ]
          },
          "metadata": {},
          "execution_count": 512
        }
      ]
    },
    {
      "cell_type": "code",
      "source": [
        "global_churn_rate = df_full_train.churn.mean()"
      ],
      "metadata": {
        "id": "ZtpqlcE4pyGU"
      },
      "execution_count": null,
      "outputs": []
    },
    {
      "cell_type": "markdown",
      "source": [
        "# Feature Selection\n",
        "\n"
      ],
      "metadata": {
        "id": "lMwISEq_8XDA"
      }
    },
    {
      "cell_type": "markdown",
      "source": [
        "## Variance Thresholding"
      ],
      "metadata": {
        "id": "G_CNYtivGZ7q"
      }
    },
    {
      "cell_type": "code",
      "source": [
        "# screen through our features and list those with high numbers of unique values\n",
        "for col in df_full_train.columns:\n",
        "    fraction_unique = df_full_train[col].unique().shape[0] / df_full_train.shape[0]\n",
        "    if fraction_unique > 0.5:\n",
        "        print(col)"
      ],
      "metadata": {
        "colab": {
          "base_uri": "https://localhost:8080/"
        },
        "id": "b-4xcxeOjzfW",
        "outputId": "9bea099e-c05c-42e5-aa5e-89021e9e5644"
      },
      "execution_count": null,
      "outputs": [
        {
          "output_type": "stream",
          "name": "stdout",
          "text": [
            "customerid\n",
            "totalcharges\n"
          ]
        }
      ]
    },
    {
      "cell_type": "code",
      "source": [
        "df_full_train.drop('customerid', axis=1, inplace=True)"
      ],
      "metadata": {
        "id": "XMIxBySqj0mE"
      },
      "execution_count": null,
      "outputs": []
    },
    {
      "cell_type": "markdown",
      "source": [
        "# Sort numerical & categorical variables"
      ],
      "metadata": {
        "id": "9CDvynt6pY-u"
      }
    },
    {
      "cell_type": "code",
      "source": [
        "df_full_train.columns[:-1]"
      ],
      "metadata": {
        "colab": {
          "base_uri": "https://localhost:8080/"
        },
        "id": "OjNNH7h3sXNe",
        "outputId": "15db4129-f8dd-47f4-8d1f-9f8e2007f7c6"
      },
      "execution_count": null,
      "outputs": [
        {
          "output_type": "execute_result",
          "data": {
            "text/plain": [
              "Index(['gender', 'seniorcitizen', 'partner', 'dependents', 'tenure',\n",
              "       'phoneservice', 'multiplelines', 'internetservice', 'onlinesecurity',\n",
              "       'onlinebackup', 'deviceprotection', 'techsupport', 'streamingtv',\n",
              "       'streamingmovies', 'contract', 'paperlessbilling', 'paymentmethod',\n",
              "       'monthlycharges', 'totalcharges'],\n",
              "      dtype='object')"
            ]
          },
          "metadata": {},
          "execution_count": 516
        }
      ]
    },
    {
      "cell_type": "code",
      "source": [
        "def separate_cat_and_num_columns(df, skip):\n",
        "  \"\"\"\n",
        "  Splits categorical & numerical columns for further analysis. \n",
        "  The negative 1 is to remove the target column if there is one.\n",
        "  the skip parameters, skips any numerical data types that should be \n",
        "  in categorical \n",
        "  \"\"\"\n",
        "  numerical = []\n",
        "  categorical = []\n",
        "\n",
        "  for col in df.columns[:-1]:\n",
        "    if pd.api.types.is_numeric_dtype(df[col]):\n",
        "      numerical.append(col)\n",
        "    else:\n",
        "      categorical.append(col)\n",
        "  \n",
        "  if len(skip) > 0:\n",
        "    categorical.append(skip)\n",
        "    numerical.remove(skip)\n",
        "  return numerical, categorical "
      ],
      "metadata": {
        "id": "sYtKZiDnpSab"
      },
      "execution_count": null,
      "outputs": []
    },
    {
      "cell_type": "code",
      "source": [
        "numerical, categorical = separate_cat_and_num_columns(df_full_train, skip='seniorcitizen')"
      ],
      "metadata": {
        "id": "HrCz3cfBteWn"
      },
      "execution_count": null,
      "outputs": []
    },
    {
      "cell_type": "code",
      "source": [
        "numerical"
      ],
      "metadata": {
        "colab": {
          "base_uri": "https://localhost:8080/"
        },
        "id": "Jj468MmltpTl",
        "outputId": "a3f9871e-8ea2-4838-a6c2-cc26bdb18c8d"
      },
      "execution_count": null,
      "outputs": [
        {
          "output_type": "execute_result",
          "data": {
            "text/plain": [
              "['tenure', 'monthlycharges', 'totalcharges']"
            ]
          },
          "metadata": {},
          "execution_count": 519
        }
      ]
    },
    {
      "cell_type": "code",
      "source": [
        "df_full_train[categorical].nunique()"
      ],
      "metadata": {
        "colab": {
          "base_uri": "https://localhost:8080/"
        },
        "id": "3J-sLpvvuMzR",
        "outputId": "4c6111d5-6711-4ed4-e9b3-381824e0cdb8"
      },
      "execution_count": null,
      "outputs": [
        {
          "output_type": "execute_result",
          "data": {
            "text/plain": [
              "gender              2\n",
              "partner             2\n",
              "dependents          2\n",
              "phoneservice        2\n",
              "multiplelines       3\n",
              "internetservice     3\n",
              "onlinesecurity      3\n",
              "onlinebackup        3\n",
              "deviceprotection    3\n",
              "techsupport         3\n",
              "streamingtv         3\n",
              "streamingmovies     3\n",
              "contract            3\n",
              "paperlessbilling    2\n",
              "paymentmethod       4\n",
              "seniorcitizen       2\n",
              "dtype: int64"
            ]
          },
          "metadata": {},
          "execution_count": 520
        }
      ]
    },
    {
      "cell_type": "markdown",
      "source": [
        "# Feature Importance\n"
      ],
      "metadata": {
        "id": "gWVx9AlnueRD"
      }
    },
    {
      "cell_type": "markdown",
      "source": [
        "## Risk Ratio\n",
        "\n",
        "Difference: \n",
        "\n",
        "If the Group mean is > than the Gloabl mean it means they are more likely to churn. \n",
        "\n",
        "If the global mean is higher it means they are less likely to churn\n",
        "\n",
        "Risk Ratio:\n",
        "\n",
        "Risk = Group / Global = > 1: More likely to churn, < 1: Less likely to churn"
      ],
      "metadata": {
        "id": "xhXKic1E-JEJ"
      }
    },
    {
      "cell_type": "code",
      "source": [
        "from IPython.display import display\n",
        "def risk_ratio_to_target(df, categorical, target):\n",
        "  \"\"\"\n",
        "  Performs the risk ratio to the target\n",
        "  \"\"\"\n",
        "  global_rate = df[f'{target}'].mean()\n",
        "\n",
        "  for c in categorical:\n",
        "    df_group = df.groupby(c)[f\"{target}\"].agg(['mean', 'count'])\n",
        "    df_group['diff'] = df_group['mean'] - global_rate\n",
        "    df_group['risk'] = df_group['mean'] / global_rate\n",
        "    display(df_group)\n",
        "    print()"
      ],
      "metadata": {
        "id": "SmpB87rpug78"
      },
      "execution_count": null,
      "outputs": []
    },
    {
      "cell_type": "code",
      "source": [
        "risk_ratio_to_target(df_full_train, categorical, target=\"churn\")"
      ],
      "metadata": {
        "colab": {
          "base_uri": "https://localhost:8080/",
          "height": 1000
        },
        "id": "gWaMDCQsJIAN",
        "outputId": "fc778d03-d151-4caf-d0ad-3c58fe4c03b0"
      },
      "execution_count": null,
      "outputs": [
        {
          "output_type": "display_data",
          "data": {
            "text/plain": [
              "            mean  count      diff      risk\n",
              "gender                                     \n",
              "female  0.271716   2786  0.004516  1.016900\n",
              "male    0.262769   2839 -0.004431  0.983415"
            ],
            "text/html": [
              "\n",
              "  <div id=\"df-325d2cb5-0297-49fe-9be8-eb6839bd6e3e\">\n",
              "    <div class=\"colab-df-container\">\n",
              "      <div>\n",
              "<style scoped>\n",
              "    .dataframe tbody tr th:only-of-type {\n",
              "        vertical-align: middle;\n",
              "    }\n",
              "\n",
              "    .dataframe tbody tr th {\n",
              "        vertical-align: top;\n",
              "    }\n",
              "\n",
              "    .dataframe thead th {\n",
              "        text-align: right;\n",
              "    }\n",
              "</style>\n",
              "<table border=\"1\" class=\"dataframe\">\n",
              "  <thead>\n",
              "    <tr style=\"text-align: right;\">\n",
              "      <th></th>\n",
              "      <th>mean</th>\n",
              "      <th>count</th>\n",
              "      <th>diff</th>\n",
              "      <th>risk</th>\n",
              "    </tr>\n",
              "    <tr>\n",
              "      <th>gender</th>\n",
              "      <th></th>\n",
              "      <th></th>\n",
              "      <th></th>\n",
              "      <th></th>\n",
              "    </tr>\n",
              "  </thead>\n",
              "  <tbody>\n",
              "    <tr>\n",
              "      <th>female</th>\n",
              "      <td>0.271716</td>\n",
              "      <td>2786</td>\n",
              "      <td>0.004516</td>\n",
              "      <td>1.016900</td>\n",
              "    </tr>\n",
              "    <tr>\n",
              "      <th>male</th>\n",
              "      <td>0.262769</td>\n",
              "      <td>2839</td>\n",
              "      <td>-0.004431</td>\n",
              "      <td>0.983415</td>\n",
              "    </tr>\n",
              "  </tbody>\n",
              "</table>\n",
              "</div>\n",
              "      <button class=\"colab-df-convert\" onclick=\"convertToInteractive('df-325d2cb5-0297-49fe-9be8-eb6839bd6e3e')\"\n",
              "              title=\"Convert this dataframe to an interactive table.\"\n",
              "              style=\"display:none;\">\n",
              "        \n",
              "  <svg xmlns=\"http://www.w3.org/2000/svg\" height=\"24px\"viewBox=\"0 0 24 24\"\n",
              "       width=\"24px\">\n",
              "    <path d=\"M0 0h24v24H0V0z\" fill=\"none\"/>\n",
              "    <path d=\"M18.56 5.44l.94 2.06.94-2.06 2.06-.94-2.06-.94-.94-2.06-.94 2.06-2.06.94zm-11 1L8.5 8.5l.94-2.06 2.06-.94-2.06-.94L8.5 2.5l-.94 2.06-2.06.94zm10 10l.94 2.06.94-2.06 2.06-.94-2.06-.94-.94-2.06-.94 2.06-2.06.94z\"/><path d=\"M17.41 7.96l-1.37-1.37c-.4-.4-.92-.59-1.43-.59-.52 0-1.04.2-1.43.59L10.3 9.45l-7.72 7.72c-.78.78-.78 2.05 0 2.83L4 21.41c.39.39.9.59 1.41.59.51 0 1.02-.2 1.41-.59l7.78-7.78 2.81-2.81c.8-.78.8-2.07 0-2.86zM5.41 20L4 18.59l7.72-7.72 1.47 1.35L5.41 20z\"/>\n",
              "  </svg>\n",
              "      </button>\n",
              "      \n",
              "  <style>\n",
              "    .colab-df-container {\n",
              "      display:flex;\n",
              "      flex-wrap:wrap;\n",
              "      gap: 12px;\n",
              "    }\n",
              "\n",
              "    .colab-df-convert {\n",
              "      background-color: #E8F0FE;\n",
              "      border: none;\n",
              "      border-radius: 50%;\n",
              "      cursor: pointer;\n",
              "      display: none;\n",
              "      fill: #1967D2;\n",
              "      height: 32px;\n",
              "      padding: 0 0 0 0;\n",
              "      width: 32px;\n",
              "    }\n",
              "\n",
              "    .colab-df-convert:hover {\n",
              "      background-color: #E2EBFA;\n",
              "      box-shadow: 0px 1px 2px rgba(60, 64, 67, 0.3), 0px 1px 3px 1px rgba(60, 64, 67, 0.15);\n",
              "      fill: #174EA6;\n",
              "    }\n",
              "\n",
              "    [theme=dark] .colab-df-convert {\n",
              "      background-color: #3B4455;\n",
              "      fill: #D2E3FC;\n",
              "    }\n",
              "\n",
              "    [theme=dark] .colab-df-convert:hover {\n",
              "      background-color: #434B5C;\n",
              "      box-shadow: 0px 1px 3px 1px rgba(0, 0, 0, 0.15);\n",
              "      filter: drop-shadow(0px 1px 2px rgba(0, 0, 0, 0.3));\n",
              "      fill: #FFFFFF;\n",
              "    }\n",
              "  </style>\n",
              "\n",
              "      <script>\n",
              "        const buttonEl =\n",
              "          document.querySelector('#df-325d2cb5-0297-49fe-9be8-eb6839bd6e3e button.colab-df-convert');\n",
              "        buttonEl.style.display =\n",
              "          google.colab.kernel.accessAllowed ? 'block' : 'none';\n",
              "\n",
              "        async function convertToInteractive(key) {\n",
              "          const element = document.querySelector('#df-325d2cb5-0297-49fe-9be8-eb6839bd6e3e');\n",
              "          const dataTable =\n",
              "            await google.colab.kernel.invokeFunction('convertToInteractive',\n",
              "                                                     [key], {});\n",
              "          if (!dataTable) return;\n",
              "\n",
              "          const docLinkHtml = 'Like what you see? Visit the ' +\n",
              "            '<a target=\"_blank\" href=https://colab.research.google.com/notebooks/data_table.ipynb>data table notebook</a>'\n",
              "            + ' to learn more about interactive tables.';\n",
              "          element.innerHTML = '';\n",
              "          dataTable['output_type'] = 'display_data';\n",
              "          await google.colab.output.renderOutput(dataTable, element);\n",
              "          const docLink = document.createElement('div');\n",
              "          docLink.innerHTML = docLinkHtml;\n",
              "          element.appendChild(docLink);\n",
              "        }\n",
              "      </script>\n",
              "    </div>\n",
              "  </div>\n",
              "  "
            ]
          },
          "metadata": {}
        },
        {
          "output_type": "stream",
          "name": "stdout",
          "text": [
            "\n"
          ]
        },
        {
          "output_type": "display_data",
          "data": {
            "text/plain": [
              "             mean  count      diff      risk\n",
              "partner                                     \n",
              "no       0.330482   2923  0.063282  1.236835\n",
              "yes      0.198742   2702 -0.068458  0.743794"
            ],
            "text/html": [
              "\n",
              "  <div id=\"df-716444c4-9c38-4fe0-bf1b-e9f4de54aea8\">\n",
              "    <div class=\"colab-df-container\">\n",
              "      <div>\n",
              "<style scoped>\n",
              "    .dataframe tbody tr th:only-of-type {\n",
              "        vertical-align: middle;\n",
              "    }\n",
              "\n",
              "    .dataframe tbody tr th {\n",
              "        vertical-align: top;\n",
              "    }\n",
              "\n",
              "    .dataframe thead th {\n",
              "        text-align: right;\n",
              "    }\n",
              "</style>\n",
              "<table border=\"1\" class=\"dataframe\">\n",
              "  <thead>\n",
              "    <tr style=\"text-align: right;\">\n",
              "      <th></th>\n",
              "      <th>mean</th>\n",
              "      <th>count</th>\n",
              "      <th>diff</th>\n",
              "      <th>risk</th>\n",
              "    </tr>\n",
              "    <tr>\n",
              "      <th>partner</th>\n",
              "      <th></th>\n",
              "      <th></th>\n",
              "      <th></th>\n",
              "      <th></th>\n",
              "    </tr>\n",
              "  </thead>\n",
              "  <tbody>\n",
              "    <tr>\n",
              "      <th>no</th>\n",
              "      <td>0.330482</td>\n",
              "      <td>2923</td>\n",
              "      <td>0.063282</td>\n",
              "      <td>1.236835</td>\n",
              "    </tr>\n",
              "    <tr>\n",
              "      <th>yes</th>\n",
              "      <td>0.198742</td>\n",
              "      <td>2702</td>\n",
              "      <td>-0.068458</td>\n",
              "      <td>0.743794</td>\n",
              "    </tr>\n",
              "  </tbody>\n",
              "</table>\n",
              "</div>\n",
              "      <button class=\"colab-df-convert\" onclick=\"convertToInteractive('df-716444c4-9c38-4fe0-bf1b-e9f4de54aea8')\"\n",
              "              title=\"Convert this dataframe to an interactive table.\"\n",
              "              style=\"display:none;\">\n",
              "        \n",
              "  <svg xmlns=\"http://www.w3.org/2000/svg\" height=\"24px\"viewBox=\"0 0 24 24\"\n",
              "       width=\"24px\">\n",
              "    <path d=\"M0 0h24v24H0V0z\" fill=\"none\"/>\n",
              "    <path d=\"M18.56 5.44l.94 2.06.94-2.06 2.06-.94-2.06-.94-.94-2.06-.94 2.06-2.06.94zm-11 1L8.5 8.5l.94-2.06 2.06-.94-2.06-.94L8.5 2.5l-.94 2.06-2.06.94zm10 10l.94 2.06.94-2.06 2.06-.94-2.06-.94-.94-2.06-.94 2.06-2.06.94z\"/><path d=\"M17.41 7.96l-1.37-1.37c-.4-.4-.92-.59-1.43-.59-.52 0-1.04.2-1.43.59L10.3 9.45l-7.72 7.72c-.78.78-.78 2.05 0 2.83L4 21.41c.39.39.9.59 1.41.59.51 0 1.02-.2 1.41-.59l7.78-7.78 2.81-2.81c.8-.78.8-2.07 0-2.86zM5.41 20L4 18.59l7.72-7.72 1.47 1.35L5.41 20z\"/>\n",
              "  </svg>\n",
              "      </button>\n",
              "      \n",
              "  <style>\n",
              "    .colab-df-container {\n",
              "      display:flex;\n",
              "      flex-wrap:wrap;\n",
              "      gap: 12px;\n",
              "    }\n",
              "\n",
              "    .colab-df-convert {\n",
              "      background-color: #E8F0FE;\n",
              "      border: none;\n",
              "      border-radius: 50%;\n",
              "      cursor: pointer;\n",
              "      display: none;\n",
              "      fill: #1967D2;\n",
              "      height: 32px;\n",
              "      padding: 0 0 0 0;\n",
              "      width: 32px;\n",
              "    }\n",
              "\n",
              "    .colab-df-convert:hover {\n",
              "      background-color: #E2EBFA;\n",
              "      box-shadow: 0px 1px 2px rgba(60, 64, 67, 0.3), 0px 1px 3px 1px rgba(60, 64, 67, 0.15);\n",
              "      fill: #174EA6;\n",
              "    }\n",
              "\n",
              "    [theme=dark] .colab-df-convert {\n",
              "      background-color: #3B4455;\n",
              "      fill: #D2E3FC;\n",
              "    }\n",
              "\n",
              "    [theme=dark] .colab-df-convert:hover {\n",
              "      background-color: #434B5C;\n",
              "      box-shadow: 0px 1px 3px 1px rgba(0, 0, 0, 0.15);\n",
              "      filter: drop-shadow(0px 1px 2px rgba(0, 0, 0, 0.3));\n",
              "      fill: #FFFFFF;\n",
              "    }\n",
              "  </style>\n",
              "\n",
              "      <script>\n",
              "        const buttonEl =\n",
              "          document.querySelector('#df-716444c4-9c38-4fe0-bf1b-e9f4de54aea8 button.colab-df-convert');\n",
              "        buttonEl.style.display =\n",
              "          google.colab.kernel.accessAllowed ? 'block' : 'none';\n",
              "\n",
              "        async function convertToInteractive(key) {\n",
              "          const element = document.querySelector('#df-716444c4-9c38-4fe0-bf1b-e9f4de54aea8');\n",
              "          const dataTable =\n",
              "            await google.colab.kernel.invokeFunction('convertToInteractive',\n",
              "                                                     [key], {});\n",
              "          if (!dataTable) return;\n",
              "\n",
              "          const docLinkHtml = 'Like what you see? Visit the ' +\n",
              "            '<a target=\"_blank\" href=https://colab.research.google.com/notebooks/data_table.ipynb>data table notebook</a>'\n",
              "            + ' to learn more about interactive tables.';\n",
              "          element.innerHTML = '';\n",
              "          dataTable['output_type'] = 'display_data';\n",
              "          await google.colab.output.renderOutput(dataTable, element);\n",
              "          const docLink = document.createElement('div');\n",
              "          docLink.innerHTML = docLinkHtml;\n",
              "          element.appendChild(docLink);\n",
              "        }\n",
              "      </script>\n",
              "    </div>\n",
              "  </div>\n",
              "  "
            ]
          },
          "metadata": {}
        },
        {
          "output_type": "stream",
          "name": "stdout",
          "text": [
            "\n"
          ]
        },
        {
          "output_type": "display_data",
          "data": {
            "text/plain": [
              "                mean  count      diff      risk\n",
              "dependents                                     \n",
              "no          0.313989   3946  0.046789  1.175108\n",
              "yes         0.157236   1679 -0.109964  0.588460"
            ],
            "text/html": [
              "\n",
              "  <div id=\"df-27f427ac-adbf-4300-9977-a65cfebe1d87\">\n",
              "    <div class=\"colab-df-container\">\n",
              "      <div>\n",
              "<style scoped>\n",
              "    .dataframe tbody tr th:only-of-type {\n",
              "        vertical-align: middle;\n",
              "    }\n",
              "\n",
              "    .dataframe tbody tr th {\n",
              "        vertical-align: top;\n",
              "    }\n",
              "\n",
              "    .dataframe thead th {\n",
              "        text-align: right;\n",
              "    }\n",
              "</style>\n",
              "<table border=\"1\" class=\"dataframe\">\n",
              "  <thead>\n",
              "    <tr style=\"text-align: right;\">\n",
              "      <th></th>\n",
              "      <th>mean</th>\n",
              "      <th>count</th>\n",
              "      <th>diff</th>\n",
              "      <th>risk</th>\n",
              "    </tr>\n",
              "    <tr>\n",
              "      <th>dependents</th>\n",
              "      <th></th>\n",
              "      <th></th>\n",
              "      <th></th>\n",
              "      <th></th>\n",
              "    </tr>\n",
              "  </thead>\n",
              "  <tbody>\n",
              "    <tr>\n",
              "      <th>no</th>\n",
              "      <td>0.313989</td>\n",
              "      <td>3946</td>\n",
              "      <td>0.046789</td>\n",
              "      <td>1.175108</td>\n",
              "    </tr>\n",
              "    <tr>\n",
              "      <th>yes</th>\n",
              "      <td>0.157236</td>\n",
              "      <td>1679</td>\n",
              "      <td>-0.109964</td>\n",
              "      <td>0.588460</td>\n",
              "    </tr>\n",
              "  </tbody>\n",
              "</table>\n",
              "</div>\n",
              "      <button class=\"colab-df-convert\" onclick=\"convertToInteractive('df-27f427ac-adbf-4300-9977-a65cfebe1d87')\"\n",
              "              title=\"Convert this dataframe to an interactive table.\"\n",
              "              style=\"display:none;\">\n",
              "        \n",
              "  <svg xmlns=\"http://www.w3.org/2000/svg\" height=\"24px\"viewBox=\"0 0 24 24\"\n",
              "       width=\"24px\">\n",
              "    <path d=\"M0 0h24v24H0V0z\" fill=\"none\"/>\n",
              "    <path d=\"M18.56 5.44l.94 2.06.94-2.06 2.06-.94-2.06-.94-.94-2.06-.94 2.06-2.06.94zm-11 1L8.5 8.5l.94-2.06 2.06-.94-2.06-.94L8.5 2.5l-.94 2.06-2.06.94zm10 10l.94 2.06.94-2.06 2.06-.94-2.06-.94-.94-2.06-.94 2.06-2.06.94z\"/><path d=\"M17.41 7.96l-1.37-1.37c-.4-.4-.92-.59-1.43-.59-.52 0-1.04.2-1.43.59L10.3 9.45l-7.72 7.72c-.78.78-.78 2.05 0 2.83L4 21.41c.39.39.9.59 1.41.59.51 0 1.02-.2 1.41-.59l7.78-7.78 2.81-2.81c.8-.78.8-2.07 0-2.86zM5.41 20L4 18.59l7.72-7.72 1.47 1.35L5.41 20z\"/>\n",
              "  </svg>\n",
              "      </button>\n",
              "      \n",
              "  <style>\n",
              "    .colab-df-container {\n",
              "      display:flex;\n",
              "      flex-wrap:wrap;\n",
              "      gap: 12px;\n",
              "    }\n",
              "\n",
              "    .colab-df-convert {\n",
              "      background-color: #E8F0FE;\n",
              "      border: none;\n",
              "      border-radius: 50%;\n",
              "      cursor: pointer;\n",
              "      display: none;\n",
              "      fill: #1967D2;\n",
              "      height: 32px;\n",
              "      padding: 0 0 0 0;\n",
              "      width: 32px;\n",
              "    }\n",
              "\n",
              "    .colab-df-convert:hover {\n",
              "      background-color: #E2EBFA;\n",
              "      box-shadow: 0px 1px 2px rgba(60, 64, 67, 0.3), 0px 1px 3px 1px rgba(60, 64, 67, 0.15);\n",
              "      fill: #174EA6;\n",
              "    }\n",
              "\n",
              "    [theme=dark] .colab-df-convert {\n",
              "      background-color: #3B4455;\n",
              "      fill: #D2E3FC;\n",
              "    }\n",
              "\n",
              "    [theme=dark] .colab-df-convert:hover {\n",
              "      background-color: #434B5C;\n",
              "      box-shadow: 0px 1px 3px 1px rgba(0, 0, 0, 0.15);\n",
              "      filter: drop-shadow(0px 1px 2px rgba(0, 0, 0, 0.3));\n",
              "      fill: #FFFFFF;\n",
              "    }\n",
              "  </style>\n",
              "\n",
              "      <script>\n",
              "        const buttonEl =\n",
              "          document.querySelector('#df-27f427ac-adbf-4300-9977-a65cfebe1d87 button.colab-df-convert');\n",
              "        buttonEl.style.display =\n",
              "          google.colab.kernel.accessAllowed ? 'block' : 'none';\n",
              "\n",
              "        async function convertToInteractive(key) {\n",
              "          const element = document.querySelector('#df-27f427ac-adbf-4300-9977-a65cfebe1d87');\n",
              "          const dataTable =\n",
              "            await google.colab.kernel.invokeFunction('convertToInteractive',\n",
              "                                                     [key], {});\n",
              "          if (!dataTable) return;\n",
              "\n",
              "          const docLinkHtml = 'Like what you see? Visit the ' +\n",
              "            '<a target=\"_blank\" href=https://colab.research.google.com/notebooks/data_table.ipynb>data table notebook</a>'\n",
              "            + ' to learn more about interactive tables.';\n",
              "          element.innerHTML = '';\n",
              "          dataTable['output_type'] = 'display_data';\n",
              "          await google.colab.output.renderOutput(dataTable, element);\n",
              "          const docLink = document.createElement('div');\n",
              "          docLink.innerHTML = docLinkHtml;\n",
              "          element.appendChild(docLink);\n",
              "        }\n",
              "      </script>\n",
              "    </div>\n",
              "  </div>\n",
              "  "
            ]
          },
          "metadata": {}
        },
        {
          "output_type": "stream",
          "name": "stdout",
          "text": [
            "\n"
          ]
        },
        {
          "output_type": "display_data",
          "data": {
            "text/plain": [
              "                  mean  count      diff      risk\n",
              "phoneservice                                     \n",
              "no            0.257519    532 -0.009681  0.963768\n",
              "yes           0.268211   5093  0.001011  1.003785"
            ],
            "text/html": [
              "\n",
              "  <div id=\"df-7f7a4ab3-7bbd-40d1-8186-80476c2eccf6\">\n",
              "    <div class=\"colab-df-container\">\n",
              "      <div>\n",
              "<style scoped>\n",
              "    .dataframe tbody tr th:only-of-type {\n",
              "        vertical-align: middle;\n",
              "    }\n",
              "\n",
              "    .dataframe tbody tr th {\n",
              "        vertical-align: top;\n",
              "    }\n",
              "\n",
              "    .dataframe thead th {\n",
              "        text-align: right;\n",
              "    }\n",
              "</style>\n",
              "<table border=\"1\" class=\"dataframe\">\n",
              "  <thead>\n",
              "    <tr style=\"text-align: right;\">\n",
              "      <th></th>\n",
              "      <th>mean</th>\n",
              "      <th>count</th>\n",
              "      <th>diff</th>\n",
              "      <th>risk</th>\n",
              "    </tr>\n",
              "    <tr>\n",
              "      <th>phoneservice</th>\n",
              "      <th></th>\n",
              "      <th></th>\n",
              "      <th></th>\n",
              "      <th></th>\n",
              "    </tr>\n",
              "  </thead>\n",
              "  <tbody>\n",
              "    <tr>\n",
              "      <th>no</th>\n",
              "      <td>0.257519</td>\n",
              "      <td>532</td>\n",
              "      <td>-0.009681</td>\n",
              "      <td>0.963768</td>\n",
              "    </tr>\n",
              "    <tr>\n",
              "      <th>yes</th>\n",
              "      <td>0.268211</td>\n",
              "      <td>5093</td>\n",
              "      <td>0.001011</td>\n",
              "      <td>1.003785</td>\n",
              "    </tr>\n",
              "  </tbody>\n",
              "</table>\n",
              "</div>\n",
              "      <button class=\"colab-df-convert\" onclick=\"convertToInteractive('df-7f7a4ab3-7bbd-40d1-8186-80476c2eccf6')\"\n",
              "              title=\"Convert this dataframe to an interactive table.\"\n",
              "              style=\"display:none;\">\n",
              "        \n",
              "  <svg xmlns=\"http://www.w3.org/2000/svg\" height=\"24px\"viewBox=\"0 0 24 24\"\n",
              "       width=\"24px\">\n",
              "    <path d=\"M0 0h24v24H0V0z\" fill=\"none\"/>\n",
              "    <path d=\"M18.56 5.44l.94 2.06.94-2.06 2.06-.94-2.06-.94-.94-2.06-.94 2.06-2.06.94zm-11 1L8.5 8.5l.94-2.06 2.06-.94-2.06-.94L8.5 2.5l-.94 2.06-2.06.94zm10 10l.94 2.06.94-2.06 2.06-.94-2.06-.94-.94-2.06-.94 2.06-2.06.94z\"/><path d=\"M17.41 7.96l-1.37-1.37c-.4-.4-.92-.59-1.43-.59-.52 0-1.04.2-1.43.59L10.3 9.45l-7.72 7.72c-.78.78-.78 2.05 0 2.83L4 21.41c.39.39.9.59 1.41.59.51 0 1.02-.2 1.41-.59l7.78-7.78 2.81-2.81c.8-.78.8-2.07 0-2.86zM5.41 20L4 18.59l7.72-7.72 1.47 1.35L5.41 20z\"/>\n",
              "  </svg>\n",
              "      </button>\n",
              "      \n",
              "  <style>\n",
              "    .colab-df-container {\n",
              "      display:flex;\n",
              "      flex-wrap:wrap;\n",
              "      gap: 12px;\n",
              "    }\n",
              "\n",
              "    .colab-df-convert {\n",
              "      background-color: #E8F0FE;\n",
              "      border: none;\n",
              "      border-radius: 50%;\n",
              "      cursor: pointer;\n",
              "      display: none;\n",
              "      fill: #1967D2;\n",
              "      height: 32px;\n",
              "      padding: 0 0 0 0;\n",
              "      width: 32px;\n",
              "    }\n",
              "\n",
              "    .colab-df-convert:hover {\n",
              "      background-color: #E2EBFA;\n",
              "      box-shadow: 0px 1px 2px rgba(60, 64, 67, 0.3), 0px 1px 3px 1px rgba(60, 64, 67, 0.15);\n",
              "      fill: #174EA6;\n",
              "    }\n",
              "\n",
              "    [theme=dark] .colab-df-convert {\n",
              "      background-color: #3B4455;\n",
              "      fill: #D2E3FC;\n",
              "    }\n",
              "\n",
              "    [theme=dark] .colab-df-convert:hover {\n",
              "      background-color: #434B5C;\n",
              "      box-shadow: 0px 1px 3px 1px rgba(0, 0, 0, 0.15);\n",
              "      filter: drop-shadow(0px 1px 2px rgba(0, 0, 0, 0.3));\n",
              "      fill: #FFFFFF;\n",
              "    }\n",
              "  </style>\n",
              "\n",
              "      <script>\n",
              "        const buttonEl =\n",
              "          document.querySelector('#df-7f7a4ab3-7bbd-40d1-8186-80476c2eccf6 button.colab-df-convert');\n",
              "        buttonEl.style.display =\n",
              "          google.colab.kernel.accessAllowed ? 'block' : 'none';\n",
              "\n",
              "        async function convertToInteractive(key) {\n",
              "          const element = document.querySelector('#df-7f7a4ab3-7bbd-40d1-8186-80476c2eccf6');\n",
              "          const dataTable =\n",
              "            await google.colab.kernel.invokeFunction('convertToInteractive',\n",
              "                                                     [key], {});\n",
              "          if (!dataTable) return;\n",
              "\n",
              "          const docLinkHtml = 'Like what you see? Visit the ' +\n",
              "            '<a target=\"_blank\" href=https://colab.research.google.com/notebooks/data_table.ipynb>data table notebook</a>'\n",
              "            + ' to learn more about interactive tables.';\n",
              "          element.innerHTML = '';\n",
              "          dataTable['output_type'] = 'display_data';\n",
              "          await google.colab.output.renderOutput(dataTable, element);\n",
              "          const docLink = document.createElement('div');\n",
              "          docLink.innerHTML = docLinkHtml;\n",
              "          element.appendChild(docLink);\n",
              "        }\n",
              "      </script>\n",
              "    </div>\n",
              "  </div>\n",
              "  "
            ]
          },
          "metadata": {}
        },
        {
          "output_type": "stream",
          "name": "stdout",
          "text": [
            "\n"
          ]
        },
        {
          "output_type": "display_data",
          "data": {
            "text/plain": [
              "                      mean  count      diff      risk\n",
              "multiplelines                                        \n",
              "no                0.251210   2687 -0.015990  0.940155\n",
              "no_phone_service  0.257519    532 -0.009681  0.963768\n",
              "yes               0.287199   2406  0.019999  1.074845"
            ],
            "text/html": [
              "\n",
              "  <div id=\"df-5b129ff3-aa8f-446d-9294-12d1364d94ec\">\n",
              "    <div class=\"colab-df-container\">\n",
              "      <div>\n",
              "<style scoped>\n",
              "    .dataframe tbody tr th:only-of-type {\n",
              "        vertical-align: middle;\n",
              "    }\n",
              "\n",
              "    .dataframe tbody tr th {\n",
              "        vertical-align: top;\n",
              "    }\n",
              "\n",
              "    .dataframe thead th {\n",
              "        text-align: right;\n",
              "    }\n",
              "</style>\n",
              "<table border=\"1\" class=\"dataframe\">\n",
              "  <thead>\n",
              "    <tr style=\"text-align: right;\">\n",
              "      <th></th>\n",
              "      <th>mean</th>\n",
              "      <th>count</th>\n",
              "      <th>diff</th>\n",
              "      <th>risk</th>\n",
              "    </tr>\n",
              "    <tr>\n",
              "      <th>multiplelines</th>\n",
              "      <th></th>\n",
              "      <th></th>\n",
              "      <th></th>\n",
              "      <th></th>\n",
              "    </tr>\n",
              "  </thead>\n",
              "  <tbody>\n",
              "    <tr>\n",
              "      <th>no</th>\n",
              "      <td>0.251210</td>\n",
              "      <td>2687</td>\n",
              "      <td>-0.015990</td>\n",
              "      <td>0.940155</td>\n",
              "    </tr>\n",
              "    <tr>\n",
              "      <th>no_phone_service</th>\n",
              "      <td>0.257519</td>\n",
              "      <td>532</td>\n",
              "      <td>-0.009681</td>\n",
              "      <td>0.963768</td>\n",
              "    </tr>\n",
              "    <tr>\n",
              "      <th>yes</th>\n",
              "      <td>0.287199</td>\n",
              "      <td>2406</td>\n",
              "      <td>0.019999</td>\n",
              "      <td>1.074845</td>\n",
              "    </tr>\n",
              "  </tbody>\n",
              "</table>\n",
              "</div>\n",
              "      <button class=\"colab-df-convert\" onclick=\"convertToInteractive('df-5b129ff3-aa8f-446d-9294-12d1364d94ec')\"\n",
              "              title=\"Convert this dataframe to an interactive table.\"\n",
              "              style=\"display:none;\">\n",
              "        \n",
              "  <svg xmlns=\"http://www.w3.org/2000/svg\" height=\"24px\"viewBox=\"0 0 24 24\"\n",
              "       width=\"24px\">\n",
              "    <path d=\"M0 0h24v24H0V0z\" fill=\"none\"/>\n",
              "    <path d=\"M18.56 5.44l.94 2.06.94-2.06 2.06-.94-2.06-.94-.94-2.06-.94 2.06-2.06.94zm-11 1L8.5 8.5l.94-2.06 2.06-.94-2.06-.94L8.5 2.5l-.94 2.06-2.06.94zm10 10l.94 2.06.94-2.06 2.06-.94-2.06-.94-.94-2.06-.94 2.06-2.06.94z\"/><path d=\"M17.41 7.96l-1.37-1.37c-.4-.4-.92-.59-1.43-.59-.52 0-1.04.2-1.43.59L10.3 9.45l-7.72 7.72c-.78.78-.78 2.05 0 2.83L4 21.41c.39.39.9.59 1.41.59.51 0 1.02-.2 1.41-.59l7.78-7.78 2.81-2.81c.8-.78.8-2.07 0-2.86zM5.41 20L4 18.59l7.72-7.72 1.47 1.35L5.41 20z\"/>\n",
              "  </svg>\n",
              "      </button>\n",
              "      \n",
              "  <style>\n",
              "    .colab-df-container {\n",
              "      display:flex;\n",
              "      flex-wrap:wrap;\n",
              "      gap: 12px;\n",
              "    }\n",
              "\n",
              "    .colab-df-convert {\n",
              "      background-color: #E8F0FE;\n",
              "      border: none;\n",
              "      border-radius: 50%;\n",
              "      cursor: pointer;\n",
              "      display: none;\n",
              "      fill: #1967D2;\n",
              "      height: 32px;\n",
              "      padding: 0 0 0 0;\n",
              "      width: 32px;\n",
              "    }\n",
              "\n",
              "    .colab-df-convert:hover {\n",
              "      background-color: #E2EBFA;\n",
              "      box-shadow: 0px 1px 2px rgba(60, 64, 67, 0.3), 0px 1px 3px 1px rgba(60, 64, 67, 0.15);\n",
              "      fill: #174EA6;\n",
              "    }\n",
              "\n",
              "    [theme=dark] .colab-df-convert {\n",
              "      background-color: #3B4455;\n",
              "      fill: #D2E3FC;\n",
              "    }\n",
              "\n",
              "    [theme=dark] .colab-df-convert:hover {\n",
              "      background-color: #434B5C;\n",
              "      box-shadow: 0px 1px 3px 1px rgba(0, 0, 0, 0.15);\n",
              "      filter: drop-shadow(0px 1px 2px rgba(0, 0, 0, 0.3));\n",
              "      fill: #FFFFFF;\n",
              "    }\n",
              "  </style>\n",
              "\n",
              "      <script>\n",
              "        const buttonEl =\n",
              "          document.querySelector('#df-5b129ff3-aa8f-446d-9294-12d1364d94ec button.colab-df-convert');\n",
              "        buttonEl.style.display =\n",
              "          google.colab.kernel.accessAllowed ? 'block' : 'none';\n",
              "\n",
              "        async function convertToInteractive(key) {\n",
              "          const element = document.querySelector('#df-5b129ff3-aa8f-446d-9294-12d1364d94ec');\n",
              "          const dataTable =\n",
              "            await google.colab.kernel.invokeFunction('convertToInteractive',\n",
              "                                                     [key], {});\n",
              "          if (!dataTable) return;\n",
              "\n",
              "          const docLinkHtml = 'Like what you see? Visit the ' +\n",
              "            '<a target=\"_blank\" href=https://colab.research.google.com/notebooks/data_table.ipynb>data table notebook</a>'\n",
              "            + ' to learn more about interactive tables.';\n",
              "          element.innerHTML = '';\n",
              "          dataTable['output_type'] = 'display_data';\n",
              "          await google.colab.output.renderOutput(dataTable, element);\n",
              "          const docLink = document.createElement('div');\n",
              "          docLink.innerHTML = docLinkHtml;\n",
              "          element.appendChild(docLink);\n",
              "        }\n",
              "      </script>\n",
              "    </div>\n",
              "  </div>\n",
              "  "
            ]
          },
          "metadata": {}
        },
        {
          "output_type": "stream",
          "name": "stdout",
          "text": [
            "\n"
          ]
        },
        {
          "output_type": "display_data",
          "data": {
            "text/plain": [
              "                     mean  count      diff      risk\n",
              "internetservice                                     \n",
              "dsl              0.194215   1936 -0.072985  0.726852\n",
              "fiber_optic      0.418848   2483  0.151648  1.567546\n",
              "no               0.072139   1206 -0.195061  0.269982"
            ],
            "text/html": [
              "\n",
              "  <div id=\"df-6362f93f-97f0-41dc-9a80-31d2194bf527\">\n",
              "    <div class=\"colab-df-container\">\n",
              "      <div>\n",
              "<style scoped>\n",
              "    .dataframe tbody tr th:only-of-type {\n",
              "        vertical-align: middle;\n",
              "    }\n",
              "\n",
              "    .dataframe tbody tr th {\n",
              "        vertical-align: top;\n",
              "    }\n",
              "\n",
              "    .dataframe thead th {\n",
              "        text-align: right;\n",
              "    }\n",
              "</style>\n",
              "<table border=\"1\" class=\"dataframe\">\n",
              "  <thead>\n",
              "    <tr style=\"text-align: right;\">\n",
              "      <th></th>\n",
              "      <th>mean</th>\n",
              "      <th>count</th>\n",
              "      <th>diff</th>\n",
              "      <th>risk</th>\n",
              "    </tr>\n",
              "    <tr>\n",
              "      <th>internetservice</th>\n",
              "      <th></th>\n",
              "      <th></th>\n",
              "      <th></th>\n",
              "      <th></th>\n",
              "    </tr>\n",
              "  </thead>\n",
              "  <tbody>\n",
              "    <tr>\n",
              "      <th>dsl</th>\n",
              "      <td>0.194215</td>\n",
              "      <td>1936</td>\n",
              "      <td>-0.072985</td>\n",
              "      <td>0.726852</td>\n",
              "    </tr>\n",
              "    <tr>\n",
              "      <th>fiber_optic</th>\n",
              "      <td>0.418848</td>\n",
              "      <td>2483</td>\n",
              "      <td>0.151648</td>\n",
              "      <td>1.567546</td>\n",
              "    </tr>\n",
              "    <tr>\n",
              "      <th>no</th>\n",
              "      <td>0.072139</td>\n",
              "      <td>1206</td>\n",
              "      <td>-0.195061</td>\n",
              "      <td>0.269982</td>\n",
              "    </tr>\n",
              "  </tbody>\n",
              "</table>\n",
              "</div>\n",
              "      <button class=\"colab-df-convert\" onclick=\"convertToInteractive('df-6362f93f-97f0-41dc-9a80-31d2194bf527')\"\n",
              "              title=\"Convert this dataframe to an interactive table.\"\n",
              "              style=\"display:none;\">\n",
              "        \n",
              "  <svg xmlns=\"http://www.w3.org/2000/svg\" height=\"24px\"viewBox=\"0 0 24 24\"\n",
              "       width=\"24px\">\n",
              "    <path d=\"M0 0h24v24H0V0z\" fill=\"none\"/>\n",
              "    <path d=\"M18.56 5.44l.94 2.06.94-2.06 2.06-.94-2.06-.94-.94-2.06-.94 2.06-2.06.94zm-11 1L8.5 8.5l.94-2.06 2.06-.94-2.06-.94L8.5 2.5l-.94 2.06-2.06.94zm10 10l.94 2.06.94-2.06 2.06-.94-2.06-.94-.94-2.06-.94 2.06-2.06.94z\"/><path d=\"M17.41 7.96l-1.37-1.37c-.4-.4-.92-.59-1.43-.59-.52 0-1.04.2-1.43.59L10.3 9.45l-7.72 7.72c-.78.78-.78 2.05 0 2.83L4 21.41c.39.39.9.59 1.41.59.51 0 1.02-.2 1.41-.59l7.78-7.78 2.81-2.81c.8-.78.8-2.07 0-2.86zM5.41 20L4 18.59l7.72-7.72 1.47 1.35L5.41 20z\"/>\n",
              "  </svg>\n",
              "      </button>\n",
              "      \n",
              "  <style>\n",
              "    .colab-df-container {\n",
              "      display:flex;\n",
              "      flex-wrap:wrap;\n",
              "      gap: 12px;\n",
              "    }\n",
              "\n",
              "    .colab-df-convert {\n",
              "      background-color: #E8F0FE;\n",
              "      border: none;\n",
              "      border-radius: 50%;\n",
              "      cursor: pointer;\n",
              "      display: none;\n",
              "      fill: #1967D2;\n",
              "      height: 32px;\n",
              "      padding: 0 0 0 0;\n",
              "      width: 32px;\n",
              "    }\n",
              "\n",
              "    .colab-df-convert:hover {\n",
              "      background-color: #E2EBFA;\n",
              "      box-shadow: 0px 1px 2px rgba(60, 64, 67, 0.3), 0px 1px 3px 1px rgba(60, 64, 67, 0.15);\n",
              "      fill: #174EA6;\n",
              "    }\n",
              "\n",
              "    [theme=dark] .colab-df-convert {\n",
              "      background-color: #3B4455;\n",
              "      fill: #D2E3FC;\n",
              "    }\n",
              "\n",
              "    [theme=dark] .colab-df-convert:hover {\n",
              "      background-color: #434B5C;\n",
              "      box-shadow: 0px 1px 3px 1px rgba(0, 0, 0, 0.15);\n",
              "      filter: drop-shadow(0px 1px 2px rgba(0, 0, 0, 0.3));\n",
              "      fill: #FFFFFF;\n",
              "    }\n",
              "  </style>\n",
              "\n",
              "      <script>\n",
              "        const buttonEl =\n",
              "          document.querySelector('#df-6362f93f-97f0-41dc-9a80-31d2194bf527 button.colab-df-convert');\n",
              "        buttonEl.style.display =\n",
              "          google.colab.kernel.accessAllowed ? 'block' : 'none';\n",
              "\n",
              "        async function convertToInteractive(key) {\n",
              "          const element = document.querySelector('#df-6362f93f-97f0-41dc-9a80-31d2194bf527');\n",
              "          const dataTable =\n",
              "            await google.colab.kernel.invokeFunction('convertToInteractive',\n",
              "                                                     [key], {});\n",
              "          if (!dataTable) return;\n",
              "\n",
              "          const docLinkHtml = 'Like what you see? Visit the ' +\n",
              "            '<a target=\"_blank\" href=https://colab.research.google.com/notebooks/data_table.ipynb>data table notebook</a>'\n",
              "            + ' to learn more about interactive tables.';\n",
              "          element.innerHTML = '';\n",
              "          dataTable['output_type'] = 'display_data';\n",
              "          await google.colab.output.renderOutput(dataTable, element);\n",
              "          const docLink = document.createElement('div');\n",
              "          docLink.innerHTML = docLinkHtml;\n",
              "          element.appendChild(docLink);\n",
              "        }\n",
              "      </script>\n",
              "    </div>\n",
              "  </div>\n",
              "  "
            ]
          },
          "metadata": {}
        },
        {
          "output_type": "stream",
          "name": "stdout",
          "text": [
            "\n"
          ]
        },
        {
          "output_type": "display_data",
          "data": {
            "text/plain": [
              "                         mean  count      diff      risk\n",
              "onlinesecurity                                          \n",
              "no                   0.417586   2809  0.150386  1.562823\n",
              "no_internet_service  0.072139   1206 -0.195061  0.269982\n",
              "yes                  0.150932   1610 -0.116268  0.564864"
            ],
            "text/html": [
              "\n",
              "  <div id=\"df-9b10e10f-d26d-456c-a83a-f245a96dbb73\">\n",
              "    <div class=\"colab-df-container\">\n",
              "      <div>\n",
              "<style scoped>\n",
              "    .dataframe tbody tr th:only-of-type {\n",
              "        vertical-align: middle;\n",
              "    }\n",
              "\n",
              "    .dataframe tbody tr th {\n",
              "        vertical-align: top;\n",
              "    }\n",
              "\n",
              "    .dataframe thead th {\n",
              "        text-align: right;\n",
              "    }\n",
              "</style>\n",
              "<table border=\"1\" class=\"dataframe\">\n",
              "  <thead>\n",
              "    <tr style=\"text-align: right;\">\n",
              "      <th></th>\n",
              "      <th>mean</th>\n",
              "      <th>count</th>\n",
              "      <th>diff</th>\n",
              "      <th>risk</th>\n",
              "    </tr>\n",
              "    <tr>\n",
              "      <th>onlinesecurity</th>\n",
              "      <th></th>\n",
              "      <th></th>\n",
              "      <th></th>\n",
              "      <th></th>\n",
              "    </tr>\n",
              "  </thead>\n",
              "  <tbody>\n",
              "    <tr>\n",
              "      <th>no</th>\n",
              "      <td>0.417586</td>\n",
              "      <td>2809</td>\n",
              "      <td>0.150386</td>\n",
              "      <td>1.562823</td>\n",
              "    </tr>\n",
              "    <tr>\n",
              "      <th>no_internet_service</th>\n",
              "      <td>0.072139</td>\n",
              "      <td>1206</td>\n",
              "      <td>-0.195061</td>\n",
              "      <td>0.269982</td>\n",
              "    </tr>\n",
              "    <tr>\n",
              "      <th>yes</th>\n",
              "      <td>0.150932</td>\n",
              "      <td>1610</td>\n",
              "      <td>-0.116268</td>\n",
              "      <td>0.564864</td>\n",
              "    </tr>\n",
              "  </tbody>\n",
              "</table>\n",
              "</div>\n",
              "      <button class=\"colab-df-convert\" onclick=\"convertToInteractive('df-9b10e10f-d26d-456c-a83a-f245a96dbb73')\"\n",
              "              title=\"Convert this dataframe to an interactive table.\"\n",
              "              style=\"display:none;\">\n",
              "        \n",
              "  <svg xmlns=\"http://www.w3.org/2000/svg\" height=\"24px\"viewBox=\"0 0 24 24\"\n",
              "       width=\"24px\">\n",
              "    <path d=\"M0 0h24v24H0V0z\" fill=\"none\"/>\n",
              "    <path d=\"M18.56 5.44l.94 2.06.94-2.06 2.06-.94-2.06-.94-.94-2.06-.94 2.06-2.06.94zm-11 1L8.5 8.5l.94-2.06 2.06-.94-2.06-.94L8.5 2.5l-.94 2.06-2.06.94zm10 10l.94 2.06.94-2.06 2.06-.94-2.06-.94-.94-2.06-.94 2.06-2.06.94z\"/><path d=\"M17.41 7.96l-1.37-1.37c-.4-.4-.92-.59-1.43-.59-.52 0-1.04.2-1.43.59L10.3 9.45l-7.72 7.72c-.78.78-.78 2.05 0 2.83L4 21.41c.39.39.9.59 1.41.59.51 0 1.02-.2 1.41-.59l7.78-7.78 2.81-2.81c.8-.78.8-2.07 0-2.86zM5.41 20L4 18.59l7.72-7.72 1.47 1.35L5.41 20z\"/>\n",
              "  </svg>\n",
              "      </button>\n",
              "      \n",
              "  <style>\n",
              "    .colab-df-container {\n",
              "      display:flex;\n",
              "      flex-wrap:wrap;\n",
              "      gap: 12px;\n",
              "    }\n",
              "\n",
              "    .colab-df-convert {\n",
              "      background-color: #E8F0FE;\n",
              "      border: none;\n",
              "      border-radius: 50%;\n",
              "      cursor: pointer;\n",
              "      display: none;\n",
              "      fill: #1967D2;\n",
              "      height: 32px;\n",
              "      padding: 0 0 0 0;\n",
              "      width: 32px;\n",
              "    }\n",
              "\n",
              "    .colab-df-convert:hover {\n",
              "      background-color: #E2EBFA;\n",
              "      box-shadow: 0px 1px 2px rgba(60, 64, 67, 0.3), 0px 1px 3px 1px rgba(60, 64, 67, 0.15);\n",
              "      fill: #174EA6;\n",
              "    }\n",
              "\n",
              "    [theme=dark] .colab-df-convert {\n",
              "      background-color: #3B4455;\n",
              "      fill: #D2E3FC;\n",
              "    }\n",
              "\n",
              "    [theme=dark] .colab-df-convert:hover {\n",
              "      background-color: #434B5C;\n",
              "      box-shadow: 0px 1px 3px 1px rgba(0, 0, 0, 0.15);\n",
              "      filter: drop-shadow(0px 1px 2px rgba(0, 0, 0, 0.3));\n",
              "      fill: #FFFFFF;\n",
              "    }\n",
              "  </style>\n",
              "\n",
              "      <script>\n",
              "        const buttonEl =\n",
              "          document.querySelector('#df-9b10e10f-d26d-456c-a83a-f245a96dbb73 button.colab-df-convert');\n",
              "        buttonEl.style.display =\n",
              "          google.colab.kernel.accessAllowed ? 'block' : 'none';\n",
              "\n",
              "        async function convertToInteractive(key) {\n",
              "          const element = document.querySelector('#df-9b10e10f-d26d-456c-a83a-f245a96dbb73');\n",
              "          const dataTable =\n",
              "            await google.colab.kernel.invokeFunction('convertToInteractive',\n",
              "                                                     [key], {});\n",
              "          if (!dataTable) return;\n",
              "\n",
              "          const docLinkHtml = 'Like what you see? Visit the ' +\n",
              "            '<a target=\"_blank\" href=https://colab.research.google.com/notebooks/data_table.ipynb>data table notebook</a>'\n",
              "            + ' to learn more about interactive tables.';\n",
              "          element.innerHTML = '';\n",
              "          dataTable['output_type'] = 'display_data';\n",
              "          await google.colab.output.renderOutput(dataTable, element);\n",
              "          const docLink = document.createElement('div');\n",
              "          docLink.innerHTML = docLinkHtml;\n",
              "          element.appendChild(docLink);\n",
              "        }\n",
              "      </script>\n",
              "    </div>\n",
              "  </div>\n",
              "  "
            ]
          },
          "metadata": {}
        },
        {
          "output_type": "stream",
          "name": "stdout",
          "text": [
            "\n"
          ]
        },
        {
          "output_type": "display_data",
          "data": {
            "text/plain": [
              "                         mean  count      diff      risk\n",
              "onlinebackup                                            \n",
              "no                   0.398703   2468  0.131503  1.492153\n",
              "no_internet_service  0.072139   1206 -0.195061  0.269982\n",
              "yes                  0.221425   1951 -0.045775  0.828686"
            ],
            "text/html": [
              "\n",
              "  <div id=\"df-04d44505-282c-421e-b487-f0825ac28066\">\n",
              "    <div class=\"colab-df-container\">\n",
              "      <div>\n",
              "<style scoped>\n",
              "    .dataframe tbody tr th:only-of-type {\n",
              "        vertical-align: middle;\n",
              "    }\n",
              "\n",
              "    .dataframe tbody tr th {\n",
              "        vertical-align: top;\n",
              "    }\n",
              "\n",
              "    .dataframe thead th {\n",
              "        text-align: right;\n",
              "    }\n",
              "</style>\n",
              "<table border=\"1\" class=\"dataframe\">\n",
              "  <thead>\n",
              "    <tr style=\"text-align: right;\">\n",
              "      <th></th>\n",
              "      <th>mean</th>\n",
              "      <th>count</th>\n",
              "      <th>diff</th>\n",
              "      <th>risk</th>\n",
              "    </tr>\n",
              "    <tr>\n",
              "      <th>onlinebackup</th>\n",
              "      <th></th>\n",
              "      <th></th>\n",
              "      <th></th>\n",
              "      <th></th>\n",
              "    </tr>\n",
              "  </thead>\n",
              "  <tbody>\n",
              "    <tr>\n",
              "      <th>no</th>\n",
              "      <td>0.398703</td>\n",
              "      <td>2468</td>\n",
              "      <td>0.131503</td>\n",
              "      <td>1.492153</td>\n",
              "    </tr>\n",
              "    <tr>\n",
              "      <th>no_internet_service</th>\n",
              "      <td>0.072139</td>\n",
              "      <td>1206</td>\n",
              "      <td>-0.195061</td>\n",
              "      <td>0.269982</td>\n",
              "    </tr>\n",
              "    <tr>\n",
              "      <th>yes</th>\n",
              "      <td>0.221425</td>\n",
              "      <td>1951</td>\n",
              "      <td>-0.045775</td>\n",
              "      <td>0.828686</td>\n",
              "    </tr>\n",
              "  </tbody>\n",
              "</table>\n",
              "</div>\n",
              "      <button class=\"colab-df-convert\" onclick=\"convertToInteractive('df-04d44505-282c-421e-b487-f0825ac28066')\"\n",
              "              title=\"Convert this dataframe to an interactive table.\"\n",
              "              style=\"display:none;\">\n",
              "        \n",
              "  <svg xmlns=\"http://www.w3.org/2000/svg\" height=\"24px\"viewBox=\"0 0 24 24\"\n",
              "       width=\"24px\">\n",
              "    <path d=\"M0 0h24v24H0V0z\" fill=\"none\"/>\n",
              "    <path d=\"M18.56 5.44l.94 2.06.94-2.06 2.06-.94-2.06-.94-.94-2.06-.94 2.06-2.06.94zm-11 1L8.5 8.5l.94-2.06 2.06-.94-2.06-.94L8.5 2.5l-.94 2.06-2.06.94zm10 10l.94 2.06.94-2.06 2.06-.94-2.06-.94-.94-2.06-.94 2.06-2.06.94z\"/><path d=\"M17.41 7.96l-1.37-1.37c-.4-.4-.92-.59-1.43-.59-.52 0-1.04.2-1.43.59L10.3 9.45l-7.72 7.72c-.78.78-.78 2.05 0 2.83L4 21.41c.39.39.9.59 1.41.59.51 0 1.02-.2 1.41-.59l7.78-7.78 2.81-2.81c.8-.78.8-2.07 0-2.86zM5.41 20L4 18.59l7.72-7.72 1.47 1.35L5.41 20z\"/>\n",
              "  </svg>\n",
              "      </button>\n",
              "      \n",
              "  <style>\n",
              "    .colab-df-container {\n",
              "      display:flex;\n",
              "      flex-wrap:wrap;\n",
              "      gap: 12px;\n",
              "    }\n",
              "\n",
              "    .colab-df-convert {\n",
              "      background-color: #E8F0FE;\n",
              "      border: none;\n",
              "      border-radius: 50%;\n",
              "      cursor: pointer;\n",
              "      display: none;\n",
              "      fill: #1967D2;\n",
              "      height: 32px;\n",
              "      padding: 0 0 0 0;\n",
              "      width: 32px;\n",
              "    }\n",
              "\n",
              "    .colab-df-convert:hover {\n",
              "      background-color: #E2EBFA;\n",
              "      box-shadow: 0px 1px 2px rgba(60, 64, 67, 0.3), 0px 1px 3px 1px rgba(60, 64, 67, 0.15);\n",
              "      fill: #174EA6;\n",
              "    }\n",
              "\n",
              "    [theme=dark] .colab-df-convert {\n",
              "      background-color: #3B4455;\n",
              "      fill: #D2E3FC;\n",
              "    }\n",
              "\n",
              "    [theme=dark] .colab-df-convert:hover {\n",
              "      background-color: #434B5C;\n",
              "      box-shadow: 0px 1px 3px 1px rgba(0, 0, 0, 0.15);\n",
              "      filter: drop-shadow(0px 1px 2px rgba(0, 0, 0, 0.3));\n",
              "      fill: #FFFFFF;\n",
              "    }\n",
              "  </style>\n",
              "\n",
              "      <script>\n",
              "        const buttonEl =\n",
              "          document.querySelector('#df-04d44505-282c-421e-b487-f0825ac28066 button.colab-df-convert');\n",
              "        buttonEl.style.display =\n",
              "          google.colab.kernel.accessAllowed ? 'block' : 'none';\n",
              "\n",
              "        async function convertToInteractive(key) {\n",
              "          const element = document.querySelector('#df-04d44505-282c-421e-b487-f0825ac28066');\n",
              "          const dataTable =\n",
              "            await google.colab.kernel.invokeFunction('convertToInteractive',\n",
              "                                                     [key], {});\n",
              "          if (!dataTable) return;\n",
              "\n",
              "          const docLinkHtml = 'Like what you see? Visit the ' +\n",
              "            '<a target=\"_blank\" href=https://colab.research.google.com/notebooks/data_table.ipynb>data table notebook</a>'\n",
              "            + ' to learn more about interactive tables.';\n",
              "          element.innerHTML = '';\n",
              "          dataTable['output_type'] = 'display_data';\n",
              "          await google.colab.output.renderOutput(dataTable, element);\n",
              "          const docLink = document.createElement('div');\n",
              "          docLink.innerHTML = docLinkHtml;\n",
              "          element.appendChild(docLink);\n",
              "        }\n",
              "      </script>\n",
              "    </div>\n",
              "  </div>\n",
              "  "
            ]
          },
          "metadata": {}
        },
        {
          "output_type": "stream",
          "name": "stdout",
          "text": [
            "\n"
          ]
        },
        {
          "output_type": "display_data",
          "data": {
            "text/plain": [
              "                         mean  count      diff      risk\n",
              "deviceprotection                                        \n",
              "no                   0.390145   2476  0.122945  1.460125\n",
              "no_internet_service  0.072139   1206 -0.195061  0.269982\n",
              "yes                  0.231601   1943 -0.035599  0.866769"
            ],
            "text/html": [
              "\n",
              "  <div id=\"df-476f014c-2a3d-4a2b-9d82-e3005e8682ec\">\n",
              "    <div class=\"colab-df-container\">\n",
              "      <div>\n",
              "<style scoped>\n",
              "    .dataframe tbody tr th:only-of-type {\n",
              "        vertical-align: middle;\n",
              "    }\n",
              "\n",
              "    .dataframe tbody tr th {\n",
              "        vertical-align: top;\n",
              "    }\n",
              "\n",
              "    .dataframe thead th {\n",
              "        text-align: right;\n",
              "    }\n",
              "</style>\n",
              "<table border=\"1\" class=\"dataframe\">\n",
              "  <thead>\n",
              "    <tr style=\"text-align: right;\">\n",
              "      <th></th>\n",
              "      <th>mean</th>\n",
              "      <th>count</th>\n",
              "      <th>diff</th>\n",
              "      <th>risk</th>\n",
              "    </tr>\n",
              "    <tr>\n",
              "      <th>deviceprotection</th>\n",
              "      <th></th>\n",
              "      <th></th>\n",
              "      <th></th>\n",
              "      <th></th>\n",
              "    </tr>\n",
              "  </thead>\n",
              "  <tbody>\n",
              "    <tr>\n",
              "      <th>no</th>\n",
              "      <td>0.390145</td>\n",
              "      <td>2476</td>\n",
              "      <td>0.122945</td>\n",
              "      <td>1.460125</td>\n",
              "    </tr>\n",
              "    <tr>\n",
              "      <th>no_internet_service</th>\n",
              "      <td>0.072139</td>\n",
              "      <td>1206</td>\n",
              "      <td>-0.195061</td>\n",
              "      <td>0.269982</td>\n",
              "    </tr>\n",
              "    <tr>\n",
              "      <th>yes</th>\n",
              "      <td>0.231601</td>\n",
              "      <td>1943</td>\n",
              "      <td>-0.035599</td>\n",
              "      <td>0.866769</td>\n",
              "    </tr>\n",
              "  </tbody>\n",
              "</table>\n",
              "</div>\n",
              "      <button class=\"colab-df-convert\" onclick=\"convertToInteractive('df-476f014c-2a3d-4a2b-9d82-e3005e8682ec')\"\n",
              "              title=\"Convert this dataframe to an interactive table.\"\n",
              "              style=\"display:none;\">\n",
              "        \n",
              "  <svg xmlns=\"http://www.w3.org/2000/svg\" height=\"24px\"viewBox=\"0 0 24 24\"\n",
              "       width=\"24px\">\n",
              "    <path d=\"M0 0h24v24H0V0z\" fill=\"none\"/>\n",
              "    <path d=\"M18.56 5.44l.94 2.06.94-2.06 2.06-.94-2.06-.94-.94-2.06-.94 2.06-2.06.94zm-11 1L8.5 8.5l.94-2.06 2.06-.94-2.06-.94L8.5 2.5l-.94 2.06-2.06.94zm10 10l.94 2.06.94-2.06 2.06-.94-2.06-.94-.94-2.06-.94 2.06-2.06.94z\"/><path d=\"M17.41 7.96l-1.37-1.37c-.4-.4-.92-.59-1.43-.59-.52 0-1.04.2-1.43.59L10.3 9.45l-7.72 7.72c-.78.78-.78 2.05 0 2.83L4 21.41c.39.39.9.59 1.41.59.51 0 1.02-.2 1.41-.59l7.78-7.78 2.81-2.81c.8-.78.8-2.07 0-2.86zM5.41 20L4 18.59l7.72-7.72 1.47 1.35L5.41 20z\"/>\n",
              "  </svg>\n",
              "      </button>\n",
              "      \n",
              "  <style>\n",
              "    .colab-df-container {\n",
              "      display:flex;\n",
              "      flex-wrap:wrap;\n",
              "      gap: 12px;\n",
              "    }\n",
              "\n",
              "    .colab-df-convert {\n",
              "      background-color: #E8F0FE;\n",
              "      border: none;\n",
              "      border-radius: 50%;\n",
              "      cursor: pointer;\n",
              "      display: none;\n",
              "      fill: #1967D2;\n",
              "      height: 32px;\n",
              "      padding: 0 0 0 0;\n",
              "      width: 32px;\n",
              "    }\n",
              "\n",
              "    .colab-df-convert:hover {\n",
              "      background-color: #E2EBFA;\n",
              "      box-shadow: 0px 1px 2px rgba(60, 64, 67, 0.3), 0px 1px 3px 1px rgba(60, 64, 67, 0.15);\n",
              "      fill: #174EA6;\n",
              "    }\n",
              "\n",
              "    [theme=dark] .colab-df-convert {\n",
              "      background-color: #3B4455;\n",
              "      fill: #D2E3FC;\n",
              "    }\n",
              "\n",
              "    [theme=dark] .colab-df-convert:hover {\n",
              "      background-color: #434B5C;\n",
              "      box-shadow: 0px 1px 3px 1px rgba(0, 0, 0, 0.15);\n",
              "      filter: drop-shadow(0px 1px 2px rgba(0, 0, 0, 0.3));\n",
              "      fill: #FFFFFF;\n",
              "    }\n",
              "  </style>\n",
              "\n",
              "      <script>\n",
              "        const buttonEl =\n",
              "          document.querySelector('#df-476f014c-2a3d-4a2b-9d82-e3005e8682ec button.colab-df-convert');\n",
              "        buttonEl.style.display =\n",
              "          google.colab.kernel.accessAllowed ? 'block' : 'none';\n",
              "\n",
              "        async function convertToInteractive(key) {\n",
              "          const element = document.querySelector('#df-476f014c-2a3d-4a2b-9d82-e3005e8682ec');\n",
              "          const dataTable =\n",
              "            await google.colab.kernel.invokeFunction('convertToInteractive',\n",
              "                                                     [key], {});\n",
              "          if (!dataTable) return;\n",
              "\n",
              "          const docLinkHtml = 'Like what you see? Visit the ' +\n",
              "            '<a target=\"_blank\" href=https://colab.research.google.com/notebooks/data_table.ipynb>data table notebook</a>'\n",
              "            + ' to learn more about interactive tables.';\n",
              "          element.innerHTML = '';\n",
              "          dataTable['output_type'] = 'display_data';\n",
              "          await google.colab.output.renderOutput(dataTable, element);\n",
              "          const docLink = document.createElement('div');\n",
              "          docLink.innerHTML = docLinkHtml;\n",
              "          element.appendChild(docLink);\n",
              "        }\n",
              "      </script>\n",
              "    </div>\n",
              "  </div>\n",
              "  "
            ]
          },
          "metadata": {}
        },
        {
          "output_type": "stream",
          "name": "stdout",
          "text": [
            "\n"
          ]
        },
        {
          "output_type": "display_data",
          "data": {
            "text/plain": [
              "                         mean  count      diff      risk\n",
              "techsupport                                             \n",
              "no                   0.418934   2757  0.151734  1.567865\n",
              "no_internet_service  0.072139   1206 -0.195061  0.269982\n",
              "yes                  0.157040   1662 -0.110160  0.587723"
            ],
            "text/html": [
              "\n",
              "  <div id=\"df-13a7705a-461c-4386-afba-75458338b7f8\">\n",
              "    <div class=\"colab-df-container\">\n",
              "      <div>\n",
              "<style scoped>\n",
              "    .dataframe tbody tr th:only-of-type {\n",
              "        vertical-align: middle;\n",
              "    }\n",
              "\n",
              "    .dataframe tbody tr th {\n",
              "        vertical-align: top;\n",
              "    }\n",
              "\n",
              "    .dataframe thead th {\n",
              "        text-align: right;\n",
              "    }\n",
              "</style>\n",
              "<table border=\"1\" class=\"dataframe\">\n",
              "  <thead>\n",
              "    <tr style=\"text-align: right;\">\n",
              "      <th></th>\n",
              "      <th>mean</th>\n",
              "      <th>count</th>\n",
              "      <th>diff</th>\n",
              "      <th>risk</th>\n",
              "    </tr>\n",
              "    <tr>\n",
              "      <th>techsupport</th>\n",
              "      <th></th>\n",
              "      <th></th>\n",
              "      <th></th>\n",
              "      <th></th>\n",
              "    </tr>\n",
              "  </thead>\n",
              "  <tbody>\n",
              "    <tr>\n",
              "      <th>no</th>\n",
              "      <td>0.418934</td>\n",
              "      <td>2757</td>\n",
              "      <td>0.151734</td>\n",
              "      <td>1.567865</td>\n",
              "    </tr>\n",
              "    <tr>\n",
              "      <th>no_internet_service</th>\n",
              "      <td>0.072139</td>\n",
              "      <td>1206</td>\n",
              "      <td>-0.195061</td>\n",
              "      <td>0.269982</td>\n",
              "    </tr>\n",
              "    <tr>\n",
              "      <th>yes</th>\n",
              "      <td>0.157040</td>\n",
              "      <td>1662</td>\n",
              "      <td>-0.110160</td>\n",
              "      <td>0.587723</td>\n",
              "    </tr>\n",
              "  </tbody>\n",
              "</table>\n",
              "</div>\n",
              "      <button class=\"colab-df-convert\" onclick=\"convertToInteractive('df-13a7705a-461c-4386-afba-75458338b7f8')\"\n",
              "              title=\"Convert this dataframe to an interactive table.\"\n",
              "              style=\"display:none;\">\n",
              "        \n",
              "  <svg xmlns=\"http://www.w3.org/2000/svg\" height=\"24px\"viewBox=\"0 0 24 24\"\n",
              "       width=\"24px\">\n",
              "    <path d=\"M0 0h24v24H0V0z\" fill=\"none\"/>\n",
              "    <path d=\"M18.56 5.44l.94 2.06.94-2.06 2.06-.94-2.06-.94-.94-2.06-.94 2.06-2.06.94zm-11 1L8.5 8.5l.94-2.06 2.06-.94-2.06-.94L8.5 2.5l-.94 2.06-2.06.94zm10 10l.94 2.06.94-2.06 2.06-.94-2.06-.94-.94-2.06-.94 2.06-2.06.94z\"/><path d=\"M17.41 7.96l-1.37-1.37c-.4-.4-.92-.59-1.43-.59-.52 0-1.04.2-1.43.59L10.3 9.45l-7.72 7.72c-.78.78-.78 2.05 0 2.83L4 21.41c.39.39.9.59 1.41.59.51 0 1.02-.2 1.41-.59l7.78-7.78 2.81-2.81c.8-.78.8-2.07 0-2.86zM5.41 20L4 18.59l7.72-7.72 1.47 1.35L5.41 20z\"/>\n",
              "  </svg>\n",
              "      </button>\n",
              "      \n",
              "  <style>\n",
              "    .colab-df-container {\n",
              "      display:flex;\n",
              "      flex-wrap:wrap;\n",
              "      gap: 12px;\n",
              "    }\n",
              "\n",
              "    .colab-df-convert {\n",
              "      background-color: #E8F0FE;\n",
              "      border: none;\n",
              "      border-radius: 50%;\n",
              "      cursor: pointer;\n",
              "      display: none;\n",
              "      fill: #1967D2;\n",
              "      height: 32px;\n",
              "      padding: 0 0 0 0;\n",
              "      width: 32px;\n",
              "    }\n",
              "\n",
              "    .colab-df-convert:hover {\n",
              "      background-color: #E2EBFA;\n",
              "      box-shadow: 0px 1px 2px rgba(60, 64, 67, 0.3), 0px 1px 3px 1px rgba(60, 64, 67, 0.15);\n",
              "      fill: #174EA6;\n",
              "    }\n",
              "\n",
              "    [theme=dark] .colab-df-convert {\n",
              "      background-color: #3B4455;\n",
              "      fill: #D2E3FC;\n",
              "    }\n",
              "\n",
              "    [theme=dark] .colab-df-convert:hover {\n",
              "      background-color: #434B5C;\n",
              "      box-shadow: 0px 1px 3px 1px rgba(0, 0, 0, 0.15);\n",
              "      filter: drop-shadow(0px 1px 2px rgba(0, 0, 0, 0.3));\n",
              "      fill: #FFFFFF;\n",
              "    }\n",
              "  </style>\n",
              "\n",
              "      <script>\n",
              "        const buttonEl =\n",
              "          document.querySelector('#df-13a7705a-461c-4386-afba-75458338b7f8 button.colab-df-convert');\n",
              "        buttonEl.style.display =\n",
              "          google.colab.kernel.accessAllowed ? 'block' : 'none';\n",
              "\n",
              "        async function convertToInteractive(key) {\n",
              "          const element = document.querySelector('#df-13a7705a-461c-4386-afba-75458338b7f8');\n",
              "          const dataTable =\n",
              "            await google.colab.kernel.invokeFunction('convertToInteractive',\n",
              "                                                     [key], {});\n",
              "          if (!dataTable) return;\n",
              "\n",
              "          const docLinkHtml = 'Like what you see? Visit the ' +\n",
              "            '<a target=\"_blank\" href=https://colab.research.google.com/notebooks/data_table.ipynb>data table notebook</a>'\n",
              "            + ' to learn more about interactive tables.';\n",
              "          element.innerHTML = '';\n",
              "          dataTable['output_type'] = 'display_data';\n",
              "          await google.colab.output.renderOutput(dataTable, element);\n",
              "          const docLink = document.createElement('div');\n",
              "          docLink.innerHTML = docLinkHtml;\n",
              "          element.appendChild(docLink);\n",
              "        }\n",
              "      </script>\n",
              "    </div>\n",
              "  </div>\n",
              "  "
            ]
          },
          "metadata": {}
        },
        {
          "output_type": "stream",
          "name": "stdout",
          "text": [
            "\n"
          ]
        },
        {
          "output_type": "display_data",
          "data": {
            "text/plain": [
              "                         mean  count      diff      risk\n",
              "streamingtv                                             \n",
              "no                   0.336908   2238  0.069708  1.260883\n",
              "no_internet_service  0.072139   1206 -0.195061  0.269982\n",
              "yes                  0.303530   2181  0.036330  1.135967"
            ],
            "text/html": [
              "\n",
              "  <div id=\"df-40a2dbec-2a8e-4014-ba12-9642e2509c35\">\n",
              "    <div class=\"colab-df-container\">\n",
              "      <div>\n",
              "<style scoped>\n",
              "    .dataframe tbody tr th:only-of-type {\n",
              "        vertical-align: middle;\n",
              "    }\n",
              "\n",
              "    .dataframe tbody tr th {\n",
              "        vertical-align: top;\n",
              "    }\n",
              "\n",
              "    .dataframe thead th {\n",
              "        text-align: right;\n",
              "    }\n",
              "</style>\n",
              "<table border=\"1\" class=\"dataframe\">\n",
              "  <thead>\n",
              "    <tr style=\"text-align: right;\">\n",
              "      <th></th>\n",
              "      <th>mean</th>\n",
              "      <th>count</th>\n",
              "      <th>diff</th>\n",
              "      <th>risk</th>\n",
              "    </tr>\n",
              "    <tr>\n",
              "      <th>streamingtv</th>\n",
              "      <th></th>\n",
              "      <th></th>\n",
              "      <th></th>\n",
              "      <th></th>\n",
              "    </tr>\n",
              "  </thead>\n",
              "  <tbody>\n",
              "    <tr>\n",
              "      <th>no</th>\n",
              "      <td>0.336908</td>\n",
              "      <td>2238</td>\n",
              "      <td>0.069708</td>\n",
              "      <td>1.260883</td>\n",
              "    </tr>\n",
              "    <tr>\n",
              "      <th>no_internet_service</th>\n",
              "      <td>0.072139</td>\n",
              "      <td>1206</td>\n",
              "      <td>-0.195061</td>\n",
              "      <td>0.269982</td>\n",
              "    </tr>\n",
              "    <tr>\n",
              "      <th>yes</th>\n",
              "      <td>0.303530</td>\n",
              "      <td>2181</td>\n",
              "      <td>0.036330</td>\n",
              "      <td>1.135967</td>\n",
              "    </tr>\n",
              "  </tbody>\n",
              "</table>\n",
              "</div>\n",
              "      <button class=\"colab-df-convert\" onclick=\"convertToInteractive('df-40a2dbec-2a8e-4014-ba12-9642e2509c35')\"\n",
              "              title=\"Convert this dataframe to an interactive table.\"\n",
              "              style=\"display:none;\">\n",
              "        \n",
              "  <svg xmlns=\"http://www.w3.org/2000/svg\" height=\"24px\"viewBox=\"0 0 24 24\"\n",
              "       width=\"24px\">\n",
              "    <path d=\"M0 0h24v24H0V0z\" fill=\"none\"/>\n",
              "    <path d=\"M18.56 5.44l.94 2.06.94-2.06 2.06-.94-2.06-.94-.94-2.06-.94 2.06-2.06.94zm-11 1L8.5 8.5l.94-2.06 2.06-.94-2.06-.94L8.5 2.5l-.94 2.06-2.06.94zm10 10l.94 2.06.94-2.06 2.06-.94-2.06-.94-.94-2.06-.94 2.06-2.06.94z\"/><path d=\"M17.41 7.96l-1.37-1.37c-.4-.4-.92-.59-1.43-.59-.52 0-1.04.2-1.43.59L10.3 9.45l-7.72 7.72c-.78.78-.78 2.05 0 2.83L4 21.41c.39.39.9.59 1.41.59.51 0 1.02-.2 1.41-.59l7.78-7.78 2.81-2.81c.8-.78.8-2.07 0-2.86zM5.41 20L4 18.59l7.72-7.72 1.47 1.35L5.41 20z\"/>\n",
              "  </svg>\n",
              "      </button>\n",
              "      \n",
              "  <style>\n",
              "    .colab-df-container {\n",
              "      display:flex;\n",
              "      flex-wrap:wrap;\n",
              "      gap: 12px;\n",
              "    }\n",
              "\n",
              "    .colab-df-convert {\n",
              "      background-color: #E8F0FE;\n",
              "      border: none;\n",
              "      border-radius: 50%;\n",
              "      cursor: pointer;\n",
              "      display: none;\n",
              "      fill: #1967D2;\n",
              "      height: 32px;\n",
              "      padding: 0 0 0 0;\n",
              "      width: 32px;\n",
              "    }\n",
              "\n",
              "    .colab-df-convert:hover {\n",
              "      background-color: #E2EBFA;\n",
              "      box-shadow: 0px 1px 2px rgba(60, 64, 67, 0.3), 0px 1px 3px 1px rgba(60, 64, 67, 0.15);\n",
              "      fill: #174EA6;\n",
              "    }\n",
              "\n",
              "    [theme=dark] .colab-df-convert {\n",
              "      background-color: #3B4455;\n",
              "      fill: #D2E3FC;\n",
              "    }\n",
              "\n",
              "    [theme=dark] .colab-df-convert:hover {\n",
              "      background-color: #434B5C;\n",
              "      box-shadow: 0px 1px 3px 1px rgba(0, 0, 0, 0.15);\n",
              "      filter: drop-shadow(0px 1px 2px rgba(0, 0, 0, 0.3));\n",
              "      fill: #FFFFFF;\n",
              "    }\n",
              "  </style>\n",
              "\n",
              "      <script>\n",
              "        const buttonEl =\n",
              "          document.querySelector('#df-40a2dbec-2a8e-4014-ba12-9642e2509c35 button.colab-df-convert');\n",
              "        buttonEl.style.display =\n",
              "          google.colab.kernel.accessAllowed ? 'block' : 'none';\n",
              "\n",
              "        async function convertToInteractive(key) {\n",
              "          const element = document.querySelector('#df-40a2dbec-2a8e-4014-ba12-9642e2509c35');\n",
              "          const dataTable =\n",
              "            await google.colab.kernel.invokeFunction('convertToInteractive',\n",
              "                                                     [key], {});\n",
              "          if (!dataTable) return;\n",
              "\n",
              "          const docLinkHtml = 'Like what you see? Visit the ' +\n",
              "            '<a target=\"_blank\" href=https://colab.research.google.com/notebooks/data_table.ipynb>data table notebook</a>'\n",
              "            + ' to learn more about interactive tables.';\n",
              "          element.innerHTML = '';\n",
              "          dataTable['output_type'] = 'display_data';\n",
              "          await google.colab.output.renderOutput(dataTable, element);\n",
              "          const docLink = document.createElement('div');\n",
              "          docLink.innerHTML = docLinkHtml;\n",
              "          element.appendChild(docLink);\n",
              "        }\n",
              "      </script>\n",
              "    </div>\n",
              "  </div>\n",
              "  "
            ]
          },
          "metadata": {}
        },
        {
          "output_type": "stream",
          "name": "stdout",
          "text": [
            "\n"
          ]
        },
        {
          "output_type": "display_data",
          "data": {
            "text/plain": [
              "                         mean  count      diff      risk\n",
              "streamingmovies                                         \n",
              "no                   0.332297   2251  0.065097  1.243626\n",
              "no_internet_service  0.072139   1206 -0.195061  0.269982\n",
              "yes                  0.308118   2168  0.040918  1.153137"
            ],
            "text/html": [
              "\n",
              "  <div id=\"df-a012d2b3-b291-4219-983f-c5fb3faed395\">\n",
              "    <div class=\"colab-df-container\">\n",
              "      <div>\n",
              "<style scoped>\n",
              "    .dataframe tbody tr th:only-of-type {\n",
              "        vertical-align: middle;\n",
              "    }\n",
              "\n",
              "    .dataframe tbody tr th {\n",
              "        vertical-align: top;\n",
              "    }\n",
              "\n",
              "    .dataframe thead th {\n",
              "        text-align: right;\n",
              "    }\n",
              "</style>\n",
              "<table border=\"1\" class=\"dataframe\">\n",
              "  <thead>\n",
              "    <tr style=\"text-align: right;\">\n",
              "      <th></th>\n",
              "      <th>mean</th>\n",
              "      <th>count</th>\n",
              "      <th>diff</th>\n",
              "      <th>risk</th>\n",
              "    </tr>\n",
              "    <tr>\n",
              "      <th>streamingmovies</th>\n",
              "      <th></th>\n",
              "      <th></th>\n",
              "      <th></th>\n",
              "      <th></th>\n",
              "    </tr>\n",
              "  </thead>\n",
              "  <tbody>\n",
              "    <tr>\n",
              "      <th>no</th>\n",
              "      <td>0.332297</td>\n",
              "      <td>2251</td>\n",
              "      <td>0.065097</td>\n",
              "      <td>1.243626</td>\n",
              "    </tr>\n",
              "    <tr>\n",
              "      <th>no_internet_service</th>\n",
              "      <td>0.072139</td>\n",
              "      <td>1206</td>\n",
              "      <td>-0.195061</td>\n",
              "      <td>0.269982</td>\n",
              "    </tr>\n",
              "    <tr>\n",
              "      <th>yes</th>\n",
              "      <td>0.308118</td>\n",
              "      <td>2168</td>\n",
              "      <td>0.040918</td>\n",
              "      <td>1.153137</td>\n",
              "    </tr>\n",
              "  </tbody>\n",
              "</table>\n",
              "</div>\n",
              "      <button class=\"colab-df-convert\" onclick=\"convertToInteractive('df-a012d2b3-b291-4219-983f-c5fb3faed395')\"\n",
              "              title=\"Convert this dataframe to an interactive table.\"\n",
              "              style=\"display:none;\">\n",
              "        \n",
              "  <svg xmlns=\"http://www.w3.org/2000/svg\" height=\"24px\"viewBox=\"0 0 24 24\"\n",
              "       width=\"24px\">\n",
              "    <path d=\"M0 0h24v24H0V0z\" fill=\"none\"/>\n",
              "    <path d=\"M18.56 5.44l.94 2.06.94-2.06 2.06-.94-2.06-.94-.94-2.06-.94 2.06-2.06.94zm-11 1L8.5 8.5l.94-2.06 2.06-.94-2.06-.94L8.5 2.5l-.94 2.06-2.06.94zm10 10l.94 2.06.94-2.06 2.06-.94-2.06-.94-.94-2.06-.94 2.06-2.06.94z\"/><path d=\"M17.41 7.96l-1.37-1.37c-.4-.4-.92-.59-1.43-.59-.52 0-1.04.2-1.43.59L10.3 9.45l-7.72 7.72c-.78.78-.78 2.05 0 2.83L4 21.41c.39.39.9.59 1.41.59.51 0 1.02-.2 1.41-.59l7.78-7.78 2.81-2.81c.8-.78.8-2.07 0-2.86zM5.41 20L4 18.59l7.72-7.72 1.47 1.35L5.41 20z\"/>\n",
              "  </svg>\n",
              "      </button>\n",
              "      \n",
              "  <style>\n",
              "    .colab-df-container {\n",
              "      display:flex;\n",
              "      flex-wrap:wrap;\n",
              "      gap: 12px;\n",
              "    }\n",
              "\n",
              "    .colab-df-convert {\n",
              "      background-color: #E8F0FE;\n",
              "      border: none;\n",
              "      border-radius: 50%;\n",
              "      cursor: pointer;\n",
              "      display: none;\n",
              "      fill: #1967D2;\n",
              "      height: 32px;\n",
              "      padding: 0 0 0 0;\n",
              "      width: 32px;\n",
              "    }\n",
              "\n",
              "    .colab-df-convert:hover {\n",
              "      background-color: #E2EBFA;\n",
              "      box-shadow: 0px 1px 2px rgba(60, 64, 67, 0.3), 0px 1px 3px 1px rgba(60, 64, 67, 0.15);\n",
              "      fill: #174EA6;\n",
              "    }\n",
              "\n",
              "    [theme=dark] .colab-df-convert {\n",
              "      background-color: #3B4455;\n",
              "      fill: #D2E3FC;\n",
              "    }\n",
              "\n",
              "    [theme=dark] .colab-df-convert:hover {\n",
              "      background-color: #434B5C;\n",
              "      box-shadow: 0px 1px 3px 1px rgba(0, 0, 0, 0.15);\n",
              "      filter: drop-shadow(0px 1px 2px rgba(0, 0, 0, 0.3));\n",
              "      fill: #FFFFFF;\n",
              "    }\n",
              "  </style>\n",
              "\n",
              "      <script>\n",
              "        const buttonEl =\n",
              "          document.querySelector('#df-a012d2b3-b291-4219-983f-c5fb3faed395 button.colab-df-convert');\n",
              "        buttonEl.style.display =\n",
              "          google.colab.kernel.accessAllowed ? 'block' : 'none';\n",
              "\n",
              "        async function convertToInteractive(key) {\n",
              "          const element = document.querySelector('#df-a012d2b3-b291-4219-983f-c5fb3faed395');\n",
              "          const dataTable =\n",
              "            await google.colab.kernel.invokeFunction('convertToInteractive',\n",
              "                                                     [key], {});\n",
              "          if (!dataTable) return;\n",
              "\n",
              "          const docLinkHtml = 'Like what you see? Visit the ' +\n",
              "            '<a target=\"_blank\" href=https://colab.research.google.com/notebooks/data_table.ipynb>data table notebook</a>'\n",
              "            + ' to learn more about interactive tables.';\n",
              "          element.innerHTML = '';\n",
              "          dataTable['output_type'] = 'display_data';\n",
              "          await google.colab.output.renderOutput(dataTable, element);\n",
              "          const docLink = document.createElement('div');\n",
              "          docLink.innerHTML = docLinkHtml;\n",
              "          element.appendChild(docLink);\n",
              "        }\n",
              "      </script>\n",
              "    </div>\n",
              "  </div>\n",
              "  "
            ]
          },
          "metadata": {}
        },
        {
          "output_type": "stream",
          "name": "stdout",
          "text": [
            "\n"
          ]
        },
        {
          "output_type": "display_data",
          "data": {
            "text/plain": [
              "                    mean  count      diff      risk\n",
              "contract                                           \n",
              "month-to-month  0.428155   3090  0.160955  1.602378\n",
              "one_year        0.119088   1184 -0.148112  0.445688\n",
              "two_year        0.028868   1351 -0.238332  0.108037"
            ],
            "text/html": [
              "\n",
              "  <div id=\"df-a3957e0f-6df4-439b-9f3b-9c20eb068d17\">\n",
              "    <div class=\"colab-df-container\">\n",
              "      <div>\n",
              "<style scoped>\n",
              "    .dataframe tbody tr th:only-of-type {\n",
              "        vertical-align: middle;\n",
              "    }\n",
              "\n",
              "    .dataframe tbody tr th {\n",
              "        vertical-align: top;\n",
              "    }\n",
              "\n",
              "    .dataframe thead th {\n",
              "        text-align: right;\n",
              "    }\n",
              "</style>\n",
              "<table border=\"1\" class=\"dataframe\">\n",
              "  <thead>\n",
              "    <tr style=\"text-align: right;\">\n",
              "      <th></th>\n",
              "      <th>mean</th>\n",
              "      <th>count</th>\n",
              "      <th>diff</th>\n",
              "      <th>risk</th>\n",
              "    </tr>\n",
              "    <tr>\n",
              "      <th>contract</th>\n",
              "      <th></th>\n",
              "      <th></th>\n",
              "      <th></th>\n",
              "      <th></th>\n",
              "    </tr>\n",
              "  </thead>\n",
              "  <tbody>\n",
              "    <tr>\n",
              "      <th>month-to-month</th>\n",
              "      <td>0.428155</td>\n",
              "      <td>3090</td>\n",
              "      <td>0.160955</td>\n",
              "      <td>1.602378</td>\n",
              "    </tr>\n",
              "    <tr>\n",
              "      <th>one_year</th>\n",
              "      <td>0.119088</td>\n",
              "      <td>1184</td>\n",
              "      <td>-0.148112</td>\n",
              "      <td>0.445688</td>\n",
              "    </tr>\n",
              "    <tr>\n",
              "      <th>two_year</th>\n",
              "      <td>0.028868</td>\n",
              "      <td>1351</td>\n",
              "      <td>-0.238332</td>\n",
              "      <td>0.108037</td>\n",
              "    </tr>\n",
              "  </tbody>\n",
              "</table>\n",
              "</div>\n",
              "      <button class=\"colab-df-convert\" onclick=\"convertToInteractive('df-a3957e0f-6df4-439b-9f3b-9c20eb068d17')\"\n",
              "              title=\"Convert this dataframe to an interactive table.\"\n",
              "              style=\"display:none;\">\n",
              "        \n",
              "  <svg xmlns=\"http://www.w3.org/2000/svg\" height=\"24px\"viewBox=\"0 0 24 24\"\n",
              "       width=\"24px\">\n",
              "    <path d=\"M0 0h24v24H0V0z\" fill=\"none\"/>\n",
              "    <path d=\"M18.56 5.44l.94 2.06.94-2.06 2.06-.94-2.06-.94-.94-2.06-.94 2.06-2.06.94zm-11 1L8.5 8.5l.94-2.06 2.06-.94-2.06-.94L8.5 2.5l-.94 2.06-2.06.94zm10 10l.94 2.06.94-2.06 2.06-.94-2.06-.94-.94-2.06-.94 2.06-2.06.94z\"/><path d=\"M17.41 7.96l-1.37-1.37c-.4-.4-.92-.59-1.43-.59-.52 0-1.04.2-1.43.59L10.3 9.45l-7.72 7.72c-.78.78-.78 2.05 0 2.83L4 21.41c.39.39.9.59 1.41.59.51 0 1.02-.2 1.41-.59l7.78-7.78 2.81-2.81c.8-.78.8-2.07 0-2.86zM5.41 20L4 18.59l7.72-7.72 1.47 1.35L5.41 20z\"/>\n",
              "  </svg>\n",
              "      </button>\n",
              "      \n",
              "  <style>\n",
              "    .colab-df-container {\n",
              "      display:flex;\n",
              "      flex-wrap:wrap;\n",
              "      gap: 12px;\n",
              "    }\n",
              "\n",
              "    .colab-df-convert {\n",
              "      background-color: #E8F0FE;\n",
              "      border: none;\n",
              "      border-radius: 50%;\n",
              "      cursor: pointer;\n",
              "      display: none;\n",
              "      fill: #1967D2;\n",
              "      height: 32px;\n",
              "      padding: 0 0 0 0;\n",
              "      width: 32px;\n",
              "    }\n",
              "\n",
              "    .colab-df-convert:hover {\n",
              "      background-color: #E2EBFA;\n",
              "      box-shadow: 0px 1px 2px rgba(60, 64, 67, 0.3), 0px 1px 3px 1px rgba(60, 64, 67, 0.15);\n",
              "      fill: #174EA6;\n",
              "    }\n",
              "\n",
              "    [theme=dark] .colab-df-convert {\n",
              "      background-color: #3B4455;\n",
              "      fill: #D2E3FC;\n",
              "    }\n",
              "\n",
              "    [theme=dark] .colab-df-convert:hover {\n",
              "      background-color: #434B5C;\n",
              "      box-shadow: 0px 1px 3px 1px rgba(0, 0, 0, 0.15);\n",
              "      filter: drop-shadow(0px 1px 2px rgba(0, 0, 0, 0.3));\n",
              "      fill: #FFFFFF;\n",
              "    }\n",
              "  </style>\n",
              "\n",
              "      <script>\n",
              "        const buttonEl =\n",
              "          document.querySelector('#df-a3957e0f-6df4-439b-9f3b-9c20eb068d17 button.colab-df-convert');\n",
              "        buttonEl.style.display =\n",
              "          google.colab.kernel.accessAllowed ? 'block' : 'none';\n",
              "\n",
              "        async function convertToInteractive(key) {\n",
              "          const element = document.querySelector('#df-a3957e0f-6df4-439b-9f3b-9c20eb068d17');\n",
              "          const dataTable =\n",
              "            await google.colab.kernel.invokeFunction('convertToInteractive',\n",
              "                                                     [key], {});\n",
              "          if (!dataTable) return;\n",
              "\n",
              "          const docLinkHtml = 'Like what you see? Visit the ' +\n",
              "            '<a target=\"_blank\" href=https://colab.research.google.com/notebooks/data_table.ipynb>data table notebook</a>'\n",
              "            + ' to learn more about interactive tables.';\n",
              "          element.innerHTML = '';\n",
              "          dataTable['output_type'] = 'display_data';\n",
              "          await google.colab.output.renderOutput(dataTable, element);\n",
              "          const docLink = document.createElement('div');\n",
              "          docLink.innerHTML = docLinkHtml;\n",
              "          element.appendChild(docLink);\n",
              "        }\n",
              "      </script>\n",
              "    </div>\n",
              "  </div>\n",
              "  "
            ]
          },
          "metadata": {}
        },
        {
          "output_type": "stream",
          "name": "stdout",
          "text": [
            "\n"
          ]
        },
        {
          "output_type": "display_data",
          "data": {
            "text/plain": [
              "                      mean  count      diff      risk\n",
              "paperlessbilling                                     \n",
              "no                0.166376   2296 -0.100824  0.622666\n",
              "yes               0.336738   3329  0.069538  1.260246"
            ],
            "text/html": [
              "\n",
              "  <div id=\"df-9d2ed0eb-ca10-41a7-9121-bcdb1a9260a6\">\n",
              "    <div class=\"colab-df-container\">\n",
              "      <div>\n",
              "<style scoped>\n",
              "    .dataframe tbody tr th:only-of-type {\n",
              "        vertical-align: middle;\n",
              "    }\n",
              "\n",
              "    .dataframe tbody tr th {\n",
              "        vertical-align: top;\n",
              "    }\n",
              "\n",
              "    .dataframe thead th {\n",
              "        text-align: right;\n",
              "    }\n",
              "</style>\n",
              "<table border=\"1\" class=\"dataframe\">\n",
              "  <thead>\n",
              "    <tr style=\"text-align: right;\">\n",
              "      <th></th>\n",
              "      <th>mean</th>\n",
              "      <th>count</th>\n",
              "      <th>diff</th>\n",
              "      <th>risk</th>\n",
              "    </tr>\n",
              "    <tr>\n",
              "      <th>paperlessbilling</th>\n",
              "      <th></th>\n",
              "      <th></th>\n",
              "      <th></th>\n",
              "      <th></th>\n",
              "    </tr>\n",
              "  </thead>\n",
              "  <tbody>\n",
              "    <tr>\n",
              "      <th>no</th>\n",
              "      <td>0.166376</td>\n",
              "      <td>2296</td>\n",
              "      <td>-0.100824</td>\n",
              "      <td>0.622666</td>\n",
              "    </tr>\n",
              "    <tr>\n",
              "      <th>yes</th>\n",
              "      <td>0.336738</td>\n",
              "      <td>3329</td>\n",
              "      <td>0.069538</td>\n",
              "      <td>1.260246</td>\n",
              "    </tr>\n",
              "  </tbody>\n",
              "</table>\n",
              "</div>\n",
              "      <button class=\"colab-df-convert\" onclick=\"convertToInteractive('df-9d2ed0eb-ca10-41a7-9121-bcdb1a9260a6')\"\n",
              "              title=\"Convert this dataframe to an interactive table.\"\n",
              "              style=\"display:none;\">\n",
              "        \n",
              "  <svg xmlns=\"http://www.w3.org/2000/svg\" height=\"24px\"viewBox=\"0 0 24 24\"\n",
              "       width=\"24px\">\n",
              "    <path d=\"M0 0h24v24H0V0z\" fill=\"none\"/>\n",
              "    <path d=\"M18.56 5.44l.94 2.06.94-2.06 2.06-.94-2.06-.94-.94-2.06-.94 2.06-2.06.94zm-11 1L8.5 8.5l.94-2.06 2.06-.94-2.06-.94L8.5 2.5l-.94 2.06-2.06.94zm10 10l.94 2.06.94-2.06 2.06-.94-2.06-.94-.94-2.06-.94 2.06-2.06.94z\"/><path d=\"M17.41 7.96l-1.37-1.37c-.4-.4-.92-.59-1.43-.59-.52 0-1.04.2-1.43.59L10.3 9.45l-7.72 7.72c-.78.78-.78 2.05 0 2.83L4 21.41c.39.39.9.59 1.41.59.51 0 1.02-.2 1.41-.59l7.78-7.78 2.81-2.81c.8-.78.8-2.07 0-2.86zM5.41 20L4 18.59l7.72-7.72 1.47 1.35L5.41 20z\"/>\n",
              "  </svg>\n",
              "      </button>\n",
              "      \n",
              "  <style>\n",
              "    .colab-df-container {\n",
              "      display:flex;\n",
              "      flex-wrap:wrap;\n",
              "      gap: 12px;\n",
              "    }\n",
              "\n",
              "    .colab-df-convert {\n",
              "      background-color: #E8F0FE;\n",
              "      border: none;\n",
              "      border-radius: 50%;\n",
              "      cursor: pointer;\n",
              "      display: none;\n",
              "      fill: #1967D2;\n",
              "      height: 32px;\n",
              "      padding: 0 0 0 0;\n",
              "      width: 32px;\n",
              "    }\n",
              "\n",
              "    .colab-df-convert:hover {\n",
              "      background-color: #E2EBFA;\n",
              "      box-shadow: 0px 1px 2px rgba(60, 64, 67, 0.3), 0px 1px 3px 1px rgba(60, 64, 67, 0.15);\n",
              "      fill: #174EA6;\n",
              "    }\n",
              "\n",
              "    [theme=dark] .colab-df-convert {\n",
              "      background-color: #3B4455;\n",
              "      fill: #D2E3FC;\n",
              "    }\n",
              "\n",
              "    [theme=dark] .colab-df-convert:hover {\n",
              "      background-color: #434B5C;\n",
              "      box-shadow: 0px 1px 3px 1px rgba(0, 0, 0, 0.15);\n",
              "      filter: drop-shadow(0px 1px 2px rgba(0, 0, 0, 0.3));\n",
              "      fill: #FFFFFF;\n",
              "    }\n",
              "  </style>\n",
              "\n",
              "      <script>\n",
              "        const buttonEl =\n",
              "          document.querySelector('#df-9d2ed0eb-ca10-41a7-9121-bcdb1a9260a6 button.colab-df-convert');\n",
              "        buttonEl.style.display =\n",
              "          google.colab.kernel.accessAllowed ? 'block' : 'none';\n",
              "\n",
              "        async function convertToInteractive(key) {\n",
              "          const element = document.querySelector('#df-9d2ed0eb-ca10-41a7-9121-bcdb1a9260a6');\n",
              "          const dataTable =\n",
              "            await google.colab.kernel.invokeFunction('convertToInteractive',\n",
              "                                                     [key], {});\n",
              "          if (!dataTable) return;\n",
              "\n",
              "          const docLinkHtml = 'Like what you see? Visit the ' +\n",
              "            '<a target=\"_blank\" href=https://colab.research.google.com/notebooks/data_table.ipynb>data table notebook</a>'\n",
              "            + ' to learn more about interactive tables.';\n",
              "          element.innerHTML = '';\n",
              "          dataTable['output_type'] = 'display_data';\n",
              "          await google.colab.output.renderOutput(dataTable, element);\n",
              "          const docLink = document.createElement('div');\n",
              "          docLink.innerHTML = docLinkHtml;\n",
              "          element.appendChild(docLink);\n",
              "        }\n",
              "      </script>\n",
              "    </div>\n",
              "  </div>\n",
              "  "
            ]
          },
          "metadata": {}
        },
        {
          "output_type": "stream",
          "name": "stdout",
          "text": [
            "\n"
          ]
        },
        {
          "output_type": "display_data",
          "data": {
            "text/plain": [
              "                               mean  count      diff      risk\n",
              "paymentmethod                                                 \n",
              "bank_transfer_(automatic)  0.165282   1204 -0.101918  0.618572\n",
              "credit_card_(automatic)    0.163097   1214 -0.104103  0.610394\n",
              "electronic_check           0.456131   1892  0.188931  1.707077\n",
              "mailed_check               0.184791   1315 -0.082409  0.691583"
            ],
            "text/html": [
              "\n",
              "  <div id=\"df-c9d8110b-f73c-4a55-b09f-8cc212ae1822\">\n",
              "    <div class=\"colab-df-container\">\n",
              "      <div>\n",
              "<style scoped>\n",
              "    .dataframe tbody tr th:only-of-type {\n",
              "        vertical-align: middle;\n",
              "    }\n",
              "\n",
              "    .dataframe tbody tr th {\n",
              "        vertical-align: top;\n",
              "    }\n",
              "\n",
              "    .dataframe thead th {\n",
              "        text-align: right;\n",
              "    }\n",
              "</style>\n",
              "<table border=\"1\" class=\"dataframe\">\n",
              "  <thead>\n",
              "    <tr style=\"text-align: right;\">\n",
              "      <th></th>\n",
              "      <th>mean</th>\n",
              "      <th>count</th>\n",
              "      <th>diff</th>\n",
              "      <th>risk</th>\n",
              "    </tr>\n",
              "    <tr>\n",
              "      <th>paymentmethod</th>\n",
              "      <th></th>\n",
              "      <th></th>\n",
              "      <th></th>\n",
              "      <th></th>\n",
              "    </tr>\n",
              "  </thead>\n",
              "  <tbody>\n",
              "    <tr>\n",
              "      <th>bank_transfer_(automatic)</th>\n",
              "      <td>0.165282</td>\n",
              "      <td>1204</td>\n",
              "      <td>-0.101918</td>\n",
              "      <td>0.618572</td>\n",
              "    </tr>\n",
              "    <tr>\n",
              "      <th>credit_card_(automatic)</th>\n",
              "      <td>0.163097</td>\n",
              "      <td>1214</td>\n",
              "      <td>-0.104103</td>\n",
              "      <td>0.610394</td>\n",
              "    </tr>\n",
              "    <tr>\n",
              "      <th>electronic_check</th>\n",
              "      <td>0.456131</td>\n",
              "      <td>1892</td>\n",
              "      <td>0.188931</td>\n",
              "      <td>1.707077</td>\n",
              "    </tr>\n",
              "    <tr>\n",
              "      <th>mailed_check</th>\n",
              "      <td>0.184791</td>\n",
              "      <td>1315</td>\n",
              "      <td>-0.082409</td>\n",
              "      <td>0.691583</td>\n",
              "    </tr>\n",
              "  </tbody>\n",
              "</table>\n",
              "</div>\n",
              "      <button class=\"colab-df-convert\" onclick=\"convertToInteractive('df-c9d8110b-f73c-4a55-b09f-8cc212ae1822')\"\n",
              "              title=\"Convert this dataframe to an interactive table.\"\n",
              "              style=\"display:none;\">\n",
              "        \n",
              "  <svg xmlns=\"http://www.w3.org/2000/svg\" height=\"24px\"viewBox=\"0 0 24 24\"\n",
              "       width=\"24px\">\n",
              "    <path d=\"M0 0h24v24H0V0z\" fill=\"none\"/>\n",
              "    <path d=\"M18.56 5.44l.94 2.06.94-2.06 2.06-.94-2.06-.94-.94-2.06-.94 2.06-2.06.94zm-11 1L8.5 8.5l.94-2.06 2.06-.94-2.06-.94L8.5 2.5l-.94 2.06-2.06.94zm10 10l.94 2.06.94-2.06 2.06-.94-2.06-.94-.94-2.06-.94 2.06-2.06.94z\"/><path d=\"M17.41 7.96l-1.37-1.37c-.4-.4-.92-.59-1.43-.59-.52 0-1.04.2-1.43.59L10.3 9.45l-7.72 7.72c-.78.78-.78 2.05 0 2.83L4 21.41c.39.39.9.59 1.41.59.51 0 1.02-.2 1.41-.59l7.78-7.78 2.81-2.81c.8-.78.8-2.07 0-2.86zM5.41 20L4 18.59l7.72-7.72 1.47 1.35L5.41 20z\"/>\n",
              "  </svg>\n",
              "      </button>\n",
              "      \n",
              "  <style>\n",
              "    .colab-df-container {\n",
              "      display:flex;\n",
              "      flex-wrap:wrap;\n",
              "      gap: 12px;\n",
              "    }\n",
              "\n",
              "    .colab-df-convert {\n",
              "      background-color: #E8F0FE;\n",
              "      border: none;\n",
              "      border-radius: 50%;\n",
              "      cursor: pointer;\n",
              "      display: none;\n",
              "      fill: #1967D2;\n",
              "      height: 32px;\n",
              "      padding: 0 0 0 0;\n",
              "      width: 32px;\n",
              "    }\n",
              "\n",
              "    .colab-df-convert:hover {\n",
              "      background-color: #E2EBFA;\n",
              "      box-shadow: 0px 1px 2px rgba(60, 64, 67, 0.3), 0px 1px 3px 1px rgba(60, 64, 67, 0.15);\n",
              "      fill: #174EA6;\n",
              "    }\n",
              "\n",
              "    [theme=dark] .colab-df-convert {\n",
              "      background-color: #3B4455;\n",
              "      fill: #D2E3FC;\n",
              "    }\n",
              "\n",
              "    [theme=dark] .colab-df-convert:hover {\n",
              "      background-color: #434B5C;\n",
              "      box-shadow: 0px 1px 3px 1px rgba(0, 0, 0, 0.15);\n",
              "      filter: drop-shadow(0px 1px 2px rgba(0, 0, 0, 0.3));\n",
              "      fill: #FFFFFF;\n",
              "    }\n",
              "  </style>\n",
              "\n",
              "      <script>\n",
              "        const buttonEl =\n",
              "          document.querySelector('#df-c9d8110b-f73c-4a55-b09f-8cc212ae1822 button.colab-df-convert');\n",
              "        buttonEl.style.display =\n",
              "          google.colab.kernel.accessAllowed ? 'block' : 'none';\n",
              "\n",
              "        async function convertToInteractive(key) {\n",
              "          const element = document.querySelector('#df-c9d8110b-f73c-4a55-b09f-8cc212ae1822');\n",
              "          const dataTable =\n",
              "            await google.colab.kernel.invokeFunction('convertToInteractive',\n",
              "                                                     [key], {});\n",
              "          if (!dataTable) return;\n",
              "\n",
              "          const docLinkHtml = 'Like what you see? Visit the ' +\n",
              "            '<a target=\"_blank\" href=https://colab.research.google.com/notebooks/data_table.ipynb>data table notebook</a>'\n",
              "            + ' to learn more about interactive tables.';\n",
              "          element.innerHTML = '';\n",
              "          dataTable['output_type'] = 'display_data';\n",
              "          await google.colab.output.renderOutput(dataTable, element);\n",
              "          const docLink = document.createElement('div');\n",
              "          docLink.innerHTML = docLinkHtml;\n",
              "          element.appendChild(docLink);\n",
              "        }\n",
              "      </script>\n",
              "    </div>\n",
              "  </div>\n",
              "  "
            ]
          },
          "metadata": {}
        },
        {
          "output_type": "stream",
          "name": "stdout",
          "text": [
            "\n"
          ]
        },
        {
          "output_type": "display_data",
          "data": {
            "text/plain": [
              "                   mean  count      diff      risk\n",
              "seniorcitizen                                     \n",
              "0              0.236182   4704 -0.031018  0.883915\n",
              "1              0.425624    921  0.158424  1.592905"
            ],
            "text/html": [
              "\n",
              "  <div id=\"df-3953f2b9-aeed-47f4-9ef8-05f15d35ac78\">\n",
              "    <div class=\"colab-df-container\">\n",
              "      <div>\n",
              "<style scoped>\n",
              "    .dataframe tbody tr th:only-of-type {\n",
              "        vertical-align: middle;\n",
              "    }\n",
              "\n",
              "    .dataframe tbody tr th {\n",
              "        vertical-align: top;\n",
              "    }\n",
              "\n",
              "    .dataframe thead th {\n",
              "        text-align: right;\n",
              "    }\n",
              "</style>\n",
              "<table border=\"1\" class=\"dataframe\">\n",
              "  <thead>\n",
              "    <tr style=\"text-align: right;\">\n",
              "      <th></th>\n",
              "      <th>mean</th>\n",
              "      <th>count</th>\n",
              "      <th>diff</th>\n",
              "      <th>risk</th>\n",
              "    </tr>\n",
              "    <tr>\n",
              "      <th>seniorcitizen</th>\n",
              "      <th></th>\n",
              "      <th></th>\n",
              "      <th></th>\n",
              "      <th></th>\n",
              "    </tr>\n",
              "  </thead>\n",
              "  <tbody>\n",
              "    <tr>\n",
              "      <th>0</th>\n",
              "      <td>0.236182</td>\n",
              "      <td>4704</td>\n",
              "      <td>-0.031018</td>\n",
              "      <td>0.883915</td>\n",
              "    </tr>\n",
              "    <tr>\n",
              "      <th>1</th>\n",
              "      <td>0.425624</td>\n",
              "      <td>921</td>\n",
              "      <td>0.158424</td>\n",
              "      <td>1.592905</td>\n",
              "    </tr>\n",
              "  </tbody>\n",
              "</table>\n",
              "</div>\n",
              "      <button class=\"colab-df-convert\" onclick=\"convertToInteractive('df-3953f2b9-aeed-47f4-9ef8-05f15d35ac78')\"\n",
              "              title=\"Convert this dataframe to an interactive table.\"\n",
              "              style=\"display:none;\">\n",
              "        \n",
              "  <svg xmlns=\"http://www.w3.org/2000/svg\" height=\"24px\"viewBox=\"0 0 24 24\"\n",
              "       width=\"24px\">\n",
              "    <path d=\"M0 0h24v24H0V0z\" fill=\"none\"/>\n",
              "    <path d=\"M18.56 5.44l.94 2.06.94-2.06 2.06-.94-2.06-.94-.94-2.06-.94 2.06-2.06.94zm-11 1L8.5 8.5l.94-2.06 2.06-.94-2.06-.94L8.5 2.5l-.94 2.06-2.06.94zm10 10l.94 2.06.94-2.06 2.06-.94-2.06-.94-.94-2.06-.94 2.06-2.06.94z\"/><path d=\"M17.41 7.96l-1.37-1.37c-.4-.4-.92-.59-1.43-.59-.52 0-1.04.2-1.43.59L10.3 9.45l-7.72 7.72c-.78.78-.78 2.05 0 2.83L4 21.41c.39.39.9.59 1.41.59.51 0 1.02-.2 1.41-.59l7.78-7.78 2.81-2.81c.8-.78.8-2.07 0-2.86zM5.41 20L4 18.59l7.72-7.72 1.47 1.35L5.41 20z\"/>\n",
              "  </svg>\n",
              "      </button>\n",
              "      \n",
              "  <style>\n",
              "    .colab-df-container {\n",
              "      display:flex;\n",
              "      flex-wrap:wrap;\n",
              "      gap: 12px;\n",
              "    }\n",
              "\n",
              "    .colab-df-convert {\n",
              "      background-color: #E8F0FE;\n",
              "      border: none;\n",
              "      border-radius: 50%;\n",
              "      cursor: pointer;\n",
              "      display: none;\n",
              "      fill: #1967D2;\n",
              "      height: 32px;\n",
              "      padding: 0 0 0 0;\n",
              "      width: 32px;\n",
              "    }\n",
              "\n",
              "    .colab-df-convert:hover {\n",
              "      background-color: #E2EBFA;\n",
              "      box-shadow: 0px 1px 2px rgba(60, 64, 67, 0.3), 0px 1px 3px 1px rgba(60, 64, 67, 0.15);\n",
              "      fill: #174EA6;\n",
              "    }\n",
              "\n",
              "    [theme=dark] .colab-df-convert {\n",
              "      background-color: #3B4455;\n",
              "      fill: #D2E3FC;\n",
              "    }\n",
              "\n",
              "    [theme=dark] .colab-df-convert:hover {\n",
              "      background-color: #434B5C;\n",
              "      box-shadow: 0px 1px 3px 1px rgba(0, 0, 0, 0.15);\n",
              "      filter: drop-shadow(0px 1px 2px rgba(0, 0, 0, 0.3));\n",
              "      fill: #FFFFFF;\n",
              "    }\n",
              "  </style>\n",
              "\n",
              "      <script>\n",
              "        const buttonEl =\n",
              "          document.querySelector('#df-3953f2b9-aeed-47f4-9ef8-05f15d35ac78 button.colab-df-convert');\n",
              "        buttonEl.style.display =\n",
              "          google.colab.kernel.accessAllowed ? 'block' : 'none';\n",
              "\n",
              "        async function convertToInteractive(key) {\n",
              "          const element = document.querySelector('#df-3953f2b9-aeed-47f4-9ef8-05f15d35ac78');\n",
              "          const dataTable =\n",
              "            await google.colab.kernel.invokeFunction('convertToInteractive',\n",
              "                                                     [key], {});\n",
              "          if (!dataTable) return;\n",
              "\n",
              "          const docLinkHtml = 'Like what you see? Visit the ' +\n",
              "            '<a target=\"_blank\" href=https://colab.research.google.com/notebooks/data_table.ipynb>data table notebook</a>'\n",
              "            + ' to learn more about interactive tables.';\n",
              "          element.innerHTML = '';\n",
              "          dataTable['output_type'] = 'display_data';\n",
              "          await google.colab.output.renderOutput(dataTable, element);\n",
              "          const docLink = document.createElement('div');\n",
              "          docLink.innerHTML = docLinkHtml;\n",
              "          element.appendChild(docLink);\n",
              "        }\n",
              "      </script>\n",
              "    </div>\n",
              "  </div>\n",
              "  "
            ]
          },
          "metadata": {}
        },
        {
          "output_type": "stream",
          "name": "stdout",
          "text": [
            "\n"
          ]
        }
      ]
    },
    {
      "cell_type": "markdown",
      "source": [
        "## Phi k"
      ],
      "metadata": {
        "id": "zFHdGDy-IH16"
      }
    },
    {
      "cell_type": "code",
      "source": [
        "!pip install phik\n",
        "import phik"
      ],
      "metadata": {
        "colab": {
          "base_uri": "https://localhost:8080/"
        },
        "id": "i5iFf3cXCwFe",
        "outputId": "ce04b82c-7d02-4c7d-cca0-f789f65012ea"
      },
      "execution_count": null,
      "outputs": [
        {
          "output_type": "stream",
          "name": "stdout",
          "text": [
            "Looking in indexes: https://pypi.org/simple, https://us-python.pkg.dev/colab-wheels/public/simple/\n",
            "Requirement already satisfied: phik in /usr/local/lib/python3.7/dist-packages (0.12.2)\n",
            "Requirement already satisfied: pandas>=0.25.1 in /usr/local/lib/python3.7/dist-packages (from phik) (1.3.5)\n",
            "Requirement already satisfied: scipy>=1.5.2 in /usr/local/lib/python3.7/dist-packages (from phik) (1.7.3)\n",
            "Requirement already satisfied: numpy>=1.18.0 in /usr/local/lib/python3.7/dist-packages (from phik) (1.21.6)\n",
            "Requirement already satisfied: matplotlib>=2.2.3 in /usr/local/lib/python3.7/dist-packages (from phik) (3.2.2)\n",
            "Requirement already satisfied: joblib>=0.14.1 in /usr/local/lib/python3.7/dist-packages (from phik) (1.1.0)\n",
            "Requirement already satisfied: cycler>=0.10 in /usr/local/lib/python3.7/dist-packages (from matplotlib>=2.2.3->phik) (0.11.0)\n",
            "Requirement already satisfied: python-dateutil>=2.1 in /usr/local/lib/python3.7/dist-packages (from matplotlib>=2.2.3->phik) (2.8.2)\n",
            "Requirement already satisfied: pyparsing!=2.0.4,!=2.1.2,!=2.1.6,>=2.0.1 in /usr/local/lib/python3.7/dist-packages (from matplotlib>=2.2.3->phik) (3.0.9)\n",
            "Requirement already satisfied: kiwisolver>=1.0.1 in /usr/local/lib/python3.7/dist-packages (from matplotlib>=2.2.3->phik) (1.4.3)\n",
            "Requirement already satisfied: typing-extensions in /usr/local/lib/python3.7/dist-packages (from kiwisolver>=1.0.1->matplotlib>=2.2.3->phik) (4.1.1)\n",
            "Requirement already satisfied: pytz>=2017.3 in /usr/local/lib/python3.7/dist-packages (from pandas>=0.25.1->phik) (2022.1)\n",
            "Requirement already satisfied: six>=1.5 in /usr/local/lib/python3.7/dist-packages (from python-dateutil>=2.1->matplotlib>=2.2.3->phik) (1.15.0)\n"
          ]
        }
      ]
    },
    {
      "cell_type": "code",
      "source": [
        "df_full_train['seniorcitizen'] = df_full_train['seniorcitizen'].astype('category')\n",
        "df_full_train.dtypes"
      ],
      "metadata": {
        "colab": {
          "base_uri": "https://localhost:8080/"
        },
        "id": "1HdyGUWbGwMA",
        "outputId": "e1a232d3-2554-4982-8756-112fef7819ba"
      },
      "execution_count": null,
      "outputs": [
        {
          "output_type": "execute_result",
          "data": {
            "text/plain": [
              "gender                object\n",
              "seniorcitizen       category\n",
              "partner               object\n",
              "dependents            object\n",
              "tenure                 int64\n",
              "phoneservice          object\n",
              "multiplelines         object\n",
              "internetservice       object\n",
              "onlinesecurity        object\n",
              "onlinebackup          object\n",
              "deviceprotection      object\n",
              "techsupport           object\n",
              "streamingtv           object\n",
              "streamingmovies       object\n",
              "contract              object\n",
              "paperlessbilling      object\n",
              "paymentmethod         object\n",
              "monthlycharges       float64\n",
              "totalcharges         float64\n",
              "churn                  int64\n",
              "dtype: object"
            ]
          },
          "metadata": {},
          "execution_count": 524
        }
      ]
    },
    {
      "cell_type": "code",
      "source": [
        "# get the phi_k correlation matrix between all variables\n",
        "p_corr = df_full_train.phik_matrix()"
      ],
      "metadata": {
        "colab": {
          "base_uri": "https://localhost:8080/"
        },
        "id": "aHa5XIbUHZPM",
        "outputId": "edd2460e-c3f6-4d9e-f54b-3157f8af6ac4"
      },
      "execution_count": null,
      "outputs": [
        {
          "output_type": "stream",
          "name": "stdout",
          "text": [
            "interval columns not set, guessing: ['tenure', 'monthlycharges', 'totalcharges', 'churn']\n"
          ]
        }
      ]
    },
    {
      "cell_type": "code",
      "source": [
        "p_corr['churn'].sort_values(ascending=False)"
      ],
      "metadata": {
        "colab": {
          "base_uri": "https://localhost:8080/"
        },
        "id": "9wjEhMu9JsQn",
        "outputId": "00c9ce8b-30fa-409f-e52b-2e58e80d4744"
      },
      "execution_count": null,
      "outputs": [
        {
          "output_type": "execute_result",
          "data": {
            "text/plain": [
              "churn               1.000000\n",
              "tenure              0.466544\n",
              "paymentmethod       0.450528\n",
              "monthlycharges      0.355205\n",
              "paperlessbilling    0.291582\n",
              "totalcharges        0.273106\n",
              "dependents          0.250404\n",
              "contract            0.249825\n",
              "seniorcitizen       0.244620\n",
              "partner             0.230017\n",
              "onlinesecurity      0.210344\n",
              "techsupport         0.208976\n",
              "internetservice     0.195064\n",
              "onlinebackup        0.175940\n",
              "deviceprotection    0.169132\n",
              "streamingtv         0.140508\n",
              "streamingmovies     0.139804\n",
              "multiplelines       0.020753\n",
              "phoneservice        0.000000\n",
              "gender              0.000000\n",
              "Name: churn, dtype: float64"
            ]
          },
          "metadata": {},
          "execution_count": 526
        }
      ]
    },
    {
      "cell_type": "code",
      "source": [
        "categorical = ['paymentmethod']\n",
        "numerical = ['monthlycharges', \t'tenure']"
      ],
      "metadata": {
        "id": "cndpN_6TKJFj"
      },
      "execution_count": null,
      "outputs": []
    },
    {
      "cell_type": "markdown",
      "source": [
        "## Mutual Information - Not ran in this project"
      ],
      "metadata": {
        "id": "9Mht59O8IN1Z"
      }
    },
    {
      "cell_type": "code",
      "source": [
        "from sklearn.metrics import mutual_info_score"
      ],
      "metadata": {
        "id": "9Gn3P8qnHvEK"
      },
      "execution_count": null,
      "outputs": []
    },
    {
      "cell_type": "code",
      "source": [
        "# def mutual_information_categorical(series):\n",
        "#   return mutual_info_score(series, df_full_train.churn)"
      ],
      "metadata": {
        "id": "CZO-qwXPLD53"
      },
      "execution_count": null,
      "outputs": []
    },
    {
      "cell_type": "code",
      "source": [
        "# mi = df_full_train[categorical].apply(mutual_information_categorical)\n",
        "# mi.sort_values(ascending=False)"
      ],
      "metadata": {
        "colab": {
          "base_uri": "https://localhost:8080/"
        },
        "id": "s3X4T7yjL4Vz",
        "outputId": "3e35bdaf-01b9-4489-baa9-5d29df300d6a"
      },
      "execution_count": null,
      "outputs": [
        {
          "output_type": "execute_result",
          "data": {
            "text/plain": [
              "contract            0.097114\n",
              "onlinesecurity      0.064117\n",
              "techsupport         0.063183\n",
              "internetservice     0.055333\n",
              "onlinebackup        0.046461\n",
              "paymentmethod       0.044772\n",
              "deviceprotection    0.043555\n",
              "streamingtv         0.032672\n",
              "streamingmovies     0.032433\n",
              "paperlessbilling    0.018651\n",
              "dependents          0.014075\n",
              "seniorcitizen       0.011645\n",
              "partner             0.011199\n",
              "multiplelines       0.000769\n",
              "gender              0.000051\n",
              "phoneservice        0.000025\n",
              "dtype: float64"
            ]
          },
          "metadata": {},
          "execution_count": 487
        }
      ]
    },
    {
      "cell_type": "markdown",
      "source": [
        "## Numerical Correlation - Not ran in this project"
      ],
      "metadata": {
        "id": "v40BzPz_NSDj"
      }
    },
    {
      "cell_type": "code",
      "source": [
        "# df_full_train[numerical].corrwith(df_full_train.churn)"
      ],
      "metadata": {
        "colab": {
          "base_uri": "https://localhost:8080/"
        },
        "id": "MEw-13hdPBz5",
        "outputId": "3a58dbe1-870b-4763-b99d-65f4cb0c6b68"
      },
      "execution_count": null,
      "outputs": [
        {
          "output_type": "execute_result",
          "data": {
            "text/plain": [
              "tenure           -0.351885\n",
              "monthlycharges    0.196805\n",
              "totalcharges     -0.196353\n",
              "dtype: float64"
            ]
          },
          "metadata": {},
          "execution_count": 270
        }
      ]
    },
    {
      "cell_type": "code",
      "source": [
        "# import matplotlib.pyplot as plt\n",
        "\n",
        "# f = plt.figure(figsize=(5, 5))\n",
        "# df_full_train[numerical].corrwith(df_full_train.churn).plot.barh()\n",
        "# plt.tight_layout()"
      ],
      "metadata": {
        "colab": {
          "base_uri": "https://localhost:8080/",
          "height": 369
        },
        "id": "v-tsOx3NCenx",
        "outputId": "90fe2d38-1eac-45c2-a353-04c9f28f2d50"
      },
      "execution_count": null,
      "outputs": [
        {
          "output_type": "display_data",
          "data": {
            "text/plain": [
              "<Figure size 360x360 with 1 Axes>"
            ],
            "image/png": "[encoded data removed]"
          },
          "metadata": {
            "needs_background": "light"
          }
        }
      ]
    },
    {
      "cell_type": "code",
      "source": [
        "# df_full_train[df_full_train.tenure <= 2].churn.mean()"
      ],
      "metadata": {
        "colab": {
          "base_uri": "https://localhost:8080/"
        },
        "id": "7whtavyBPlbH",
        "outputId": "cf82ac6a-3370-435e-e307-49eaf9717a11"
      },
      "execution_count": null,
      "outputs": [
        {
          "output_type": "execute_result",
          "data": {
            "text/plain": [
              "0.5953420669577875"
            ]
          },
          "metadata": {},
          "execution_count": 272
        }
      ]
    },
    {
      "cell_type": "code",
      "source": [
        "# df_full_train[(df_full_train.tenure > 2) & (df_full_train.tenure <= 12) ].churn.mean()"
      ],
      "metadata": {
        "colab": {
          "base_uri": "https://localhost:8080/"
        },
        "id": "9sR_GqYnPvdQ",
        "outputId": "06b5fcb2-c065-4336-d25d-409879dec1ae"
      },
      "execution_count": null,
      "outputs": [
        {
          "output_type": "execute_result",
          "data": {
            "text/plain": [
              "0.3994413407821229"
            ]
          },
          "metadata": {},
          "execution_count": 273
        }
      ]
    },
    {
      "cell_type": "code",
      "source": [
        "# df_full_train[df_full_train.tenure > 12].churn.mean()"
      ],
      "metadata": {
        "colab": {
          "base_uri": "https://localhost:8080/"
        },
        "id": "CpZLdpt0P4-u",
        "outputId": "2fcb1558-6922-413f-b829-6db5ad7ae010"
      },
      "execution_count": null,
      "outputs": [
        {
          "output_type": "execute_result",
          "data": {
            "text/plain": [
              "0.17634908339788277"
            ]
          },
          "metadata": {},
          "execution_count": 274
        }
      ]
    },
    {
      "cell_type": "markdown",
      "source": [
        "# One-hot encoding"
      ],
      "metadata": {
        "id": "DwmMibf0Pg8a"
      }
    },
    {
      "cell_type": "code",
      "source": [
        "from sklearn.feature_extraction import DictVectorizer"
      ],
      "metadata": {
        "id": "6yZoUZliYwnl"
      },
      "execution_count": null,
      "outputs": []
    },
    {
      "cell_type": "code",
      "source": [
        "dv = DictVectorizer(sparse=False)\n",
        "\n",
        "train_dict = df_train[categorical + numerical].to_dict(orient='records')\n",
        "X_train = X_train = dv.fit_transform(train_dict)\n",
        "\n",
        "val_dict = df_val[categorical + numerical].to_dict(orient='records')\n",
        "X_val = dv.transform(val_dict)"
      ],
      "metadata": {
        "id": "zG_35KTwstGs"
      },
      "execution_count": null,
      "outputs": []
    },
    {
      "cell_type": "code",
      "source": [
        "dv.get_feature_names_out()"
      ],
      "metadata": {
        "colab": {
          "base_uri": "https://localhost:8080/"
        },
        "id": "bEgDFugfbno8",
        "outputId": "f28311d8-240f-40fe-9368-48d36628b0c9"
      },
      "execution_count": null,
      "outputs": [
        {
          "output_type": "execute_result",
          "data": {
            "text/plain": [
              "array(['contract=month-to-month', 'contract=one_year',\n",
              "       'contract=two_year', 'monthlycharges',\n",
              "       'paymentmethod=bank_transfer_(automatic)',\n",
              "       'paymentmethod=credit_card_(automatic)',\n",
              "       'paymentmethod=electronic_check', 'paymentmethod=mailed_check',\n",
              "       'tenure'], dtype=object)"
            ]
          },
          "metadata": {},
          "execution_count": 604
        }
      ]
    },
    {
      "cell_type": "markdown",
      "source": [
        "#Logisitic Regression"
      ],
      "metadata": {
        "id": "dBKa_cuSb2Ru"
      }
    },
    {
      "cell_type": "code",
      "source": [
        "from sklearn.linear_model import LogisticRegression "
      ],
      "metadata": {
        "id": "wjg4u41Sc8Y_"
      },
      "execution_count": null,
      "outputs": []
    },
    {
      "cell_type": "code",
      "source": [
        "model = LogisticRegression(solver='liblinear')"
      ],
      "metadata": {
        "id": "8kk58s_isDHt"
      },
      "execution_count": null,
      "outputs": []
    },
    {
      "cell_type": "code",
      "source": [
        "# https://scikit-learn.org/stable/modules/linear_model.html#logistic-regression\n",
        "model.fit(X_train, y_train)"
      ],
      "metadata": {
        "colab": {
          "base_uri": "https://localhost:8080/"
        },
        "id": "G52cDYzMsMI-",
        "outputId": "4aa83052-4cb6-4b88-a79c-1247331a147d"
      },
      "execution_count": null,
      "outputs": [
        {
          "output_type": "execute_result",
          "data": {
            "text/plain": [
              "LogisticRegression(solver='liblinear')"
            ]
          },
          "metadata": {},
          "execution_count": 607
        }
      ]
    },
    {
      "cell_type": "code",
      "source": [
        "model.intercept_[0]"
      ],
      "metadata": {
        "colab": {
          "base_uri": "https://localhost:8080/"
        },
        "id": "PUXio4E8vqmS",
        "outputId": "9fca510f-9095-4379-dd01-a09b9c8d608f"
      },
      "execution_count": null,
      "outputs": [
        {
          "output_type": "execute_result",
          "data": {
            "text/plain": [
              "-1.489733890751467"
            ]
          },
          "metadata": {},
          "execution_count": 608
        }
      ]
    },
    {
      "cell_type": "code",
      "source": [
        "model.coef_[0].round(3)"
      ],
      "metadata": {
        "colab": {
          "base_uri": "https://localhost:8080/"
        },
        "id": "0akdE8ouvcAB",
        "outputId": "dc1d8526-7fda-4971-be65-6e4e7973956e"
      },
      "execution_count": null,
      "outputs": [
        {
          "output_type": "execute_result",
          "data": {
            "text/plain": [
              "array([ 0.303, -0.507, -1.286,  0.027, -0.456, -0.471,  0.008, -0.571,\n",
              "       -0.037])"
            ]
          },
          "metadata": {},
          "execution_count": 609
        }
      ]
    },
    {
      "cell_type": "code",
      "source": [
        "y_pred = model.predict_proba(X_val)[:,1]"
      ],
      "metadata": {
        "id": "qGHFGyIYvw60"
      },
      "execution_count": null,
      "outputs": []
    },
    {
      "cell_type": "code",
      "source": [
        "churn_decision = y_pred >= 0.5"
      ],
      "metadata": {
        "id": "eI2r7CMNwUvK"
      },
      "execution_count": null,
      "outputs": []
    },
    {
      "cell_type": "code",
      "source": [
        "(y_val == churn_decision).mean()"
      ],
      "metadata": {
        "colab": {
          "base_uri": "https://localhost:8080/"
        },
        "id": "q__FvRNdwvlZ",
        "outputId": "46877c74-6e9e-49fd-a882-2ca43efcf1ef"
      },
      "execution_count": null,
      "outputs": [
        {
          "output_type": "execute_result",
          "data": {
            "text/plain": [
              "0.7955555555555556"
            ]
          },
          "metadata": {},
          "execution_count": 612
        }
      ]
    },
    {
      "cell_type": "markdown",
      "source": [
        "Predicition DataFrame "
      ],
      "metadata": {
        "id": "Dor1EPhdcfZ_"
      }
    },
    {
      "cell_type": "code",
      "source": [
        "df_pred = pd.DataFrame()\n",
        "df_pred['probability'] = y_pred \n",
        "df_pred['prediction'] = churn_decision.astype(int)\n",
        "df_pred['actual'] = y_val\n",
        "df_pred['correct'] = df_pred.prediction == df_pred.actual\n",
        "df_pred"
      ],
      "metadata": {
        "colab": {
          "base_uri": "https://localhost:8080/",
          "height": 424
        },
        "id": "tFIGLidlxPeV",
        "outputId": "97b35af8-794b-4c3c-d3d3-ef3cb7d90e7e"
      },
      "execution_count": null,
      "outputs": [
        {
          "output_type": "execute_result",
          "data": {
            "text/plain": [
              "      probability  prediction  actual  correct\n",
              "0        0.038209           0       0     True\n",
              "1        0.361824           0       1    False\n",
              "2        0.664697           1       1     True\n",
              "3        0.752507           1       1     True\n",
              "4        0.197283           0       0     True\n",
              "...           ...         ...     ...      ...\n",
              "1120     0.556523           1       0    False\n",
              "1121     0.465020           0       1    False\n",
              "1122     0.327215           0       1    False\n",
              "1123     0.219697           0       0     True\n",
              "1124     0.606841           1       1     True\n",
              "\n",
              "[1125 rows x 4 columns]"
            ],
            "text/html": [
              "\n",
              "  <div id=\"df-fa83b53d-830f-4f44-b3c3-864a0aec1810\">\n",
              "    <div class=\"colab-df-container\">\n",
              "      <div>\n",
              "<style scoped>\n",
              "    .dataframe tbody tr th:only-of-type {\n",
              "        vertical-align: middle;\n",
              "    }\n",
              "\n",
              "    .dataframe tbody tr th {\n",
              "        vertical-align: top;\n",
              "    }\n",
              "\n",
              "    .dataframe thead th {\n",
              "        text-align: right;\n",
              "    }\n",
              "</style>\n",
              "<table border=\"1\" class=\"dataframe\">\n",
              "  <thead>\n",
              "    <tr style=\"text-align: right;\">\n",
              "      <th></th>\n",
              "      <th>probability</th>\n",
              "      <th>prediction</th>\n",
              "      <th>actual</th>\n",
              "      <th>correct</th>\n",
              "    </tr>\n",
              "  </thead>\n",
              "  <tbody>\n",
              "    <tr>\n",
              "      <th>0</th>\n",
              "      <td>0.038209</td>\n",
              "      <td>0</td>\n",
              "      <td>0</td>\n",
              "      <td>True</td>\n",
              "    </tr>\n",
              "    <tr>\n",
              "      <th>1</th>\n",
              "      <td>0.361824</td>\n",
              "      <td>0</td>\n",
              "      <td>1</td>\n",
              "      <td>False</td>\n",
              "    </tr>\n",
              "    <tr>\n",
              "      <th>2</th>\n",
              "      <td>0.664697</td>\n",
              "      <td>1</td>\n",
              "      <td>1</td>\n",
              "      <td>True</td>\n",
              "    </tr>\n",
              "    <tr>\n",
              "      <th>3</th>\n",
              "      <td>0.752507</td>\n",
              "      <td>1</td>\n",
              "      <td>1</td>\n",
              "      <td>True</td>\n",
              "    </tr>\n",
              "    <tr>\n",
              "      <th>4</th>\n",
              "      <td>0.197283</td>\n",
              "      <td>0</td>\n",
              "      <td>0</td>\n",
              "      <td>True</td>\n",
              "    </tr>\n",
              "    <tr>\n",
              "      <th>...</th>\n",
              "      <td>...</td>\n",
              "      <td>...</td>\n",
              "      <td>...</td>\n",
              "      <td>...</td>\n",
              "    </tr>\n",
              "    <tr>\n",
              "      <th>1120</th>\n",
              "      <td>0.556523</td>\n",
              "      <td>1</td>\n",
              "      <td>0</td>\n",
              "      <td>False</td>\n",
              "    </tr>\n",
              "    <tr>\n",
              "      <th>1121</th>\n",
              "      <td>0.465020</td>\n",
              "      <td>0</td>\n",
              "      <td>1</td>\n",
              "      <td>False</td>\n",
              "    </tr>\n",
              "    <tr>\n",
              "      <th>1122</th>\n",
              "      <td>0.327215</td>\n",
              "      <td>0</td>\n",
              "      <td>1</td>\n",
              "      <td>False</td>\n",
              "    </tr>\n",
              "    <tr>\n",
              "      <th>1123</th>\n",
              "      <td>0.219697</td>\n",
              "      <td>0</td>\n",
              "      <td>0</td>\n",
              "      <td>True</td>\n",
              "    </tr>\n",
              "    <tr>\n",
              "      <th>1124</th>\n",
              "      <td>0.606841</td>\n",
              "      <td>1</td>\n",
              "      <td>1</td>\n",
              "      <td>True</td>\n",
              "    </tr>\n",
              "  </tbody>\n",
              "</table>\n",
              "<p>1125 rows × 4 columns</p>\n",
              "</div>\n",
              "      <button class=\"colab-df-convert\" onclick=\"convertToInteractive('df-fa83b53d-830f-4f44-b3c3-864a0aec1810')\"\n",
              "              title=\"Convert this dataframe to an interactive table.\"\n",
              "              style=\"display:none;\">\n",
              "        \n",
              "  <svg xmlns=\"http://www.w3.org/2000/svg\" height=\"24px\"viewBox=\"0 0 24 24\"\n",
              "       width=\"24px\">\n",
              "    <path d=\"M0 0h24v24H0V0z\" fill=\"none\"/>\n",
              "    <path d=\"M18.56 5.44l.94 2.06.94-2.06 2.06-.94-2.06-.94-.94-2.06-.94 2.06-2.06.94zm-11 1L8.5 8.5l.94-2.06 2.06-.94-2.06-.94L8.5 2.5l-.94 2.06-2.06.94zm10 10l.94 2.06.94-2.06 2.06-.94-2.06-.94-.94-2.06-.94 2.06-2.06.94z\"/><path d=\"M17.41 7.96l-1.37-1.37c-.4-.4-.92-.59-1.43-.59-.52 0-1.04.2-1.43.59L10.3 9.45l-7.72 7.72c-.78.78-.78 2.05 0 2.83L4 21.41c.39.39.9.59 1.41.59.51 0 1.02-.2 1.41-.59l7.78-7.78 2.81-2.81c.8-.78.8-2.07 0-2.86zM5.41 20L4 18.59l7.72-7.72 1.47 1.35L5.41 20z\"/>\n",
              "  </svg>\n",
              "      </button>\n",
              "      \n",
              "  <style>\n",
              "    .colab-df-container {\n",
              "      display:flex;\n",
              "      flex-wrap:wrap;\n",
              "      gap: 12px;\n",
              "    }\n",
              "\n",
              "    .colab-df-convert {\n",
              "      background-color: #E8F0FE;\n",
              "      border: none;\n",
              "      border-radius: 50%;\n",
              "      cursor: pointer;\n",
              "      display: none;\n",
              "      fill: #1967D2;\n",
              "      height: 32px;\n",
              "      padding: 0 0 0 0;\n",
              "      width: 32px;\n",
              "    }\n",
              "\n",
              "    .colab-df-convert:hover {\n",
              "      background-color: #E2EBFA;\n",
              "      box-shadow: 0px 1px 2px rgba(60, 64, 67, 0.3), 0px 1px 3px 1px rgba(60, 64, 67, 0.15);\n",
              "      fill: #174EA6;\n",
              "    }\n",
              "\n",
              "    [theme=dark] .colab-df-convert {\n",
              "      background-color: #3B4455;\n",
              "      fill: #D2E3FC;\n",
              "    }\n",
              "\n",
              "    [theme=dark] .colab-df-convert:hover {\n",
              "      background-color: #434B5C;\n",
              "      box-shadow: 0px 1px 3px 1px rgba(0, 0, 0, 0.15);\n",
              "      filter: drop-shadow(0px 1px 2px rgba(0, 0, 0, 0.3));\n",
              "      fill: #FFFFFF;\n",
              "    }\n",
              "  </style>\n",
              "\n",
              "      <script>\n",
              "        const buttonEl =\n",
              "          document.querySelector('#df-fa83b53d-830f-4f44-b3c3-864a0aec1810 button.colab-df-convert');\n",
              "        buttonEl.style.display =\n",
              "          google.colab.kernel.accessAllowed ? 'block' : 'none';\n",
              "\n",
              "        async function convertToInteractive(key) {\n",
              "          const element = document.querySelector('#df-fa83b53d-830f-4f44-b3c3-864a0aec1810');\n",
              "          const dataTable =\n",
              "            await google.colab.kernel.invokeFunction('convertToInteractive',\n",
              "                                                     [key], {});\n",
              "          if (!dataTable) return;\n",
              "\n",
              "          const docLinkHtml = 'Like what you see? Visit the ' +\n",
              "            '<a target=\"_blank\" href=https://colab.research.google.com/notebooks/data_table.ipynb>data table notebook</a>'\n",
              "            + ' to learn more about interactive tables.';\n",
              "          element.innerHTML = '';\n",
              "          dataTable['output_type'] = 'display_data';\n",
              "          await google.colab.output.renderOutput(dataTable, element);\n",
              "          const docLink = document.createElement('div');\n",
              "          docLink.innerHTML = docLinkHtml;\n",
              "          element.appendChild(docLink);\n",
              "        }\n",
              "      </script>\n",
              "    </div>\n",
              "  </div>\n",
              "  "
            ]
          },
          "metadata": {},
          "execution_count": 613
        }
      ]
    },
    {
      "cell_type": "code",
      "source": [
        "df_pred.correct.mean()"
      ],
      "metadata": {
        "colab": {
          "base_uri": "https://localhost:8080/"
        },
        "id": "eCzByeKLyYVD",
        "outputId": "11515b48-a3ed-461b-9bf3-13cd7e492dc0"
      },
      "execution_count": null,
      "outputs": [
        {
          "output_type": "execute_result",
          "data": {
            "text/plain": [
              "0.7955555555555556"
            ]
          },
          "metadata": {},
          "execution_count": 614
        }
      ]
    },
    {
      "cell_type": "markdown",
      "source": [
        "Without SMOTE: Accuracy is:  80%"
      ],
      "metadata": {
        "id": "KT7Jf0EIyeqj"
      }
    },
    {
      "cell_type": "markdown",
      "source": [
        "# Over-Sampling Analysis\n",
        "\n"
      ],
      "metadata": {
        "id": "7LJ_ix2HDVIO"
      }
    },
    {
      "cell_type": "code",
      "source": [
        "# https://imbalanced-learn.org/stable/over_sampling.html\n",
        "!pip install imbalanced-learn\n",
        "from collections import Counter"
      ],
      "metadata": {
        "colab": {
          "base_uri": "https://localhost:8080/"
        },
        "id": "cvUJEPoAnetB",
        "outputId": "e103cb9a-f321-4b3a-801c-0d951a487fae"
      },
      "execution_count": null,
      "outputs": [
        {
          "output_type": "stream",
          "name": "stdout",
          "text": [
            "Looking in indexes: https://pypi.org/simple, https://us-python.pkg.dev/colab-wheels/public/simple/\n",
            "Requirement already satisfied: imbalanced-learn in /usr/local/lib/python3.7/dist-packages (0.8.1)\n",
            "Requirement already satisfied: scikit-learn>=0.24 in /usr/local/lib/python3.7/dist-packages (from imbalanced-learn) (1.0.2)\n",
            "Requirement already satisfied: numpy>=1.13.3 in /usr/local/lib/python3.7/dist-packages (from imbalanced-learn) (1.21.6)\n",
            "Requirement already satisfied: joblib>=0.11 in /usr/local/lib/python3.7/dist-packages (from imbalanced-learn) (1.1.0)\n",
            "Requirement already satisfied: scipy>=0.19.1 in /usr/local/lib/python3.7/dist-packages (from imbalanced-learn) (1.7.3)\n",
            "Requirement already satisfied: threadpoolctl>=2.0.0 in /usr/local/lib/python3.7/dist-packages (from scikit-learn>=0.24->imbalanced-learn) (3.1.0)\n"
          ]
        }
      ]
    },
    {
      "cell_type": "code",
      "source": [
        "def train_classifier(X, y, X_val, y_val):\n",
        "  model = LogisticRegression(solver='liblinear')\n",
        "  model.fit(X, y)\n",
        "  print(f\"Intercept: {model.intercept_[0]}\")\n",
        "  print(f\"Coefficients: {model.coef_[0].round(3)}\")\n",
        "  print(f\"Score: {model.score(X, y)}\")\n",
        "  print()\n",
        "  y_pred = model.predict_proba(X_val)[:,1]\n",
        "  decision = y_pred > 0.5\n",
        "  print(f\"Accuracy: {(y_val == decision).mean()}\")\n",
        "  return y_pred"
      ],
      "metadata": {
        "id": "qJGH2lYZqoXh"
      },
      "execution_count": null,
      "outputs": []
    },
    {
      "cell_type": "markdown",
      "source": [
        "## Naive random over-sampling"
      ],
      "metadata": {
        "id": "GVsscmBam_X_"
      }
    },
    {
      "cell_type": "code",
      "source": [
        "from imblearn.over_sampling import RandomOverSampler"
      ],
      "metadata": {
        "id": "R15hCp_MnDnI"
      },
      "execution_count": null,
      "outputs": []
    },
    {
      "cell_type": "code",
      "source": [
        "ros = RandomOverSampler(random_state=1)\n",
        "X_resampled, y_resampled =ros.fit_resample(X_train, y_train)"
      ],
      "metadata": {
        "id": "urVxqomZnG7B"
      },
      "execution_count": null,
      "outputs": []
    },
    {
      "cell_type": "code",
      "source": [
        "Counter(y_resampled)"
      ],
      "metadata": {
        "colab": {
          "base_uri": "https://localhost:8080/"
        },
        "id": "b8dGKCpmnc2c",
        "outputId": "18add41b-5052-43df-9679-878980afc52e"
      },
      "execution_count": null,
      "outputs": [
        {
          "output_type": "execute_result",
          "data": {
            "text/plain": [
              "Counter({0: 3299, 1: 3299})"
            ]
          },
          "metadata": {},
          "execution_count": 619
        }
      ]
    },
    {
      "cell_type": "markdown",
      "source": [
        "### Train Classifier "
      ],
      "metadata": {
        "id": "xP7WsiZHnvdS"
      }
    },
    {
      "cell_type": "code",
      "source": [
        "y_ros_pred = train_classifier(X_resampled,y_resampled, X_val, y_val)"
      ],
      "metadata": {
        "colab": {
          "base_uri": "https://localhost:8080/"
        },
        "id": "Dekcb16Kn0Xh",
        "outputId": "91b7eb9f-f85b-4950-a5c0-e50ea4682980"
      },
      "execution_count": null,
      "outputs": [
        {
          "output_type": "stream",
          "name": "stdout",
          "text": [
            "Intercept: -0.9416409526342011\n",
            "Coefficients: [ 0.581 -0.332 -1.191  0.026 -0.354 -0.377  0.184 -0.394 -0.032]\n",
            "Score: 0.7497726583813277\n",
            "\n",
            "Accuracy: 0.7226666666666667\n"
          ]
        }
      ]
    },
    {
      "cell_type": "markdown",
      "source": [
        "## SMOTE Analysis"
      ],
      "metadata": {
        "id": "Xu-EUIRskrGq"
      }
    },
    {
      "cell_type": "code",
      "source": [
        "from imblearn.over_sampling import SMOTE, ADASYN, SMOTENC"
      ],
      "metadata": {
        "id": "cYeRmi6nkrG1"
      },
      "execution_count": null,
      "outputs": []
    },
    {
      "cell_type": "code",
      "source": [
        "X_smote, y_smote = SMOTE().fit_resample(X_train, y_train)"
      ],
      "metadata": {
        "id": "HUufqkFrkrG1"
      },
      "execution_count": null,
      "outputs": []
    },
    {
      "cell_type": "code",
      "source": [
        "Counter(y_smote)"
      ],
      "metadata": {
        "colab": {
          "base_uri": "https://localhost:8080/"
        },
        "outputId": "f6cf8826-b9ca-4099-bdc1-345f6ce1e1fd",
        "id": "bjgEBBS4krG2"
      },
      "execution_count": null,
      "outputs": [
        {
          "output_type": "execute_result",
          "data": {
            "text/plain": [
              "Counter({0: 3299, 1: 3299})"
            ]
          },
          "metadata": {},
          "execution_count": 623
        }
      ]
    },
    {
      "cell_type": "code",
      "source": [
        "# constructed feature names and values are returned rather than the original ones\n",
        "# ori = dv.inverse_transform(X)"
      ],
      "metadata": {
        "id": "oYlcMQjKkrG2"
      },
      "execution_count": null,
      "outputs": []
    },
    {
      "cell_type": "code",
      "source": [
        "y_smote_pred  = train_classifier(X_smote,y_smote, X_val, y_val)"
      ],
      "metadata": {
        "colab": {
          "base_uri": "https://localhost:8080/"
        },
        "id": "qZ9l3XhtlAk1",
        "outputId": "a773ae77-23f4-4aba-db5f-96c1a05ffc1d"
      },
      "execution_count": null,
      "outputs": [
        {
          "output_type": "stream",
          "name": "stdout",
          "text": [
            "Intercept: -0.9664283226683286\n",
            "Coefficients: [ 0.586 -0.379 -1.173  0.026 -0.396 -0.425  0.281 -0.427 -0.032]\n",
            "Score: 0.7552288572294634\n",
            "\n",
            "Accuracy: 0.7253333333333334\n"
          ]
        }
      ]
    },
    {
      "cell_type": "markdown",
      "source": [
        "## ADASYN Analysis"
      ],
      "metadata": {
        "id": "o4MmJARwrlum"
      }
    },
    {
      "cell_type": "code",
      "source": [
        "X_adasyn, y_adasyn = ADASYN().fit_resample(X_train, y_train)"
      ],
      "metadata": {
        "id": "VuCKbGF7mNfX"
      },
      "execution_count": null,
      "outputs": []
    },
    {
      "cell_type": "code",
      "source": [
        "Counter(y_adasyn)"
      ],
      "metadata": {
        "colab": {
          "base_uri": "https://localhost:8080/"
        },
        "id": "u4rqL-3xr1u4",
        "outputId": "e1ed28c5-1c17-4b74-9695-cadf162e17dd"
      },
      "execution_count": null,
      "outputs": [
        {
          "output_type": "execute_result",
          "data": {
            "text/plain": [
              "Counter({0: 3299, 1: 3232})"
            ]
          },
          "metadata": {},
          "execution_count": 627
        }
      ]
    },
    {
      "cell_type": "code",
      "source": [
        "y_adasyn_pred  = train_classifier(X_adasyn,y_adasyn, X_val, y_val)"
      ],
      "metadata": {
        "colab": {
          "base_uri": "https://localhost:8080/"
        },
        "id": "WQwZKlvIr8SD",
        "outputId": "fc019f04-0527-42fd-bcf3-bcb2a40bdeb3"
      },
      "execution_count": null,
      "outputs": [
        {
          "output_type": "stream",
          "name": "stdout",
          "text": [
            "Intercept: -0.8937304477479369\n",
            "Coefficients: [ 0.646 -0.349 -1.191  0.021 -0.398 -0.336  0.22  -0.379 -0.021]\n",
            "Score: 0.7171949165518298\n",
            "\n",
            "Accuracy: 0.7128888888888889\n"
          ]
        }
      ]
    },
    {
      "cell_type": "markdown",
      "source": [
        "With OverSampling: Accuracy is:  73%"
      ],
      "metadata": {
        "id": "RKtMRXJ8wkuB"
      }
    },
    {
      "cell_type": "markdown",
      "source": [
        "# Using the model"
      ],
      "metadata": {
        "id": "qFkVxUsgAfEZ"
      }
    },
    {
      "cell_type": "code",
      "source": [
        "dict_full_train = df_full_train[categorical + numerical].to_dict(orient='records')"
      ],
      "metadata": {
        "id": "EsIF4r4HAh7y"
      },
      "execution_count": null,
      "outputs": []
    },
    {
      "cell_type": "code",
      "source": [
        "dv = DictVectorizer(sparse=False)\n",
        "X_full_train = dv.fit_transform(dict_full_train)"
      ],
      "metadata": {
        "id": "Kxf2WkUWBINr"
      },
      "execution_count": null,
      "outputs": []
    },
    {
      "cell_type": "code",
      "source": [
        "y_full_train = df_full_train.churn.values"
      ],
      "metadata": {
        "id": "U-IaJ-G9B7_P"
      },
      "execution_count": null,
      "outputs": []
    },
    {
      "cell_type": "code",
      "source": [
        "model = LogisticRegression(solver='liblinear')\n",
        "model.fit(X_full_train, y_full_train)"
      ],
      "metadata": {
        "colab": {
          "base_uri": "https://localhost:8080/"
        },
        "id": "8xv8bkKFBuqR",
        "outputId": "937b3d9f-6bbc-45db-b99e-7770dd377210"
      },
      "execution_count": null,
      "outputs": [
        {
          "output_type": "execute_result",
          "data": {
            "text/plain": [
              "LogisticRegression(solver='liblinear')"
            ]
          },
          "metadata": {},
          "execution_count": 632
        }
      ]
    },
    {
      "cell_type": "code",
      "source": [
        "model.score(X_full_train, y_full_train)"
      ],
      "metadata": {
        "colab": {
          "base_uri": "https://localhost:8080/"
        },
        "id": "26-oYYoxCkc8",
        "outputId": "95674811-ddef-46d9-e1b1-f0c9c9bc8c05"
      },
      "execution_count": null,
      "outputs": [
        {
          "output_type": "execute_result",
          "data": {
            "text/plain": [
              "0.7916444444444445"
            ]
          },
          "metadata": {},
          "execution_count": 633
        }
      ]
    },
    {
      "cell_type": "code",
      "source": [
        "dict_test = df_test[categorical + numerical].to_dict(orient='records')"
      ],
      "metadata": {
        "id": "D2U7p6txCCm6"
      },
      "execution_count": null,
      "outputs": []
    },
    {
      "cell_type": "code",
      "source": [
        "X_test = dv.transform(dict_test)"
      ],
      "metadata": {
        "id": "wAnv059kCNM2"
      },
      "execution_count": null,
      "outputs": []
    },
    {
      "cell_type": "code",
      "source": [
        "y_pred_test = model.predict_proba(X_test)[:, 1]"
      ],
      "metadata": {
        "id": "Lk7ye1hyCXIe"
      },
      "execution_count": null,
      "outputs": []
    },
    {
      "cell_type": "code",
      "source": [
        "predicitions = (y_pred_test >= 0.5)"
      ],
      "metadata": {
        "id": "tvnfzqsqChSQ"
      },
      "execution_count": null,
      "outputs": []
    },
    {
      "cell_type": "code",
      "source": [
        "(predicitions == y_test).mean()"
      ],
      "metadata": {
        "colab": {
          "base_uri": "https://localhost:8080/"
        },
        "id": "uc7eCND4C3L9",
        "outputId": "810ac5f3-d874-4268-ffec-f4427120e010"
      },
      "execution_count": null,
      "outputs": [
        {
          "output_type": "execute_result",
          "data": {
            "text/plain": [
              "0.7803837953091685"
            ]
          },
          "metadata": {},
          "execution_count": 638
        }
      ]
    },
    {
      "cell_type": "markdown",
      "source": [
        "# Evaluation Metrics "
      ],
      "metadata": {
        "id": "KAUbfAneZaJP"
      }
    },
    {
      "cell_type": "markdown",
      "source": [
        "##Accuracy"
      ],
      "metadata": {
        "id": "7viOxrZabxsF"
      }
    },
    {
      "cell_type": "code",
      "source": [
        "from sklearn.metrics import accuracy_score\n",
        "def assess_accuracy(y_pred, y_true):\n",
        "  \"\"\"\n",
        "  Assess which threshold provides the greatest accuracy\n",
        "  \"\"\"\n",
        "  thresholds = np.linspace(0, 1, 21)\n",
        "\n",
        "  scores = []\n",
        "\n",
        "  for i in thresholds:\n",
        "    score = accuracy_score(y_true, y_pred > i)\n",
        "    print(f\"{i:.2f}: {score:.3f}\")\n",
        "    scores.append(score)\n",
        "\n",
        "  return plt.plot(thresholds, scores)"
      ],
      "metadata": {
        "id": "3A-2XOcNZfOl"
      },
      "execution_count": null,
      "outputs": []
    },
    {
      "cell_type": "code",
      "source": [
        "oridnary = assess_accuracy(y_pred, y_val)\n",
        "oridnary"
      ],
      "metadata": {
        "colab": {
          "base_uri": "https://localhost:8080/",
          "height": 647
        },
        "id": "mDGMdiH7wz2f",
        "outputId": "72870764-ca08-48a7-dbe0-131e86cb35ec"
      },
      "execution_count": null,
      "outputs": [
        {
          "output_type": "stream",
          "name": "stdout",
          "text": [
            "0.00: 0.268\n",
            "0.05: 0.455\n",
            "0.10: 0.559\n",
            "0.15: 0.620\n",
            "0.20: 0.669\n",
            "0.25: 0.724\n",
            "0.30: 0.737\n",
            "0.35: 0.753\n",
            "0.40: 0.770\n",
            "0.45: 0.780\n",
            "0.50: 0.796\n",
            "0.55: 0.799\n",
            "0.60: 0.788\n",
            "0.65: 0.778\n",
            "0.70: 0.757\n",
            "0.75: 0.744\n",
            "0.80: 0.733\n",
            "0.85: 0.732\n",
            "0.90: 0.732\n",
            "0.95: 0.732\n",
            "1.00: 0.732\n"
          ]
        },
        {
          "output_type": "execute_result",
          "data": {
            "text/plain": [
              "[<matplotlib.lines.Line2D at 0x7f355cda9ed0>]"
            ]
          },
          "metadata": {},
          "execution_count": 640
        },
        {
          "output_type": "display_data",
          "data": {
            "text/plain": [
              "<Figure size 432x288 with 1 Axes>"
            ],
            "image/png": "[encoded data removed]"
          },
          "metadata": {
            "needs_background": "light"
          }
        }
      ]
    },
    {
      "cell_type": "code",
      "source": [
        "ros_acc = assess_accuracy(y_ros_pred, y_val)"
      ],
      "metadata": {
        "colab": {
          "base_uri": "https://localhost:8080/",
          "height": 629
        },
        "id": "qXSHfV_wxYcF",
        "outputId": "cf75814b-3790-48d5-cb5c-cfa7259d92b2"
      },
      "execution_count": null,
      "outputs": [
        {
          "output_type": "stream",
          "name": "stdout",
          "text": [
            "0.00: 0.268\n",
            "0.05: 0.335\n",
            "0.10: 0.421\n",
            "0.15: 0.487\n",
            "0.20: 0.531\n",
            "0.25: 0.570\n",
            "0.30: 0.604\n",
            "0.35: 0.631\n",
            "0.40: 0.666\n",
            "0.45: 0.706\n",
            "0.50: 0.723\n",
            "0.55: 0.734\n",
            "0.60: 0.756\n",
            "0.65: 0.774\n",
            "0.70: 0.782\n",
            "0.75: 0.797\n",
            "0.80: 0.788\n",
            "0.85: 0.767\n",
            "0.90: 0.737\n",
            "0.95: 0.732\n",
            "1.00: 0.732\n"
          ]
        },
        {
          "output_type": "display_data",
          "data": {
            "text/plain": [
              "<Figure size 432x288 with 1 Axes>"
            ],
            "image/png": "[encoded data removed]"
          },
          "metadata": {
            "needs_background": "light"
          }
        }
      ]
    },
    {
      "cell_type": "code",
      "source": [
        "smote_acc = assess_accuracy(y_smote_pred, y_val)"
      ],
      "metadata": {
        "colab": {
          "base_uri": "https://localhost:8080/",
          "height": 629
        },
        "id": "CHRBuK8cxkYL",
        "outputId": "f6ff84ab-822c-4b2b-b723-644259c06964"
      },
      "execution_count": null,
      "outputs": [
        {
          "output_type": "stream",
          "name": "stdout",
          "text": [
            "0.00: 0.268\n",
            "0.05: 0.337\n",
            "0.10: 0.425\n",
            "0.15: 0.496\n",
            "0.20: 0.539\n",
            "0.25: 0.582\n",
            "0.30: 0.609\n",
            "0.35: 0.640\n",
            "0.40: 0.670\n",
            "0.45: 0.711\n",
            "0.50: 0.725\n",
            "0.55: 0.736\n",
            "0.60: 0.760\n",
            "0.65: 0.776\n",
            "0.70: 0.783\n",
            "0.75: 0.789\n",
            "0.80: 0.791\n",
            "0.85: 0.771\n",
            "0.90: 0.741\n",
            "0.95: 0.732\n",
            "1.00: 0.732\n"
          ]
        },
        {
          "output_type": "display_data",
          "data": {
            "text/plain": [
              "<Figure size 432x288 with 1 Axes>"
            ],
            "image/png": "[encoded data removed]"
          },
          "metadata": {
            "needs_background": "light"
          }
        }
      ]
    },
    {
      "cell_type": "code",
      "source": [
        "adasyn_acc = assess_accuracy(y_adasyn_pred, y_val)"
      ],
      "metadata": {
        "colab": {
          "base_uri": "https://localhost:8080/",
          "height": 629
        },
        "id": "9eLd1h8kxk0B",
        "outputId": "76fa6672-7d89-4471-a279-4a93e7d7a8c6"
      },
      "execution_count": null,
      "outputs": [
        {
          "output_type": "stream",
          "name": "stdout",
          "text": [
            "0.00: 0.268\n",
            "0.05: 0.313\n",
            "0.10: 0.369\n",
            "0.15: 0.443\n",
            "0.20: 0.504\n",
            "0.25: 0.544\n",
            "0.30: 0.577\n",
            "0.35: 0.606\n",
            "0.40: 0.643\n",
            "0.45: 0.684\n",
            "0.50: 0.713\n",
            "0.55: 0.732\n",
            "0.60: 0.756\n",
            "0.65: 0.766\n",
            "0.70: 0.788\n",
            "0.75: 0.790\n",
            "0.80: 0.785\n",
            "0.85: 0.754\n",
            "0.90: 0.732\n",
            "0.95: 0.732\n",
            "1.00: 0.732\n"
          ]
        },
        {
          "output_type": "display_data",
          "data": {
            "text/plain": [
              "<Figure size 432x288 with 1 Axes>"
            ],
            "image/png": "[encoded data removed]"
          },
          "metadata": {
            "needs_background": "light"
          }
        }
      ]
    },
    {
      "cell_type": "markdown",
      "source": [
        "0.5 is the best threshold for the data with no oversampling \n",
        "however for those with oversampling the best threshold is around 0.7 - 0.75\n",
        "Giving us a difference between the two analysis \n",
        "\n",
        "The difference between picking everyone as not churning is: 0.8 - 0.725 a difference of 7% which is not very good "
      ],
      "metadata": {
        "id": "559UWDiN0qFm"
      }
    },
    {
      "cell_type": "markdown",
      "source": [
        "## Confusion Matrix "
      ],
      "metadata": {
        "id": "wW21-7OE1Fw9"
      }
    },
    {
      "cell_type": "code",
      "source": [
        "from sklearn.metrics import confusion_matrix"
      ],
      "metadata": {
        "id": "-TZiMCBP1I3M"
      },
      "execution_count": null,
      "outputs": []
    },
    {
      "cell_type": "markdown",
      "source": [
        "![Screenshot 2022-07-01 at 20.35.19.png](data:image/png;base64,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)"
      ],
      "metadata": {
        "id": "yVsFyqI2C-Td"
      }
    },
    {
      "cell_type": "code",
      "source": [
        "confusion_matrix_ord = confusion_matrix(y_val, y_pred > 0.5)\n",
        "print(\"No Over Sampling\")\n",
        "print(confusion_matrix_ord)\n",
        "print()\n",
        "\n",
        "confusion_matrix_naive = confusion_matrix(y_val, y_ros_pred > 0.75)\n",
        "print(\"Random Over Sampling\")\n",
        "print(confusion_matrix_naive)\n",
        "print()\n",
        "\n",
        "confusion_matrix_smote = confusion_matrix(y_val, y_smote_pred > 0.75)\n",
        "print(\"Smote Over Sampling\")\n",
        "print(confusion_matrix_smote)\n",
        "print()\n",
        "\n",
        "confusion_matrix_adasyn = confusion_matrix(y_val, y_adasyn_pred > 0.75)\n",
        "print(\"Adasyn Over Sampling\")\n",
        "print(confusion_matrix_adasyn)\n",
        "print()"
      ],
      "metadata": {
        "colab": {
          "base_uri": "https://localhost:8080/"
        },
        "id": "LEDpE8mg_Vyq",
        "outputId": "11ae33b6-a1e5-4401-fff4-ba89a2cb31e2"
      },
      "execution_count": null,
      "outputs": [
        {
          "output_type": "stream",
          "name": "stdout",
          "text": [
            "No Over Sampling\n",
            "[[733  90]\n",
            " [140 162]]\n",
            "\n",
            "Random Over Sampling\n",
            "[[744  79]\n",
            " [149 153]]\n",
            "\n",
            "Smote Over Sampling\n",
            "[[739  84]\n",
            " [153 149]]\n",
            "\n",
            "Adasyn Over Sampling\n",
            "[[746  77]\n",
            " [159 143]]\n",
            "\n"
          ]
        }
      ]
    },
    {
      "cell_type": "markdown",
      "source": [
        "From the confusion matrix, we see the oversampling methods perform slighly well compare to no sampling method. Suprisingly the naive over sampling method performs the best. This is based on the adjusted threshold of 0.75 which we used for the sampling methods based on the previous exercise"
      ],
      "metadata": {
        "id": "QzfgduJuwziw"
      }
    },
    {
      "cell_type": "markdown",
      "source": [
        "##  Precission and Recall"
      ],
      "metadata": {
        "id": "S3ZYx_x8tVbA"
      }
    },
    {
      "cell_type": "code",
      "source": [
        "from sklearn.metrics import classification_report"
      ],
      "metadata": {
        "id": "-0CVkb2dDqB_"
      },
      "execution_count": null,
      "outputs": []
    },
    {
      "cell_type": "code",
      "source": [
        "clf_rep_ord = classification_report(y_val, y_pred > 0.5)\n",
        "print(\"No Over Sampling\")\n",
        "print(clf_rep_ord )\n",
        "print()\n",
        "\n",
        "clf_rep_naive = classification_report(y_val, y_ros_pred > 0.75)\n",
        "print(\"Random Over Sampling\")\n",
        "print(clf_rep_naive)\n",
        "print()\n",
        "\n",
        "clf_rep_smote = classification_report(y_val, y_smote_pred > 0.75)\n",
        "print(\"Smote Over Sampling\")\n",
        "print(clf_rep_smote )\n",
        "print()\n",
        "\n",
        "clf_rep_adasyn = classification_report(y_val, y_adasyn_pred > 0.75)\n",
        "print(\"Adasyn Over Sampling\")\n",
        "print(clf_rep_adasyn )\n",
        "print()"
      ],
      "metadata": {
        "colab": {
          "base_uri": "https://localhost:8080/"
        },
        "id": "EfyzRogQv-nD",
        "outputId": "639e2646-f4bb-4a61-bd9c-5cd8ec05716b"
      },
      "execution_count": null,
      "outputs": [
        {
          "output_type": "stream",
          "name": "stdout",
          "text": [
            "No Over Sampling\n",
            "              precision    recall  f1-score   support\n",
            "\n",
            "           0       0.84      0.89      0.86       823\n",
            "           1       0.64      0.54      0.58       302\n",
            "\n",
            "    accuracy                           0.80      1125\n",
            "   macro avg       0.74      0.71      0.72      1125\n",
            "weighted avg       0.79      0.80      0.79      1125\n",
            "\n",
            "\n",
            "Random Over Sampling\n",
            "              precision    recall  f1-score   support\n",
            "\n",
            "           0       0.83      0.90      0.87       823\n",
            "           1       0.66      0.51      0.57       302\n",
            "\n",
            "    accuracy                           0.80      1125\n",
            "   macro avg       0.75      0.71      0.72      1125\n",
            "weighted avg       0.79      0.80      0.79      1125\n",
            "\n",
            "\n",
            "Smote Over Sampling\n",
            "              precision    recall  f1-score   support\n",
            "\n",
            "           0       0.83      0.90      0.86       823\n",
            "           1       0.64      0.49      0.56       302\n",
            "\n",
            "    accuracy                           0.79      1125\n",
            "   macro avg       0.73      0.70      0.71      1125\n",
            "weighted avg       0.78      0.79      0.78      1125\n",
            "\n",
            "\n",
            "Adasyn Over Sampling\n",
            "              precision    recall  f1-score   support\n",
            "\n",
            "           0       0.82      0.91      0.86       823\n",
            "           1       0.65      0.47      0.55       302\n",
            "\n",
            "    accuracy                           0.79      1125\n",
            "   macro avg       0.74      0.69      0.71      1125\n",
            "weighted avg       0.78      0.79      0.78      1125\n",
            "\n",
            "\n"
          ]
        }
      ]
    },
    {
      "cell_type": "markdown",
      "source": [
        "Precision & Recall is quite similar across the board \n",
        "\n",
        "for label 1, we see the precision and recall is less than accuracy. \n",
        "\n",
        "So, it is not that effective."
      ],
      "metadata": {
        "id": "MUgDzqolw37V"
      }
    },
    {
      "cell_type": "markdown",
      "source": [
        "## ROC Curves \n"
      ],
      "metadata": {
        "id": "x0zbGr8kxIJR"
      }
    },
    {
      "cell_type": "code",
      "source": [
        "from sklearn.metrics import roc_curve, roc_auc_score, auc"
      ],
      "metadata": {
        "id": "Seez2NXyLjX9"
      },
      "execution_count": null,
      "outputs": []
    },
    {
      "cell_type": "code",
      "source": [
        "fpr, tpr, thresholds = roc_curve(y_val, y_pred > 0.5)\n",
        "ran_fpr, ran_tpr, ran_thresholds = roc_curve(y_val, y_ros_pred > 0.75)\n",
        "smote_fpr, smote_tpr, smote_thresholds = roc_curve(y_val, y_smote_pred > 0.75)\n",
        "ada_fpr, ada_tpr, ada_thresholds = roc_curve(y_val, y_adasyn_pred > 0.75)\n",
        "\n",
        "plt.figure(figsize=(10,10))\n",
        "plt.plot(fpr, tpr, label='Normal')\n",
        "plt.plot(ran_fpr, ran_tpr, label='Naive')\n",
        "plt.plot(smote_fpr, smote_tpr, label='SMOTE')\n",
        "plt.plot(ada_fpr, ada_tpr, label='ADASYN')\n",
        "plt.plot([0, 1], [0, 1], label='Random')\n",
        "\n",
        "plt.xlabel('FPR')\n",
        "plt.ylabel('TPR')\n",
        "\n",
        "plt.legend()"
      ],
      "metadata": {
        "colab": {
          "base_uri": "https://localhost:8080/",
          "height": 623
        },
        "id": "Dtq7SwOOLsGd",
        "outputId": "bddb96b5-4d47-469b-b6b2-ed11780cdb21"
      },
      "execution_count": null,
      "outputs": [
        {
          "output_type": "execute_result",
          "data": {
            "text/plain": [
              "<matplotlib.legend.Legend at 0x7f3553342b90>"
            ]
          },
          "metadata": {},
          "execution_count": 649
        },
        {
          "output_type": "display_data",
          "data": {
            "text/plain": [
              "<Figure size 720x720 with 1 Axes>"
            ],
            "image/png": "[encoded data removed]"
          },
          "metadata": {
            "needs_background": "light"
          }
        }
      ]
    },
    {
      "cell_type": "markdown",
      "source": [
        "## AUC Curve\n",
        "\n"
      ],
      "metadata": {
        "id": "CwA5TEmONuQd"
      }
    },
    {
      "cell_type": "code",
      "source": [
        "print(f\"Normal AUC: {auc(fpr, tpr)}\")\n",
        "print(f\"Naive AUC: {auc(ran_fpr, ran_tpr)}\")\n",
        "print(f\"SMOTE AUC: {auc(smote_fpr, smote_tpr)}\")\n",
        "print(f\"ADAYSN AUC: {auc(ada_fpr, ada_tpr)}\")"
      ],
      "metadata": {
        "colab": {
          "base_uri": "https://localhost:8080/"
        },
        "id": "zmayV4tnNwWM",
        "outputId": "5682935e-6303-4872-c5f8-a8e7427a640e"
      },
      "execution_count": null,
      "outputs": [
        {
          "output_type": "stream",
          "name": "stdout",
          "text": [
            "Normal AUC: 0.7135339132394004\n",
            "Naive AUC: 0.7053161185454604\n",
            "SMOTE AUC: 0.6956559349174801\n",
            "ADAYSN AUC: 0.6899748939834075\n"
          ]
        }
      ]
    },
    {
      "cell_type": "markdown",
      "source": [
        "## ROC & AUC together "
      ],
      "metadata": {
        "id": "XWh2045VaZab"
      }
    },
    {
      "cell_type": "code",
      "source": [
        "print(f\"Normal AUC: {roc_auc_score(y_val, y_pred > 0.5)}\")\n",
        "print(f\"Naive AUC: {roc_auc_score(y_val, y_ros_pred > 0.5)}\")\n",
        "print(f\"SMOTE AUC: {roc_auc_score(y_val, y_smote_pred > 0.5)}\")\n",
        "print(f\"ADAYSN AUC: {roc_auc_score(y_val, y_adasyn_pred > 0.5)}\")"
      ],
      "metadata": {
        "colab": {
          "base_uri": "https://localhost:8080/"
        },
        "id": "rgpbVeSoge2I",
        "outputId": "9d30b2df-d48a-4db5-8224-3ad40be9f409"
      },
      "execution_count": null,
      "outputs": [
        {
          "output_type": "stream",
          "name": "stdout",
          "text": [
            "Normal AUC: 0.7135339132394004\n",
            "Naive AUC: 0.7549005013156518\n",
            "SMOTE AUC: 0.75357881438446\n",
            "ADAYSN AUC: 0.7545062081063465\n"
          ]
        }
      ]
    },
    {
      "cell_type": "markdown",
      "source": [
        "## Cross Validation"
      ],
      "metadata": {
        "id": "0kwCmiLccs_X"
      }
    },
    {
      "cell_type": "code",
      "source": [
        "from sklearn.model_selection import KFold"
      ],
      "metadata": {
        "id": "wGVP8Jktk-Ak"
      },
      "execution_count": null,
      "outputs": []
    },
    {
      "cell_type": "code",
      "source": [
        "def train(df, y_train, os=\"\"):\n",
        "  \"\"\"\n",
        "  trains the dataframe by first converting it into a dict\n",
        "  then it fits and transform into a DictVectorizer and loads \n",
        "  into the model to be fitted/trained\n",
        "  \"\"\"\n",
        "  dicts = df[categorical + numerical].to_dict(orient='records')\n",
        "\n",
        "  dv = DictVectorizer(sparse=False)\n",
        "  X_train = dv.fit_transform(dicts)\n",
        "\n",
        "  model = LogisticRegression(solver='liblinear')\n",
        "\n",
        "  if os == \"SMOTE\":\n",
        "    X_smote, y_smote = SMOTE().fit_resample(X_train, y_train)\n",
        "    model.fit(X_smote, y_smote)\n",
        "  elif os == \"ADAYSN\":\n",
        "    X_ada, y_ada = ADASYN().fit_resample(X_train, y_train)\n",
        "    model.fit(X_ada, y_ada)\n",
        "  elif os == \"Naive\":\n",
        "    X_naive, y_naive = ros.fit_resample(X_train, y_train)\n",
        "    model.fit(X_naive, y_naive)\n",
        "  else:\n",
        "    model = LogisticRegression(solver='liblinear')\n",
        "    model.fit(X_train, y_train)\n",
        "\n",
        "  return dv, model"
      ],
      "metadata": {
        "id": "o5ifYTT5cvcx"
      },
      "execution_count": null,
      "outputs": []
    },
    {
      "cell_type": "code",
      "source": [
        "def predict(df, dv, model):\n",
        "  \"\"\"\n",
        "  Predict the target labels. \n",
        "  Collects a dataframe, converts it to a dict\n",
        "  transforms it on an estbalished DictVectorizer \n",
        "  and uses the model to predict the target.\n",
        "  \"\"\"\n",
        "\n",
        "  dicts = df[categorical + numerical].to_dict(orient='records')\n",
        "\n",
        "  X = dv.transform(dicts)\n",
        "\n",
        "  y_pred = model.predict_proba(X)[:, 1]\n",
        "\n",
        "  return y_pred"
      ],
      "metadata": {
        "id": "ZpVlQxiAjhpJ"
      },
      "execution_count": null,
      "outputs": []
    },
    {
      "cell_type": "markdown",
      "source": [
        "### Normal "
      ],
      "metadata": {
        "id": "MyT3fJDWpyCU"
      }
    },
    {
      "cell_type": "code",
      "source": [
        "dv, model = train(df_train, y_train)"
      ],
      "metadata": {
        "id": "ORs0nLxgjX2G"
      },
      "execution_count": null,
      "outputs": []
    },
    {
      "cell_type": "code",
      "source": [
        "y_pred = predict(df_val, dv, model)"
      ],
      "metadata": {
        "id": "dWUmImX1k3tB"
      },
      "execution_count": null,
      "outputs": []
    },
    {
      "cell_type": "code",
      "source": [
        "kfold = KFold(n_splits=5, shuffle=True, random_state=42)"
      ],
      "metadata": {
        "id": "_sJ8U4LLlDiK"
      },
      "execution_count": null,
      "outputs": []
    },
    {
      "cell_type": "code",
      "source": [
        "scores = []\n",
        "\n",
        "for train_idx, val_idx in kfold.split(df_full_train):\n",
        "\n",
        "  df_train = df_full_train.iloc[train_idx]\n",
        "  df_val = df_full_train.iloc[val_idx]  \n",
        "\n",
        "  y_train = df_train.churn.values \n",
        "  y_val = df_val.churn.values\n",
        "\n",
        "  dv, model = train(df_train, y_train)\n",
        "  y_pred = predict(df_val, dv, model)\n",
        "\n",
        "  auc = roc_auc_score(y_val, y_pred)\n",
        "  scores.append(auc)"
      ],
      "metadata": {
        "id": "RIWYTjfdlTcx"
      },
      "execution_count": null,
      "outputs": []
    },
    {
      "cell_type": "code",
      "source": [
        "scores"
      ],
      "metadata": {
        "colab": {
          "base_uri": "https://localhost:8080/"
        },
        "id": "928tK6Mkl4H4",
        "outputId": "60c6f23c-c7a9-4443-fd19-1ce06a0de9bf"
      },
      "execution_count": null,
      "outputs": [
        {
          "output_type": "execute_result",
          "data": {
            "text/plain": [
              "[0.8163598598050412,\n",
              " 0.8101662317348592,\n",
              " 0.8512223828205658,\n",
              " 0.8406566116455025,\n",
              " 0.835006397206151]"
            ]
          },
          "metadata": {},
          "execution_count": 659
        }
      ]
    },
    {
      "cell_type": "code",
      "source": [
        "print(f\"{np.mean(scores).round(3)} +- {np.std(scores).round(3)}\")"
      ],
      "metadata": {
        "colab": {
          "base_uri": "https://localhost:8080/"
        },
        "id": "mxQbrEggnlYt",
        "outputId": "b73e5ebb-c787-4c76-aa51-56086466c2a0"
      },
      "execution_count": null,
      "outputs": [
        {
          "output_type": "stream",
          "name": "stdout",
          "text": [
            "0.831 +- 0.015\n"
          ]
        }
      ]
    },
    {
      "cell_type": "markdown",
      "source": [
        "### Naive"
      ],
      "metadata": {
        "id": "klY1ie7Qp1Jh"
      }
    },
    {
      "cell_type": "code",
      "source": [
        "scores_ros = []\n",
        "\n",
        "for train_idx, val_idx in kfold.split(df_full_train):\n",
        "\n",
        "  df_train = df_full_train.iloc[train_idx]\n",
        "  df_val = df_full_train.iloc[val_idx]  \n",
        "\n",
        "  y_train = df_train.churn.values \n",
        "  y_val = df_val.churn.values\n",
        "\n",
        "  dv, model = train(df_train, y_train, os='Naive')\n",
        "  y_pred = predict(df_val, dv, model)\n",
        "\n",
        "  auc = roc_auc_score(y_val, y_pred)\n",
        "  scores_ros.append(auc)"
      ],
      "metadata": {
        "id": "LUev47gCA9i2"
      },
      "execution_count": null,
      "outputs": []
    },
    {
      "cell_type": "code",
      "source": [
        "scores_ros"
      ],
      "metadata": {
        "colab": {
          "base_uri": "https://localhost:8080/"
        },
        "outputId": "01b4e643-601b-4718-9b6f-2877f80896c7",
        "id": "h7ScZE5Tp-gP"
      },
      "execution_count": null,
      "outputs": [
        {
          "output_type": "execute_result",
          "data": {
            "text/plain": [
              "[0.8161564519409804,\n",
              " 0.8101502709345847,\n",
              " 0.8513916993599008,\n",
              " 0.8398412277942418,\n",
              " 0.836177206633782]"
            ]
          },
          "metadata": {},
          "execution_count": 662
        }
      ]
    },
    {
      "cell_type": "code",
      "source": [
        "print(f\"{np.mean(scores_ros).round(3)} +- {np.std(scores_ros).round(3)}\")"
      ],
      "metadata": {
        "colab": {
          "base_uri": "https://localhost:8080/"
        },
        "outputId": "3c95c48a-c038-4547-c258-9f93d4e14a51",
        "id": "pfpzXqiup-gP"
      },
      "execution_count": null,
      "outputs": [
        {
          "output_type": "stream",
          "name": "stdout",
          "text": [
            "0.831 +- 0.015\n"
          ]
        }
      ]
    },
    {
      "cell_type": "markdown",
      "source": [
        "### SMOTE"
      ],
      "metadata": {
        "id": "JtGNzL75p3Hl"
      }
    },
    {
      "cell_type": "code",
      "source": [
        "scores_smote = []\n",
        "\n",
        "for train_idx, val_idx in kfold.split(df_full_train):\n",
        "\n",
        "  df_train = df_full_train.iloc[train_idx]\n",
        "  df_val = df_full_train.iloc[val_idx]  \n",
        "\n",
        "  y_train = df_train.churn.values \n",
        "  y_val = df_val.churn.values\n",
        "\n",
        "  dv, model = train(df_train, y_train, os='SMOTE')\n",
        "  y_pred = predict(df_val, dv, model)\n",
        "\n",
        "  auc = roc_auc_score(y_val, y_pred)\n",
        "  scores_smote.append(auc)"
      ],
      "metadata": {
        "id": "wMveChUJ9jt5"
      },
      "execution_count": null,
      "outputs": []
    },
    {
      "cell_type": "code",
      "source": [
        "scores_smote"
      ],
      "metadata": {
        "colab": {
          "base_uri": "https://localhost:8080/"
        },
        "outputId": "96f12021-c663-4d71-a160-eb1ae3f34408",
        "id": "cdooOC3R9jt6"
      },
      "execution_count": null,
      "outputs": [
        {
          "output_type": "execute_result",
          "data": {
            "text/plain": [
              "[0.8157144310056172,\n",
              " 0.8106689969435068,\n",
              " 0.8526471195539955,\n",
              " 0.8363065181040048,\n",
              " 0.8367002486461259]"
            ]
          },
          "metadata": {},
          "execution_count": 665
        }
      ]
    },
    {
      "cell_type": "code",
      "source": [
        "print(f\"{np.mean(scores_smote).round(3)} +- {np.std(scores_smote).round(3)}\")"
      ],
      "metadata": {
        "colab": {
          "base_uri": "https://localhost:8080/"
        },
        "outputId": "bb696bfe-23cc-4337-a602-9f524dafe9ae",
        "id": "61OXOvoI9jt6"
      },
      "execution_count": null,
      "outputs": [
        {
          "output_type": "stream",
          "name": "stdout",
          "text": [
            "0.83 +- 0.015\n"
          ]
        }
      ]
    },
    {
      "cell_type": "markdown",
      "source": [
        "### ADASYN"
      ],
      "metadata": {
        "id": "bgKsw4vJp5id"
      }
    },
    {
      "cell_type": "code",
      "source": [
        "scores_adaysn = []\n",
        "\n",
        "for train_idx, val_idx in kfold.split(df_full_train):\n",
        "\n",
        "  df_train = df_full_train.iloc[train_idx]\n",
        "  df_val = df_full_train.iloc[val_idx]  \n",
        "\n",
        "  y_train = df_train.churn.values \n",
        "  y_val = df_val.churn.values\n",
        "\n",
        "  dv, model = train(df_train, y_train, os='ADAYSN')\n",
        "  y_pred = predict(df_val, dv, model)\n",
        "\n",
        "  auc = roc_auc_score(y_val, y_pred)\n",
        "  scores_adaysn.append(auc)"
      ],
      "metadata": {
        "id": "vsCNJztbBk50"
      },
      "execution_count": null,
      "outputs": []
    },
    {
      "cell_type": "code",
      "source": [
        "scores_adaysn"
      ],
      "metadata": {
        "colab": {
          "base_uri": "https://localhost:8080/"
        },
        "id": "iQM0EcRjB9WE",
        "outputId": "3271c3f1-0cdb-45cb-c08b-dc1c99ea2e54"
      },
      "execution_count": null,
      "outputs": [
        {
          "output_type": "execute_result",
          "data": {
            "text/plain": [
              "[0.808110106241492,\n",
              " 0.8064912574716496,\n",
              " 0.8530394383646501,\n",
              " 0.8312610718365592,\n",
              " 0.8377221922702437]"
            ]
          },
          "metadata": {},
          "execution_count": 668
        }
      ]
    },
    {
      "cell_type": "code",
      "source": [
        "print(f\"{np.mean(scores_adaysn).round(3)} +- {np.std(scores_adaysn).round(3)}\")"
      ],
      "metadata": {
        "colab": {
          "base_uri": "https://localhost:8080/"
        },
        "id": "oOEL862XBmRE",
        "outputId": "fe05a469-aaf1-4423-b20f-27fd9124754f"
      },
      "execution_count": null,
      "outputs": [
        {
          "output_type": "stream",
          "name": "stdout",
          "text": [
            "0.827 +- 0.018\n"
          ]
        }
      ]
    }
  ]
}